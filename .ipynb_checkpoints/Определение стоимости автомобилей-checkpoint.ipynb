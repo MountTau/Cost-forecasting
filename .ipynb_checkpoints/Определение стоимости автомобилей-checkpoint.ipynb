{
 "cells": [
  {
   "cell_type": "markdown",
   "metadata": {},
   "source": [
    "# Определение стоимости автомобилей"
   ]
  },
  {
   "cell_type": "markdown",
   "metadata": {},
   "source": [
    "Сервис по продаже автомобилей с пробегом «***» разрабатывает приложение для привлечения новых клиентов. В нём можно быстро узнать рыночную стоимость своего автомобиля. В вашем распоряжении исторические данные: технические характеристики, комплектации и цены автомобилей. Вам нужно построить модель для определения стоимости. \n",
    "\n",
    "Заказчику важны:\n",
    "\n",
    "- качество предсказания;\n",
    "- скорость предсказания;\n",
    "- время обучения."
   ]
  },
  {
   "cell_type": "markdown",
   "metadata": {},
   "source": [
    "## Подготовка данных"
   ]
  },
  {
   "cell_type": "code",
   "execution_count": 1,
   "metadata": {},
   "outputs": [],
   "source": [
    "# Импорт бибилиотек\n",
    "import numpy as np\n",
    "import pandas as pd\n",
    "import seaborn as sns\n",
    "import matplotlib.pyplot as plt\n",
    "import catboost as cb\n",
    "import lightgbm as lgb\n",
    "\n",
    "from catboost import CatBoostRegressor\n",
    "from catboost import  Pool\n",
    "from lightgbm import LGBMRegressor\n",
    "\n",
    "from sklearn.ensemble import RandomForestRegressor\n",
    "from sklearn.model_selection import train_test_split\n",
    "from sklearn.model_selection import GridSearchCV\n",
    "from sklearn.model_selection import RandomizedSearchCV\n",
    "\n",
    "from sklearn.preprocessing import OneHotEncoder\n",
    "from sklearn.preprocessing import StandardScaler\n",
    "from sklearn.preprocessing import OrdinalEncoder\n",
    "\n",
    "from sklearn.pipeline import Pipeline\n",
    "from sklearn.linear_model import LinearRegression\n",
    "from sklearn.metrics import mean_squared_error\n",
    "from sklearn.metrics import r2_score"
   ]
  },
  {
   "cell_type": "code",
   "execution_count": 2,
   "metadata": {},
   "outputs": [
    {
     "data": {
      "text/html": [
       "<div>\n",
       "<style scoped>\n",
       "    .dataframe tbody tr th:only-of-type {\n",
       "        vertical-align: middle;\n",
       "    }\n",
       "\n",
       "    .dataframe tbody tr th {\n",
       "        vertical-align: top;\n",
       "    }\n",
       "\n",
       "    .dataframe thead th {\n",
       "        text-align: right;\n",
       "    }\n",
       "</style>\n",
       "<table border=\"1\" class=\"dataframe\">\n",
       "  <thead>\n",
       "    <tr style=\"text-align: right;\">\n",
       "      <th></th>\n",
       "      <th>DateCrawled</th>\n",
       "      <th>Price</th>\n",
       "      <th>VehicleType</th>\n",
       "      <th>RegistrationYear</th>\n",
       "      <th>Gearbox</th>\n",
       "      <th>Power</th>\n",
       "      <th>Model</th>\n",
       "      <th>Kilometer</th>\n",
       "      <th>RegistrationMonth</th>\n",
       "      <th>FuelType</th>\n",
       "      <th>Brand</th>\n",
       "      <th>NotRepaired</th>\n",
       "      <th>DateCreated</th>\n",
       "      <th>NumberOfPictures</th>\n",
       "      <th>PostalCode</th>\n",
       "      <th>LastSeen</th>\n",
       "    </tr>\n",
       "  </thead>\n",
       "  <tbody>\n",
       "    <tr>\n",
       "      <th>0</th>\n",
       "      <td>2016-03-24 11:52:17</td>\n",
       "      <td>480</td>\n",
       "      <td>NaN</td>\n",
       "      <td>1993</td>\n",
       "      <td>manual</td>\n",
       "      <td>0</td>\n",
       "      <td>golf</td>\n",
       "      <td>150000</td>\n",
       "      <td>0</td>\n",
       "      <td>petrol</td>\n",
       "      <td>volkswagen</td>\n",
       "      <td>NaN</td>\n",
       "      <td>2016-03-24 00:00:00</td>\n",
       "      <td>0</td>\n",
       "      <td>70435</td>\n",
       "      <td>2016-04-07 03:16:57</td>\n",
       "    </tr>\n",
       "    <tr>\n",
       "      <th>1</th>\n",
       "      <td>2016-03-24 10:58:45</td>\n",
       "      <td>18300</td>\n",
       "      <td>coupe</td>\n",
       "      <td>2011</td>\n",
       "      <td>manual</td>\n",
       "      <td>190</td>\n",
       "      <td>NaN</td>\n",
       "      <td>125000</td>\n",
       "      <td>5</td>\n",
       "      <td>gasoline</td>\n",
       "      <td>audi</td>\n",
       "      <td>yes</td>\n",
       "      <td>2016-03-24 00:00:00</td>\n",
       "      <td>0</td>\n",
       "      <td>66954</td>\n",
       "      <td>2016-04-07 01:46:50</td>\n",
       "    </tr>\n",
       "    <tr>\n",
       "      <th>2</th>\n",
       "      <td>2016-03-14 12:52:21</td>\n",
       "      <td>9800</td>\n",
       "      <td>suv</td>\n",
       "      <td>2004</td>\n",
       "      <td>auto</td>\n",
       "      <td>163</td>\n",
       "      <td>grand</td>\n",
       "      <td>125000</td>\n",
       "      <td>8</td>\n",
       "      <td>gasoline</td>\n",
       "      <td>jeep</td>\n",
       "      <td>NaN</td>\n",
       "      <td>2016-03-14 00:00:00</td>\n",
       "      <td>0</td>\n",
       "      <td>90480</td>\n",
       "      <td>2016-04-05 12:47:46</td>\n",
       "    </tr>\n",
       "  </tbody>\n",
       "</table>\n",
       "</div>"
      ],
      "text/plain": [
       "           DateCrawled  Price VehicleType  RegistrationYear Gearbox  Power  \\\n",
       "0  2016-03-24 11:52:17    480         NaN              1993  manual      0   \n",
       "1  2016-03-24 10:58:45  18300       coupe              2011  manual    190   \n",
       "2  2016-03-14 12:52:21   9800         suv              2004    auto    163   \n",
       "\n",
       "   Model  Kilometer  RegistrationMonth  FuelType       Brand NotRepaired  \\\n",
       "0   golf     150000                  0    petrol  volkswagen         NaN   \n",
       "1    NaN     125000                  5  gasoline        audi         yes   \n",
       "2  grand     125000                  8  gasoline        jeep         NaN   \n",
       "\n",
       "           DateCreated  NumberOfPictures  PostalCode             LastSeen  \n",
       "0  2016-03-24 00:00:00                 0       70435  2016-04-07 03:16:57  \n",
       "1  2016-03-24 00:00:00                 0       66954  2016-04-07 01:46:50  \n",
       "2  2016-03-14 00:00:00                 0       90480  2016-04-05 12:47:46  "
      ]
     },
     "metadata": {},
     "output_type": "display_data"
    },
    {
     "name": "stdout",
     "output_type": "stream",
     "text": [
      "<class 'pandas.core.frame.DataFrame'>\n",
      "RangeIndex: 354369 entries, 0 to 354368\n",
      "Data columns (total 16 columns):\n",
      " #   Column             Non-Null Count   Dtype \n",
      "---  ------             --------------   ----- \n",
      " 0   DateCrawled        354369 non-null  object\n",
      " 1   Price              354369 non-null  int64 \n",
      " 2   VehicleType        316879 non-null  object\n",
      " 3   RegistrationYear   354369 non-null  int64 \n",
      " 4   Gearbox            334536 non-null  object\n",
      " 5   Power              354369 non-null  int64 \n",
      " 6   Model              334664 non-null  object\n",
      " 7   Kilometer          354369 non-null  int64 \n",
      " 8   RegistrationMonth  354369 non-null  int64 \n",
      " 9   FuelType           321474 non-null  object\n",
      " 10  Brand              354369 non-null  object\n",
      " 11  NotRepaired        283215 non-null  object\n",
      " 12  DateCreated        354369 non-null  object\n",
      " 13  NumberOfPictures   354369 non-null  int64 \n",
      " 14  PostalCode         354369 non-null  int64 \n",
      " 15  LastSeen           354369 non-null  object\n",
      "dtypes: int64(7), object(9)\n",
      "memory usage: 43.3+ MB\n"
     ]
    },
    {
     "data": {
      "text/plain": [
       "None"
      ]
     },
     "metadata": {},
     "output_type": "display_data"
    }
   ],
   "source": [
    "# Чтение файла и получение информации о нем\n",
    "df = pd.read_csv('/datasets/autos.csv')\n",
    "display(df.head(3))\n",
    "display(df.info())"
   ]
  },
  {
   "cell_type": "code",
   "execution_count": 3,
   "metadata": {
    "scrolled": true
   },
   "outputs": [
    {
     "data": {
      "text/plain": [
       "DateCrawled              0\n",
       "Price                    0\n",
       "VehicleType          37490\n",
       "RegistrationYear         0\n",
       "Gearbox              19833\n",
       "Power                    0\n",
       "Model                19705\n",
       "Kilometer                0\n",
       "RegistrationMonth        0\n",
       "FuelType             32895\n",
       "Brand                    0\n",
       "NotRepaired          71154\n",
       "DateCreated              0\n",
       "NumberOfPictures         0\n",
       "PostalCode               0\n",
       "LastSeen                 0\n",
       "dtype: int64"
      ]
     },
     "execution_count": 3,
     "metadata": {},
     "output_type": "execute_result"
    }
   ],
   "source": [
    "# Проверим на наличие пропусков\n",
    "df.isna().sum()"
   ]
  },
  {
   "cell_type": "markdown",
   "metadata": {},
   "source": [
    "Датафрейм содержит следующие признаки:\n",
    "- DateCrawled — дата скачивания анкеты из базы\n",
    "- VehicleType — тип автомобильного кузова\n",
    "- RegistrationYear — год регистрации автомобиля\n",
    "- Gearbox — тип коробки передач\n",
    "- Power — мощность (л. с.)\n",
    "- Model — модель автомобиля\n",
    "- Kilometer — пробег (км)\n",
    "- RegistrationMonth — месяц регистрации автомобиля\n",
    "- FuelType — тип топлива\n",
    "- Brand — марка автомобиля\n",
    "- NotRepaired — была машина в ремонте или нет\n",
    "- DateCreated — дата создания анкеты\n",
    "- NumberOfPictures — количество фотографий автомобиля\n",
    "- PostalCode — почтовый индекс владельца анкеты (пользователя)\n",
    "- LastSeen — дата последней активности пользователя\n",
    "\n",
    "Целевой признак:\n",
    "- Price — цена (евро)"
   ]
  },
  {
   "cell_type": "code",
   "execution_count": 4,
   "metadata": {
    "scrolled": false
   },
   "outputs": [
    {
     "data": {
      "text/html": [
       "<div>\n",
       "<style scoped>\n",
       "    .dataframe tbody tr th:only-of-type {\n",
       "        vertical-align: middle;\n",
       "    }\n",
       "\n",
       "    .dataframe tbody tr th {\n",
       "        vertical-align: top;\n",
       "    }\n",
       "\n",
       "    .dataframe thead th {\n",
       "        text-align: right;\n",
       "    }\n",
       "</style>\n",
       "<table border=\"1\" class=\"dataframe\">\n",
       "  <thead>\n",
       "    <tr style=\"text-align: right;\">\n",
       "      <th></th>\n",
       "      <th>Price</th>\n",
       "      <th>RegistrationYear</th>\n",
       "      <th>Power</th>\n",
       "      <th>Kilometer</th>\n",
       "      <th>RegistrationMonth</th>\n",
       "      <th>NumberOfPictures</th>\n",
       "      <th>PostalCode</th>\n",
       "    </tr>\n",
       "  </thead>\n",
       "  <tbody>\n",
       "    <tr>\n",
       "      <th>count</th>\n",
       "      <td>354369.000000</td>\n",
       "      <td>354369.000000</td>\n",
       "      <td>354369.000000</td>\n",
       "      <td>354369.000000</td>\n",
       "      <td>354369.000000</td>\n",
       "      <td>354369.0</td>\n",
       "      <td>354369.000000</td>\n",
       "    </tr>\n",
       "    <tr>\n",
       "      <th>mean</th>\n",
       "      <td>4416.656776</td>\n",
       "      <td>2004.234448</td>\n",
       "      <td>110.094337</td>\n",
       "      <td>128211.172535</td>\n",
       "      <td>5.714645</td>\n",
       "      <td>0.0</td>\n",
       "      <td>50508.689087</td>\n",
       "    </tr>\n",
       "    <tr>\n",
       "      <th>std</th>\n",
       "      <td>4514.158514</td>\n",
       "      <td>90.227958</td>\n",
       "      <td>189.850405</td>\n",
       "      <td>37905.341530</td>\n",
       "      <td>3.726421</td>\n",
       "      <td>0.0</td>\n",
       "      <td>25783.096248</td>\n",
       "    </tr>\n",
       "    <tr>\n",
       "      <th>min</th>\n",
       "      <td>0.000000</td>\n",
       "      <td>1000.000000</td>\n",
       "      <td>0.000000</td>\n",
       "      <td>5000.000000</td>\n",
       "      <td>0.000000</td>\n",
       "      <td>0.0</td>\n",
       "      <td>1067.000000</td>\n",
       "    </tr>\n",
       "    <tr>\n",
       "      <th>25%</th>\n",
       "      <td>1050.000000</td>\n",
       "      <td>1999.000000</td>\n",
       "      <td>69.000000</td>\n",
       "      <td>125000.000000</td>\n",
       "      <td>3.000000</td>\n",
       "      <td>0.0</td>\n",
       "      <td>30165.000000</td>\n",
       "    </tr>\n",
       "    <tr>\n",
       "      <th>50%</th>\n",
       "      <td>2700.000000</td>\n",
       "      <td>2003.000000</td>\n",
       "      <td>105.000000</td>\n",
       "      <td>150000.000000</td>\n",
       "      <td>6.000000</td>\n",
       "      <td>0.0</td>\n",
       "      <td>49413.000000</td>\n",
       "    </tr>\n",
       "    <tr>\n",
       "      <th>75%</th>\n",
       "      <td>6400.000000</td>\n",
       "      <td>2008.000000</td>\n",
       "      <td>143.000000</td>\n",
       "      <td>150000.000000</td>\n",
       "      <td>9.000000</td>\n",
       "      <td>0.0</td>\n",
       "      <td>71083.000000</td>\n",
       "    </tr>\n",
       "    <tr>\n",
       "      <th>max</th>\n",
       "      <td>20000.000000</td>\n",
       "      <td>9999.000000</td>\n",
       "      <td>20000.000000</td>\n",
       "      <td>150000.000000</td>\n",
       "      <td>12.000000</td>\n",
       "      <td>0.0</td>\n",
       "      <td>99998.000000</td>\n",
       "    </tr>\n",
       "  </tbody>\n",
       "</table>\n",
       "</div>"
      ],
      "text/plain": [
       "               Price  RegistrationYear          Power      Kilometer  \\\n",
       "count  354369.000000     354369.000000  354369.000000  354369.000000   \n",
       "mean     4416.656776       2004.234448     110.094337  128211.172535   \n",
       "std      4514.158514         90.227958     189.850405   37905.341530   \n",
       "min         0.000000       1000.000000       0.000000    5000.000000   \n",
       "25%      1050.000000       1999.000000      69.000000  125000.000000   \n",
       "50%      2700.000000       2003.000000     105.000000  150000.000000   \n",
       "75%      6400.000000       2008.000000     143.000000  150000.000000   \n",
       "max     20000.000000       9999.000000   20000.000000  150000.000000   \n",
       "\n",
       "       RegistrationMonth  NumberOfPictures     PostalCode  \n",
       "count      354369.000000          354369.0  354369.000000  \n",
       "mean            5.714645               0.0   50508.689087  \n",
       "std             3.726421               0.0   25783.096248  \n",
       "min             0.000000               0.0    1067.000000  \n",
       "25%             3.000000               0.0   30165.000000  \n",
       "50%             6.000000               0.0   49413.000000  \n",
       "75%             9.000000               0.0   71083.000000  \n",
       "max            12.000000               0.0   99998.000000  "
      ]
     },
     "execution_count": 4,
     "metadata": {},
     "output_type": "execute_result"
    }
   ],
   "source": [
    "# Посмотрим на числовые характеристики датафрейма\n",
    "df.describe()"
   ]
  },
  {
   "cell_type": "markdown",
   "metadata": {},
   "source": [
    "Численные признаки содержат следующие неадекватные данные:\n",
    "- минимальное значение в столбце Price 0, что не может быть;\n",
    "- столбец RegistrationYear содержит сведения о регистрации авто 1000 году;\n",
    "- мощность автомобилей от 0 до 20000 л.с., что не соответствует действительности;\n",
    "- месяц регистрации авто не может быть равным 0;\n",
    "- в столбце NumberOfPictures все значения равны 0, удалим его."
   ]
  },
  {
   "cell_type": "markdown",
   "metadata": {},
   "source": [
    "Посмотрим на уникальные значения столбцов VehicleType, Gearbox, FuelType, NotRepaired"
   ]
  },
  {
   "cell_type": "code",
   "execution_count": 5,
   "metadata": {},
   "outputs": [
    {
     "data": {
      "image/png": "[encoded data removed]",
      "text/plain": [
       "<Figure size 648x648 with 1 Axes>"
      ]
     },
     "metadata": {},
     "output_type": "display_data"
    }
   ],
   "source": [
    "df['VehicleType'].value_counts().plot(figsize=(9,9), kind='pie', autopct='%1.1f%%')\n",
    "plt.title('Диаграмма распределения типа автомобильного кузова')\n",
    "plt.xlabel('')\n",
    "plt.ylabel('')\n",
    "plt.legend([])\n",
    "plt.show()"
   ]
  },
  {
   "cell_type": "code",
   "execution_count": 6,
   "metadata": {},
   "outputs": [
    {
     "data": {
      "image/png": "[encoded data removed]",
      "text/plain": [
       "<Figure size 1080x432 with 1 Axes>"
      ]
     },
     "metadata": {},
     "output_type": "display_data"
    }
   ],
   "source": [
    "df['Gearbox'].value_counts().plot(figsize=(15,6), kind='pie', autopct='%1.1f%%')\n",
    "plt.title('Диаграмма распределения типа коробки передач')\n",
    "plt.xlabel('')\n",
    "plt.ylabel('')\n",
    "plt.show()"
   ]
  },
  {
   "cell_type": "code",
   "execution_count": 7,
   "metadata": {
    "scrolled": false
   },
   "outputs": [
    {
     "data": {
      "image/png": "[encoded data removed]",
      "text/plain": [
       "<Figure size 1080x432 with 1 Axes>"
      ]
     },
     "metadata": {
      "needs_background": "light"
     },
     "output_type": "display_data"
    }
   ],
   "source": [
    "df['FuelType'].value_counts().plot(figsize=(15,6), kind='bar')\n",
    "plt.title('Гистограмма распределения типа используемого топлива')\n",
    "plt.xlabel('Типа топлива')\n",
    "plt.ylabel('Количество анкет')\n",
    "plt.legend([])\n",
    "plt.show()"
   ]
  },
  {
   "cell_type": "code",
   "execution_count": 8,
   "metadata": {},
   "outputs": [
    {
     "data": {
      "image/png": "[encoded data removed]",
      "text/plain": [
       "<Figure size 504x504 with 1 Axes>"
      ]
     },
     "metadata": {},
     "output_type": "display_data"
    }
   ],
   "source": [
    "df['NotRepaired'].value_counts().plot(figsize=(7,7), kind='pie', autopct='%1.1f%%')\n",
    "plt.title('Диаграмма распределения повреждений машин')\n",
    "plt.xlabel('')\n",
    "plt.ylabel('')\n",
    "plt.show()"
   ]
  },
  {
   "cell_type": "code",
   "execution_count": 9,
   "metadata": {
    "scrolled": false
   },
   "outputs": [
    {
     "data": {
      "text/html": [
       "<div>\n",
       "<style scoped>\n",
       "    .dataframe tbody tr th:only-of-type {\n",
       "        vertical-align: middle;\n",
       "    }\n",
       "\n",
       "    .dataframe tbody tr th {\n",
       "        vertical-align: top;\n",
       "    }\n",
       "\n",
       "    .dataframe thead th {\n",
       "        text-align: right;\n",
       "    }\n",
       "</style>\n",
       "<table border=\"1\" class=\"dataframe\">\n",
       "  <thead>\n",
       "    <tr style=\"text-align: right;\">\n",
       "      <th></th>\n",
       "      <th>Price</th>\n",
       "      <th>RegistrationYear</th>\n",
       "      <th>Power</th>\n",
       "      <th>Kilometer</th>\n",
       "      <th>RegistrationMonth</th>\n",
       "      <th>NumberOfPictures</th>\n",
       "      <th>PostalCode</th>\n",
       "    </tr>\n",
       "  </thead>\n",
       "  <tbody>\n",
       "    <tr>\n",
       "      <th>Price</th>\n",
       "      <td>1.000000</td>\n",
       "      <td>0.026916</td>\n",
       "      <td>0.158872</td>\n",
       "      <td>-0.333199</td>\n",
       "      <td>0.110581</td>\n",
       "      <td>NaN</td>\n",
       "      <td>0.076055</td>\n",
       "    </tr>\n",
       "    <tr>\n",
       "      <th>RegistrationYear</th>\n",
       "      <td>0.026916</td>\n",
       "      <td>1.000000</td>\n",
       "      <td>-0.000828</td>\n",
       "      <td>-0.053447</td>\n",
       "      <td>-0.011619</td>\n",
       "      <td>NaN</td>\n",
       "      <td>-0.003459</td>\n",
       "    </tr>\n",
       "    <tr>\n",
       "      <th>Power</th>\n",
       "      <td>0.158872</td>\n",
       "      <td>-0.000828</td>\n",
       "      <td>1.000000</td>\n",
       "      <td>0.024002</td>\n",
       "      <td>0.043380</td>\n",
       "      <td>NaN</td>\n",
       "      <td>0.021665</td>\n",
       "    </tr>\n",
       "    <tr>\n",
       "      <th>Kilometer</th>\n",
       "      <td>-0.333199</td>\n",
       "      <td>-0.053447</td>\n",
       "      <td>0.024002</td>\n",
       "      <td>1.000000</td>\n",
       "      <td>0.009571</td>\n",
       "      <td>NaN</td>\n",
       "      <td>-0.007698</td>\n",
       "    </tr>\n",
       "    <tr>\n",
       "      <th>RegistrationMonth</th>\n",
       "      <td>0.110581</td>\n",
       "      <td>-0.011619</td>\n",
       "      <td>0.043380</td>\n",
       "      <td>0.009571</td>\n",
       "      <td>1.000000</td>\n",
       "      <td>NaN</td>\n",
       "      <td>0.013995</td>\n",
       "    </tr>\n",
       "    <tr>\n",
       "      <th>NumberOfPictures</th>\n",
       "      <td>NaN</td>\n",
       "      <td>NaN</td>\n",
       "      <td>NaN</td>\n",
       "      <td>NaN</td>\n",
       "      <td>NaN</td>\n",
       "      <td>NaN</td>\n",
       "      <td>NaN</td>\n",
       "    </tr>\n",
       "    <tr>\n",
       "      <th>PostalCode</th>\n",
       "      <td>0.076055</td>\n",
       "      <td>-0.003459</td>\n",
       "      <td>0.021665</td>\n",
       "      <td>-0.007698</td>\n",
       "      <td>0.013995</td>\n",
       "      <td>NaN</td>\n",
       "      <td>1.000000</td>\n",
       "    </tr>\n",
       "  </tbody>\n",
       "</table>\n",
       "</div>"
      ],
      "text/plain": [
       "                      Price  RegistrationYear     Power  Kilometer  \\\n",
       "Price              1.000000          0.026916  0.158872  -0.333199   \n",
       "RegistrationYear   0.026916          1.000000 -0.000828  -0.053447   \n",
       "Power              0.158872         -0.000828  1.000000   0.024002   \n",
       "Kilometer         -0.333199         -0.053447  0.024002   1.000000   \n",
       "RegistrationMonth  0.110581         -0.011619  0.043380   0.009571   \n",
       "NumberOfPictures        NaN               NaN       NaN        NaN   \n",
       "PostalCode         0.076055         -0.003459  0.021665  -0.007698   \n",
       "\n",
       "                   RegistrationMonth  NumberOfPictures  PostalCode  \n",
       "Price                       0.110581               NaN    0.076055  \n",
       "RegistrationYear           -0.011619               NaN   -0.003459  \n",
       "Power                       0.043380               NaN    0.021665  \n",
       "Kilometer                   0.009571               NaN   -0.007698  \n",
       "RegistrationMonth           1.000000               NaN    0.013995  \n",
       "NumberOfPictures                 NaN               NaN         NaN  \n",
       "PostalCode                  0.013995               NaN    1.000000  "
      ]
     },
     "execution_count": 9,
     "metadata": {},
     "output_type": "execute_result"
    }
   ],
   "source": [
    "df.corr()"
   ]
  },
  {
   "cell_type": "markdown",
   "metadata": {},
   "source": [
    "Так как пропуски соджержатся в столбцах с категорийными признаками и количество пропусков в некоторых столбцах достигает 20%, удалять такие данные нельзя, так как потеряем существенную часть данных. Заменим пропуски на наиболее часто встречающиеся данные."
   ]
  },
  {
   "cell_type": "code",
   "execution_count": 10,
   "metadata": {},
   "outputs": [],
   "source": [
    "# Заменим пропуски на наиболее часто встречающиеся значения\n",
    "isn = ['VehicleType', 'Gearbox', 'Model', 'FuelType', 'NotRepaired']\n",
    "for i in df[isn]:\n",
    "    df[i] = df[i].fillna(df[i].mode().values[0])   "
   ]
  },
  {
   "cell_type": "code",
   "execution_count": 11,
   "metadata": {
    "scrolled": true
   },
   "outputs": [
    {
     "data": {
      "text/plain": [
       "DateCrawled          0\n",
       "Price                0\n",
       "VehicleType          0\n",
       "RegistrationYear     0\n",
       "Gearbox              0\n",
       "Power                0\n",
       "Model                0\n",
       "Kilometer            0\n",
       "RegistrationMonth    0\n",
       "FuelType             0\n",
       "Brand                0\n",
       "NotRepaired          0\n",
       "DateCreated          0\n",
       "NumberOfPictures     0\n",
       "PostalCode           0\n",
       "LastSeen             0\n",
       "dtype: int64"
      ]
     },
     "execution_count": 11,
     "metadata": {},
     "output_type": "execute_result"
    }
   ],
   "source": [
    "# Проверим заполнение пропусков\n",
    "df.isna().sum()"
   ]
  },
  {
   "cell_type": "code",
   "execution_count": 12,
   "metadata": {},
   "outputs": [
    {
     "data": {
      "text/plain": [
       "5"
      ]
     },
     "execution_count": 12,
     "metadata": {},
     "output_type": "execute_result"
    }
   ],
   "source": [
    "# Проверим на наличие дубликатов\n",
    "df.duplicated().sum()"
   ]
  },
  {
   "cell_type": "code",
   "execution_count": 13,
   "metadata": {
    "scrolled": false
   },
   "outputs": [
    {
     "data": {
      "text/html": [
       "<div>\n",
       "<style scoped>\n",
       "    .dataframe tbody tr th:only-of-type {\n",
       "        vertical-align: middle;\n",
       "    }\n",
       "\n",
       "    .dataframe tbody tr th {\n",
       "        vertical-align: top;\n",
       "    }\n",
       "\n",
       "    .dataframe thead th {\n",
       "        text-align: right;\n",
       "    }\n",
       "</style>\n",
       "<table border=\"1\" class=\"dataframe\">\n",
       "  <thead>\n",
       "    <tr style=\"text-align: right;\">\n",
       "      <th></th>\n",
       "      <th>DateCrawled</th>\n",
       "      <th>Price</th>\n",
       "      <th>VehicleType</th>\n",
       "      <th>RegistrationYear</th>\n",
       "      <th>Gearbox</th>\n",
       "      <th>Power</th>\n",
       "      <th>Model</th>\n",
       "      <th>Kilometer</th>\n",
       "      <th>RegistrationMonth</th>\n",
       "      <th>FuelType</th>\n",
       "      <th>Brand</th>\n",
       "      <th>NotRepaired</th>\n",
       "      <th>DateCreated</th>\n",
       "      <th>NumberOfPictures</th>\n",
       "      <th>PostalCode</th>\n",
       "      <th>LastSeen</th>\n",
       "    </tr>\n",
       "  </thead>\n",
       "  <tbody>\n",
       "    <tr>\n",
       "      <th>41529</th>\n",
       "      <td>2016-03-18 18:46:15</td>\n",
       "      <td>1999</td>\n",
       "      <td>wagon</td>\n",
       "      <td>2001</td>\n",
       "      <td>manual</td>\n",
       "      <td>131</td>\n",
       "      <td>passat</td>\n",
       "      <td>150000</td>\n",
       "      <td>7</td>\n",
       "      <td>gasoline</td>\n",
       "      <td>volkswagen</td>\n",
       "      <td>no</td>\n",
       "      <td>2016-03-18 00:00:00</td>\n",
       "      <td>0</td>\n",
       "      <td>36391</td>\n",
       "      <td>2016-03-18 18:46:15</td>\n",
       "    </tr>\n",
       "    <tr>\n",
       "      <th>325651</th>\n",
       "      <td>2016-03-18 18:46:15</td>\n",
       "      <td>1999</td>\n",
       "      <td>wagon</td>\n",
       "      <td>2001</td>\n",
       "      <td>manual</td>\n",
       "      <td>131</td>\n",
       "      <td>passat</td>\n",
       "      <td>150000</td>\n",
       "      <td>7</td>\n",
       "      <td>gasoline</td>\n",
       "      <td>volkswagen</td>\n",
       "      <td>no</td>\n",
       "      <td>2016-03-18 00:00:00</td>\n",
       "      <td>0</td>\n",
       "      <td>36391</td>\n",
       "      <td>2016-03-18 18:46:15</td>\n",
       "    </tr>\n",
       "    <tr>\n",
       "      <th>189060</th>\n",
       "      <td>2016-04-04 22:50:44</td>\n",
       "      <td>13000</td>\n",
       "      <td>sedan</td>\n",
       "      <td>2008</td>\n",
       "      <td>manual</td>\n",
       "      <td>143</td>\n",
       "      <td>a4</td>\n",
       "      <td>125000</td>\n",
       "      <td>9</td>\n",
       "      <td>gasoline</td>\n",
       "      <td>audi</td>\n",
       "      <td>no</td>\n",
       "      <td>2016-04-04 00:00:00</td>\n",
       "      <td>0</td>\n",
       "      <td>65428</td>\n",
       "      <td>2016-04-05 12:30:14</td>\n",
       "    </tr>\n",
       "  </tbody>\n",
       "</table>\n",
       "</div>"
      ],
      "text/plain": [
       "                DateCrawled  Price VehicleType  RegistrationYear Gearbox  \\\n",
       "41529   2016-03-18 18:46:15   1999       wagon              2001  manual   \n",
       "325651  2016-03-18 18:46:15   1999       wagon              2001  manual   \n",
       "189060  2016-04-04 22:50:44  13000       sedan              2008  manual   \n",
       "\n",
       "        Power   Model  Kilometer  RegistrationMonth  FuelType       Brand  \\\n",
       "41529     131  passat     150000                  7  gasoline  volkswagen   \n",
       "325651    131  passat     150000                  7  gasoline  volkswagen   \n",
       "189060    143      a4     125000                  9  gasoline        audi   \n",
       "\n",
       "       NotRepaired          DateCreated  NumberOfPictures  PostalCode  \\\n",
       "41529           no  2016-03-18 00:00:00                 0       36391   \n",
       "325651          no  2016-03-18 00:00:00                 0       36391   \n",
       "189060          no  2016-04-04 00:00:00                 0       65428   \n",
       "\n",
       "                   LastSeen  \n",
       "41529   2016-03-18 18:46:15  \n",
       "325651  2016-03-18 18:46:15  \n",
       "189060  2016-04-05 12:30:14  "
      ]
     },
     "execution_count": 13,
     "metadata": {},
     "output_type": "execute_result"
    }
   ],
   "source": [
    "# Посмотрим на дубликаты, отсортируем по значению столбца \"PostalCode\"\n",
    "df[df.duplicated(keep=False)].sort_values('PostalCode').head(3)"
   ]
  },
  {
   "cell_type": "code",
   "execution_count": 14,
   "metadata": {},
   "outputs": [
    {
     "data": {
      "text/plain": [
       "0"
      ]
     },
     "execution_count": 14,
     "metadata": {},
     "output_type": "execute_result"
    }
   ],
   "source": [
    "# Удалим дублткаты\n",
    "df = df.drop_duplicates()\n",
    "df.duplicated().sum()"
   ]
  },
  {
   "cell_type": "markdown",
   "metadata": {},
   "source": [
    "Удалим столбцы, которые не играют значения при ценообразовании:\n",
    "- DateCrawled — дата скачивания анкеты из базы;\n",
    "- DateCreated — дата создания анкеты;\n",
    "- PostalCode — почтовый индекс владельца анкеты (пользователя);\n",
    "- LastSeen — дата последней активности пользователя;\n",
    "- NumberOfPictures - — количество фотографий автомобиля.\n"
   ]
  },
  {
   "cell_type": "code",
   "execution_count": 15,
   "metadata": {},
   "outputs": [],
   "source": [
    "df = df.drop(['DateCrawled', 'DateCreated', 'LastSeen', 'NumberOfPictures', 'PostalCode'],axis = 1)"
   ]
  },
  {
   "cell_type": "markdown",
   "metadata": {},
   "source": [
    "Проанализируем значения числовых признаков перед применения к ним алгоритма очитки выбросов.\n",
    "\n",
    "1. Можно заметить, что в столбце RegistrationYear присутствуют аномальные значения, предлагаю установить границы, в котором может находится значение этого столбца. А именно, год регистрации не может быть больше 2022, и не может быть меньше 1894 (год выхода первого серийного автомобиля). Все показания выше или ниже этих значений приведем к максимальной или минимальной границе (признак не нуждается в поиске выбросов)\n",
    "\n",
    "2. Можно заметить, что в столбце RegistrationMonth, встречается значение 0, которое корректнее было бы изменить на 1 (признак не нуждается в поиске выбросов)\n",
    "\n",
    "3. Так же в Power присутствуют аномальные значения (20 000 лошадиных сил). Признак нуждается в поиске выбросов.\n",
    "\n",
    "4. Столбец Kilometer имеет достаточно реальные значения, поэтому смысла искать там выбросы нет (признак не нуждается в поиске выбросов)\n",
    "\n",
    "5. Значения из столбца Price имеют достаточно реальные значения, поэтому смысла искать там выбросы нет (признак не нуждается в поиске выбросов)"
   ]
  },
  {
   "cell_type": "code",
   "execution_count": 16,
   "metadata": {},
   "outputs": [
    {
     "data": {
      "text/plain": [
       "<AxesSubplot:>"
      ]
     },
     "execution_count": 16,
     "metadata": {},
     "output_type": "execute_result"
    },
    {
     "data": {
      "image/png": "[encoded data removed]",
      "text/plain": [
       "<Figure size 432x288 with 1 Axes>"
      ]
     },
     "metadata": {
      "needs_background": "light"
     },
     "output_type": "display_data"
    }
   ],
   "source": [
    "# Исследуем распределение дат регистрации авто\n",
    "df['RegistrationYear'].hist(range=(1900, 1970))"
   ]
  },
  {
   "cell_type": "code",
   "execution_count": 17,
   "metadata": {},
   "outputs": [
    {
     "data": {
      "text/plain": [
       "183"
      ]
     },
     "execution_count": 17,
     "metadata": {},
     "output_type": "execute_result"
    }
   ],
   "source": [
    "df[df['RegistrationYear'] < 1930]['RegistrationYear'].count()"
   ]
  },
  {
   "cell_type": "code",
   "execution_count": 18,
   "metadata": {},
   "outputs": [],
   "source": [
    "# Заменим значения в столбце RegistrationYear, ограничимся 1930-2022 гг. \n",
    "def Balance_RegistrationYear(value):\n",
    "    if value > 2022:\n",
    "        return 2022\n",
    "    elif value < 1930:\n",
    "        return 1930\n",
    "    else:\n",
    "        return value\n",
    "df['RegistrationYear'] = df['RegistrationYear'].apply(Balance_RegistrationYear)"
   ]
  },
  {
   "cell_type": "code",
   "execution_count": 19,
   "metadata": {},
   "outputs": [],
   "source": [
    "# Заменим значения в столбце RegistrationMonth\n",
    "df.loc[df['RegistrationMonth'] == 0, 'RegistrationMonth'] = 1"
   ]
  },
  {
   "cell_type": "markdown",
   "metadata": {},
   "source": [
    "**Исследуем столбец Price**. Медиана в районе 2500 , среднее выше 4400 и очень много цен в районе 0. Цена не может быть равной 0. Заполнять таргет данными на основе других столбцов - плохая идея, поэтому будем удалять. Цена равная 0 на самом деле может быть, допустим если авто на метеллалом или просто хотят, чтобы его забрали, но это очень малая доля, поэтому избавимся от таких значений. "
   ]
  },
  {
   "cell_type": "code",
   "execution_count": 20,
   "metadata": {
    "scrolled": true
   },
   "outputs": [
    {
     "data": {
      "text/plain": [
       "4416.655608357508"
      ]
     },
     "execution_count": 20,
     "metadata": {},
     "output_type": "execute_result"
    },
    {
     "data": {
      "image/png": "[encoded data removed]",
      "text/plain": [
       "<Figure size 432x288 with 1 Axes>"
      ]
     },
     "metadata": {
      "needs_background": "light"
     },
     "output_type": "display_data"
    }
   ],
   "source": [
    "# Посмотрим диаграмму размаха для столбца Price\n",
    "sns.boxplot(x=df['Price'])\n",
    "df['Price'].mean()"
   ]
  },
  {
   "cell_type": "code",
   "execution_count": 21,
   "metadata": {},
   "outputs": [
    {
     "name": "stderr",
     "output_type": "stream",
     "text": [
      "/opt/conda/lib/python3.9/site-packages/seaborn/distributions.py:2557: FutureWarning: `distplot` is a deprecated function and will be removed in a future version. Please adapt your code to use either `displot` (a figure-level function with similar flexibility) or `histplot` (an axes-level function for histograms).\n",
      "  warnings.warn(msg, FutureWarning)\n"
     ]
    },
    {
     "data": {
      "text/plain": [
       "<AxesSubplot:xlabel='Price', ylabel='Density'>"
      ]
     },
     "execution_count": 21,
     "metadata": {},
     "output_type": "execute_result"
    },
    {
     "data": {
      "image/png": "[encoded data removed]",
      "text/plain": [
       "<Figure size 432x288 with 1 Axes>"
      ]
     },
     "metadata": {
      "needs_background": "light"
     },
     "output_type": "display_data"
    }
   ],
   "source": [
    "sns.distplot(df['Price'])"
   ]
  },
  {
   "cell_type": "code",
   "execution_count": 22,
   "metadata": {},
   "outputs": [
    {
     "data": {
      "image/png": "[encoded data removed]",
      "text/plain": [
       "<Figure size 432x288 with 1 Axes>"
      ]
     },
     "metadata": {
      "needs_background": "light"
     },
     "output_type": "display_data"
    },
    {
     "data": {
      "image/png": "[encoded data removed]",
      "text/plain": [
       "<Figure size 432x288 with 1 Axes>"
      ]
     },
     "metadata": {
      "needs_background": "light"
     },
     "output_type": "display_data"
    },
    {
     "data": {
      "text/plain": [
       "<AxesSubplot:>"
      ]
     },
     "execution_count": 22,
     "metadata": {},
     "output_type": "execute_result"
    },
    {
     "data": {
      "image/png": "[encoded data removed]",
      "text/plain": [
       "<Figure size 432x288 with 1 Axes>"
      ]
     },
     "metadata": {
      "needs_background": "light"
     },
     "output_type": "display_data"
    }
   ],
   "source": [
    "# Посмотрим распределение значений\n",
    "df['Price'].hist(range=(0, 100))\n",
    "plt.show()\n",
    "df['Price'].hist(range=(0, 500))\n",
    "plt.show()\n",
    "df['Price'].hist(range=(15000, 20000))"
   ]
  },
  {
   "cell_type": "code",
   "execution_count": 23,
   "metadata": {},
   "outputs": [
    {
     "data": {
      "text/plain": [
       "3.7571536612071204"
      ]
     },
     "execution_count": 23,
     "metadata": {},
     "output_type": "execute_result"
    }
   ],
   "source": [
    "# Определим количество данных со значением < 100\n",
    "df.query('Price < 100').shape[0] / df.shape[0] * 100"
   ]
  },
  {
   "cell_type": "markdown",
   "metadata": {},
   "source": [
    "Данных в столбце Price со значением менее 100 около 4%, поэтому удалим эти данные. "
   ]
  },
  {
   "cell_type": "code",
   "execution_count": 24,
   "metadata": {},
   "outputs": [],
   "source": [
    "# Удалим строки со значением Price < 100  \n",
    "df = df.drop(df.query('Price < 100').index)"
   ]
  },
  {
   "cell_type": "markdown",
   "metadata": {},
   "source": [
    "**Исследуем столбец Power**."
   ]
  },
  {
   "cell_type": "code",
   "execution_count": 25,
   "metadata": {
    "scrolled": false
   },
   "outputs": [
    {
     "data": {
      "image/png": "[encoded data removed]",
      "text/plain": [
       "<Figure size 432x288 with 1 Axes>"
      ]
     },
     "metadata": {
      "needs_background": "light"
     },
     "output_type": "display_data"
    },
    {
     "data": {
      "image/png": "[encoded data removed]",
      "text/plain": [
       "<Figure size 432x288 with 1 Axes>"
      ]
     },
     "metadata": {
      "needs_background": "light"
     },
     "output_type": "display_data"
    },
    {
     "data": {
      "text/plain": [
       "<AxesSubplot:>"
      ]
     },
     "execution_count": 25,
     "metadata": {},
     "output_type": "execute_result"
    },
    {
     "data": {
      "image/png": "[encoded data removed]",
      "text/plain": [
       "<Figure size 432x288 with 1 Axes>"
      ]
     },
     "metadata": {
      "needs_background": "light"
     },
     "output_type": "display_data"
    }
   ],
   "source": [
    "df['Power'].hist()\n",
    "plt.show()\n",
    "df['Power'].hist(range=(0, 100))\n",
    "plt.show()\n",
    "df['Power'].hist(range=(0, 500))"
   ]
  },
  {
   "cell_type": "code",
   "execution_count": 26,
   "metadata": {
    "scrolled": false
   },
   "outputs": [
    {
     "data": {
      "text/plain": [
       "16.91130332795778"
      ]
     },
     "execution_count": 26,
     "metadata": {},
     "output_type": "execute_result"
    },
    {
     "data": {
      "image/png": "[encoded data removed]",
      "text/plain": [
       "<Figure size 432x288 with 1 Axes>"
      ]
     },
     "metadata": {
      "needs_background": "light"
     },
     "output_type": "display_data"
    }
   ],
   "source": [
    "# Посмотрим на авто с мощностью менее 60\n",
    "df_60 = df.query('Power < 60')\n",
    "df_60['RegistrationYear'].hist()\n",
    "df_60.shape[0] / df.shape[0] * 100"
   ]
  },
  {
   "cell_type": "code",
   "execution_count": 27,
   "metadata": {
    "scrolled": false
   },
   "outputs": [
    {
     "data": {
      "text/plain": [
       "6.3269315349655475"
      ]
     },
     "execution_count": 27,
     "metadata": {},
     "output_type": "execute_result"
    },
    {
     "data": {
      "image/png": "[encoded data removed]",
      "text/plain": [
       "<Figure size 432x288 with 1 Axes>"
      ]
     },
     "metadata": {
      "needs_background": "light"
     },
     "output_type": "display_data"
    }
   ],
   "source": [
    "df_200_400 = df.query('Power < 400 and Power > 200')\n",
    "df_200_400['RegistrationYear'].hist()\n",
    "df_200_400.shape[0] / df.shape[0] * 100"
   ]
  },
  {
   "cell_type": "code",
   "execution_count": 28,
   "metadata": {},
   "outputs": [
    {
     "data": {
      "text/html": [
       "<div>\n",
       "<style scoped>\n",
       "    .dataframe tbody tr th:only-of-type {\n",
       "        vertical-align: middle;\n",
       "    }\n",
       "\n",
       "    .dataframe tbody tr th {\n",
       "        vertical-align: top;\n",
       "    }\n",
       "\n",
       "    .dataframe thead th {\n",
       "        text-align: right;\n",
       "    }\n",
       "</style>\n",
       "<table border=\"1\" class=\"dataframe\">\n",
       "  <thead>\n",
       "    <tr style=\"text-align: right;\">\n",
       "      <th></th>\n",
       "      <th>Price</th>\n",
       "      <th>VehicleType</th>\n",
       "      <th>RegistrationYear</th>\n",
       "      <th>Gearbox</th>\n",
       "      <th>Power</th>\n",
       "      <th>Model</th>\n",
       "      <th>Kilometer</th>\n",
       "      <th>RegistrationMonth</th>\n",
       "      <th>FuelType</th>\n",
       "      <th>Brand</th>\n",
       "      <th>NotRepaired</th>\n",
       "    </tr>\n",
       "  </thead>\n",
       "  <tbody>\n",
       "    <tr>\n",
       "      <th>1816</th>\n",
       "      <td>3200</td>\n",
       "      <td>small</td>\n",
       "      <td>2004</td>\n",
       "      <td>manual</td>\n",
       "      <td>1398</td>\n",
       "      <td>corolla</td>\n",
       "      <td>5000</td>\n",
       "      <td>6</td>\n",
       "      <td>petrol</td>\n",
       "      <td>toyota</td>\n",
       "      <td>no</td>\n",
       "    </tr>\n",
       "    <tr>\n",
       "      <th>2781</th>\n",
       "      <td>19500</td>\n",
       "      <td>suv</td>\n",
       "      <td>2004</td>\n",
       "      <td>auto</td>\n",
       "      <td>450</td>\n",
       "      <td>cayenne</td>\n",
       "      <td>125000</td>\n",
       "      <td>12</td>\n",
       "      <td>petrol</td>\n",
       "      <td>porsche</td>\n",
       "      <td>no</td>\n",
       "    </tr>\n",
       "    <tr>\n",
       "      <th>3289</th>\n",
       "      <td>16899</td>\n",
       "      <td>wagon</td>\n",
       "      <td>2003</td>\n",
       "      <td>auto</td>\n",
       "      <td>476</td>\n",
       "      <td>e_klasse</td>\n",
       "      <td>150000</td>\n",
       "      <td>9</td>\n",
       "      <td>petrol</td>\n",
       "      <td>mercedes_benz</td>\n",
       "      <td>no</td>\n",
       "    </tr>\n",
       "    <tr>\n",
       "      <th>4060</th>\n",
       "      <td>3100</td>\n",
       "      <td>sedan</td>\n",
       "      <td>2005</td>\n",
       "      <td>manual</td>\n",
       "      <td>953</td>\n",
       "      <td>colt</td>\n",
       "      <td>150000</td>\n",
       "      <td>4</td>\n",
       "      <td>gasoline</td>\n",
       "      <td>mitsubishi</td>\n",
       "      <td>no</td>\n",
       "    </tr>\n",
       "    <tr>\n",
       "      <th>4681</th>\n",
       "      <td>13900</td>\n",
       "      <td>sedan</td>\n",
       "      <td>2006</td>\n",
       "      <td>auto</td>\n",
       "      <td>476</td>\n",
       "      <td>e_klasse</td>\n",
       "      <td>150000</td>\n",
       "      <td>5</td>\n",
       "      <td>petrol</td>\n",
       "      <td>mercedes_benz</td>\n",
       "      <td>no</td>\n",
       "    </tr>\n",
       "    <tr>\n",
       "      <th>...</th>\n",
       "      <td>...</td>\n",
       "      <td>...</td>\n",
       "      <td>...</td>\n",
       "      <td>...</td>\n",
       "      <td>...</td>\n",
       "      <td>...</td>\n",
       "      <td>...</td>\n",
       "      <td>...</td>\n",
       "      <td>...</td>\n",
       "      <td>...</td>\n",
       "      <td>...</td>\n",
       "    </tr>\n",
       "    <tr>\n",
       "      <th>353493</th>\n",
       "      <td>12500</td>\n",
       "      <td>sedan</td>\n",
       "      <td>2017</td>\n",
       "      <td>manual</td>\n",
       "      <td>2000</td>\n",
       "      <td>other</td>\n",
       "      <td>60000</td>\n",
       "      <td>1</td>\n",
       "      <td>gasoline</td>\n",
       "      <td>chrysler</td>\n",
       "      <td>no</td>\n",
       "    </tr>\n",
       "    <tr>\n",
       "      <th>353633</th>\n",
       "      <td>2400</td>\n",
       "      <td>sedan</td>\n",
       "      <td>2007</td>\n",
       "      <td>manual</td>\n",
       "      <td>650</td>\n",
       "      <td>c2</td>\n",
       "      <td>150000</td>\n",
       "      <td>8</td>\n",
       "      <td>petrol</td>\n",
       "      <td>citroen</td>\n",
       "      <td>no</td>\n",
       "    </tr>\n",
       "    <tr>\n",
       "      <th>354045</th>\n",
       "      <td>20000</td>\n",
       "      <td>coupe</td>\n",
       "      <td>2006</td>\n",
       "      <td>auto</td>\n",
       "      <td>476</td>\n",
       "      <td>other</td>\n",
       "      <td>125000</td>\n",
       "      <td>7</td>\n",
       "      <td>petrol</td>\n",
       "      <td>mercedes_benz</td>\n",
       "      <td>no</td>\n",
       "    </tr>\n",
       "    <tr>\n",
       "      <th>354260</th>\n",
       "      <td>399</td>\n",
       "      <td>other</td>\n",
       "      <td>1994</td>\n",
       "      <td>manual</td>\n",
       "      <td>1103</td>\n",
       "      <td>3er</td>\n",
       "      <td>150000</td>\n",
       "      <td>1</td>\n",
       "      <td>petrol</td>\n",
       "      <td>bmw</td>\n",
       "      <td>no</td>\n",
       "    </tr>\n",
       "    <tr>\n",
       "      <th>354337</th>\n",
       "      <td>11500</td>\n",
       "      <td>sedan</td>\n",
       "      <td>2004</td>\n",
       "      <td>auto</td>\n",
       "      <td>445</td>\n",
       "      <td>7er</td>\n",
       "      <td>125000</td>\n",
       "      <td>1</td>\n",
       "      <td>petrol</td>\n",
       "      <td>bmw</td>\n",
       "      <td>no</td>\n",
       "    </tr>\n",
       "  </tbody>\n",
       "</table>\n",
       "<p>690 rows × 11 columns</p>\n",
       "</div>"
      ],
      "text/plain": [
       "        Price VehicleType  RegistrationYear Gearbox  Power     Model  \\\n",
       "1816     3200       small              2004  manual   1398   corolla   \n",
       "2781    19500         suv              2004    auto    450   cayenne   \n",
       "3289    16899       wagon              2003    auto    476  e_klasse   \n",
       "4060     3100       sedan              2005  manual    953      colt   \n",
       "4681    13900       sedan              2006    auto    476  e_klasse   \n",
       "...       ...         ...               ...     ...    ...       ...   \n",
       "353493  12500       sedan              2017  manual   2000     other   \n",
       "353633   2400       sedan              2007  manual    650        c2   \n",
       "354045  20000       coupe              2006    auto    476     other   \n",
       "354260    399       other              1994  manual   1103       3er   \n",
       "354337  11500       sedan              2004    auto    445       7er   \n",
       "\n",
       "        Kilometer  RegistrationMonth  FuelType          Brand NotRepaired  \n",
       "1816         5000                  6    petrol         toyota          no  \n",
       "2781       125000                 12    petrol        porsche          no  \n",
       "3289       150000                  9    petrol  mercedes_benz          no  \n",
       "4060       150000                  4  gasoline     mitsubishi          no  \n",
       "4681       150000                  5    petrol  mercedes_benz          no  \n",
       "...           ...                ...       ...            ...         ...  \n",
       "353493      60000                  1  gasoline       chrysler          no  \n",
       "353633     150000                  8    petrol        citroen          no  \n",
       "354045     125000                  7    petrol  mercedes_benz          no  \n",
       "354260     150000                  1    petrol            bmw          no  \n",
       "354337     125000                  1    petrol            bmw          no  \n",
       "\n",
       "[690 rows x 11 columns]"
      ]
     },
     "execution_count": 28,
     "metadata": {},
     "output_type": "execute_result"
    }
   ],
   "source": [
    "df.query('Power > 400')"
   ]
  },
  {
   "cell_type": "code",
   "execution_count": 29,
   "metadata": {
    "scrolled": true
   },
   "outputs": [
    {
     "name": "stdout",
     "output_type": "stream",
     "text": [
      "0.2023163758979622\n"
     ]
    }
   ],
   "source": [
    "print( df.query('Power > 400').shape[0] / df.shape[0] * 100)"
   ]
  },
  {
   "cell_type": "markdown",
   "metadata": {},
   "source": [
    "Исследовав столбец Power, можно прийти к следующим выводам:\n",
    "- автомобилей с мощностью менее 60 л.с. почти 17 %, при этом большинство из них произведены после 1980 гг, поэтому у них не может быть мощность менее 60 л.с., заменим на значение в 60 л.с.;\n",
    "- автомобилей с мощностью 200-400 л.с. 6.32%, при этом большинство из них произведены после 1980 гг и в основном принадлежат маркам BMW, Audi, Mercedes. Изменять значения не нужно;\n",
    "- автомобилей с мощностью  более 400 л.с. 0.2%, при этом большинство из них произведены после 1980 гг и в основном принадлежат маркам BMW, Audi, Mercedes. При этом согласно официальной информации мощность BMW 7er 2004 составляет 445 л.с., что соответствует нашим данным, поэтому ограничимся мощностью 500 л.с. Все, что больше, заменим на 500 л.с."
   ]
  },
  {
   "cell_type": "code",
   "execution_count": 30,
   "metadata": {},
   "outputs": [],
   "source": [
    "df.loc[df['Power'] < 60, 'Power'] = 60\n",
    "df.loc[df['Power'] > 500, 'Power'] = 500"
   ]
  },
  {
   "cell_type": "code",
   "execution_count": 31,
   "metadata": {
    "scrolled": true
   },
   "outputs": [
    {
     "data": {
      "text/html": [
       "<div>\n",
       "<style scoped>\n",
       "    .dataframe tbody tr th:only-of-type {\n",
       "        vertical-align: middle;\n",
       "    }\n",
       "\n",
       "    .dataframe tbody tr th {\n",
       "        vertical-align: top;\n",
       "    }\n",
       "\n",
       "    .dataframe thead th {\n",
       "        text-align: right;\n",
       "    }\n",
       "</style>\n",
       "<table border=\"1\" class=\"dataframe\">\n",
       "  <thead>\n",
       "    <tr style=\"text-align: right;\">\n",
       "      <th></th>\n",
       "      <th>Price</th>\n",
       "      <th>RegistrationYear</th>\n",
       "      <th>Power</th>\n",
       "      <th>Kilometer</th>\n",
       "      <th>RegistrationMonth</th>\n",
       "    </tr>\n",
       "  </thead>\n",
       "  <tbody>\n",
       "    <tr>\n",
       "      <th>count</th>\n",
       "      <td>341050.000000</td>\n",
       "      <td>341050.000000</td>\n",
       "      <td>341050.000000</td>\n",
       "      <td>341050.000000</td>\n",
       "      <td>341050.000000</td>\n",
       "    </tr>\n",
       "    <tr>\n",
       "      <th>mean</th>\n",
       "      <td>4588.862363</td>\n",
       "      <td>2003.206773</td>\n",
       "      <td>115.090796</td>\n",
       "      <td>128497.976836</td>\n",
       "      <td>5.891626</td>\n",
       "    </tr>\n",
       "    <tr>\n",
       "      <th>std</th>\n",
       "      <td>4514.845930</td>\n",
       "      <td>7.335431</td>\n",
       "      <td>54.716081</td>\n",
       "      <td>37243.573871</td>\n",
       "      <td>3.552492</td>\n",
       "    </tr>\n",
       "    <tr>\n",
       "      <th>min</th>\n",
       "      <td>100.000000</td>\n",
       "      <td>1930.000000</td>\n",
       "      <td>60.000000</td>\n",
       "      <td>5000.000000</td>\n",
       "      <td>1.000000</td>\n",
       "    </tr>\n",
       "    <tr>\n",
       "      <th>25%</th>\n",
       "      <td>1200.000000</td>\n",
       "      <td>1999.000000</td>\n",
       "      <td>70.000000</td>\n",
       "      <td>125000.000000</td>\n",
       "      <td>3.000000</td>\n",
       "    </tr>\n",
       "    <tr>\n",
       "      <th>50%</th>\n",
       "      <td>2900.000000</td>\n",
       "      <td>2003.000000</td>\n",
       "      <td>105.000000</td>\n",
       "      <td>150000.000000</td>\n",
       "      <td>6.000000</td>\n",
       "    </tr>\n",
       "    <tr>\n",
       "      <th>75%</th>\n",
       "      <td>6500.000000</td>\n",
       "      <td>2008.000000</td>\n",
       "      <td>143.000000</td>\n",
       "      <td>150000.000000</td>\n",
       "      <td>9.000000</td>\n",
       "    </tr>\n",
       "    <tr>\n",
       "      <th>max</th>\n",
       "      <td>20000.000000</td>\n",
       "      <td>2022.000000</td>\n",
       "      <td>500.000000</td>\n",
       "      <td>150000.000000</td>\n",
       "      <td>12.000000</td>\n",
       "    </tr>\n",
       "  </tbody>\n",
       "</table>\n",
       "</div>"
      ],
      "text/plain": [
       "               Price  RegistrationYear          Power      Kilometer  \\\n",
       "count  341050.000000     341050.000000  341050.000000  341050.000000   \n",
       "mean     4588.862363       2003.206773     115.090796  128497.976836   \n",
       "std      4514.845930          7.335431      54.716081   37243.573871   \n",
       "min       100.000000       1930.000000      60.000000    5000.000000   \n",
       "25%      1200.000000       1999.000000      70.000000  125000.000000   \n",
       "50%      2900.000000       2003.000000     105.000000  150000.000000   \n",
       "75%      6500.000000       2008.000000     143.000000  150000.000000   \n",
       "max     20000.000000       2022.000000     500.000000  150000.000000   \n",
       "\n",
       "       RegistrationMonth  \n",
       "count      341050.000000  \n",
       "mean            5.891626  \n",
       "std             3.552492  \n",
       "min             1.000000  \n",
       "25%             3.000000  \n",
       "50%             6.000000  \n",
       "75%             9.000000  \n",
       "max            12.000000  "
      ]
     },
     "execution_count": 31,
     "metadata": {},
     "output_type": "execute_result"
    }
   ],
   "source": [
    "df.describe()"
   ]
  },
  {
   "cell_type": "markdown",
   "metadata": {},
   "source": [
    "Исследование столбца **FuelType**"
   ]
  },
  {
   "cell_type": "code",
   "execution_count": 32,
   "metadata": {},
   "outputs": [
    {
     "name": "stderr",
     "output_type": "stream",
     "text": [
      "/opt/conda/lib/python3.9/site-packages/seaborn/_decorators.py:36: FutureWarning: Pass the following variable as a keyword arg: x. From version 0.12, the only valid positional argument will be `data`, and passing other arguments without an explicit keyword will result in an error or misinterpretation.\n",
      "  warnings.warn(\n"
     ]
    },
    {
     "data": {
      "text/plain": [
       "<AxesSubplot:xlabel='FuelType', ylabel='count'>"
      ]
     },
     "execution_count": 32,
     "metadata": {},
     "output_type": "execute_result"
    },
    {
     "data": {
      "image/png": "[encoded data removed]",
      "text/plain": [
       "<Figure size 432x288 with 1 Axes>"
      ]
     },
     "metadata": {
      "needs_background": "light"
     },
     "output_type": "display_data"
    }
   ],
   "source": [
    "# Посмотрим распределение данных \n",
    "sns.countplot(df['FuelType'])"
   ]
  },
  {
   "cell_type": "markdown",
   "metadata": {},
   "source": [
    "Так как тип двигателя petrol и gasoline обозначает \"бензиновый\", объединим эти значения."
   ]
  },
  {
   "cell_type": "code",
   "execution_count": 33,
   "metadata": {},
   "outputs": [
    {
     "name": "stderr",
     "output_type": "stream",
     "text": [
      "/opt/conda/lib/python3.9/site-packages/seaborn/_decorators.py:36: FutureWarning: Pass the following variable as a keyword arg: x. From version 0.12, the only valid positional argument will be `data`, and passing other arguments without an explicit keyword will result in an error or misinterpretation.\n",
      "  warnings.warn(\n"
     ]
    },
    {
     "data": {
      "text/plain": [
       "<AxesSubplot:xlabel='FuelType', ylabel='count'>"
      ]
     },
     "execution_count": 33,
     "metadata": {},
     "output_type": "execute_result"
    },
    {
     "data": {
      "image/png": "[encoded data removed]",
      "text/plain": [
       "<Figure size 432x288 with 1 Axes>"
      ]
     },
     "metadata": {
      "needs_background": "light"
     },
     "output_type": "display_data"
    }
   ],
   "source": [
    "df['FuelType'] = df['FuelType'].replace('gasoline', 'petrol')\n",
    "sns.countplot(df['FuelType'])"
   ]
  },
  {
   "cell_type": "code",
   "execution_count": 34,
   "metadata": {
    "scrolled": true
   },
   "outputs": [
    {
     "name": "stdout",
     "output_type": "stream",
     "text": [
      "<class 'pandas.core.frame.DataFrame'>\n",
      "Int64Index: 341050 entries, 0 to 354368\n",
      "Data columns (total 11 columns):\n",
      " #   Column             Non-Null Count   Dtype \n",
      "---  ------             --------------   ----- \n",
      " 0   Price              341050 non-null  int64 \n",
      " 1   VehicleType        341050 non-null  object\n",
      " 2   RegistrationYear   341050 non-null  int64 \n",
      " 3   Gearbox            341050 non-null  object\n",
      " 4   Power              341050 non-null  int64 \n",
      " 5   Model              341050 non-null  object\n",
      " 6   Kilometer          341050 non-null  int64 \n",
      " 7   RegistrationMonth  341050 non-null  int64 \n",
      " 8   FuelType           341050 non-null  object\n",
      " 9   Brand              341050 non-null  object\n",
      " 10  NotRepaired        341050 non-null  object\n",
      "dtypes: int64(5), object(6)\n",
      "memory usage: 39.3+ MB\n"
     ]
    }
   ],
   "source": [
    "df.info()"
   ]
  },
  {
   "cell_type": "markdown",
   "metadata": {},
   "source": [
    "Исследовав данные, мы проделали следующее:\n",
    "- удалили столбцы DateCrawled, DateCreated, LastSeen, NumberOfPictures, PostalCode, так как они не играют роли при ценообразовании;\n",
    "- заменили пропуски  в категориальных данных на наиболее встречающиеся значения;\n",
    "- удадили дубликаты данных;\n",
    "- в столбце RegistrationYear ограничили данные в диапазоне 1930-2022 гг;\n",
    "- значения с нулвым месяцем в столбце RegistrationMonth заменили на значение 1;\n",
    "- в столбце Power заменили выбросы: мощность автомобилей ограничили в диапазоне 60-500 л.с."
   ]
  },
  {
   "cell_type": "markdown",
   "metadata": {},
   "source": [
    "## Обучение моделей"
   ]
  },
  {
   "cell_type": "code",
   "execution_count": 35,
   "metadata": {
    "scrolled": true
   },
   "outputs": [
    {
     "data": {
      "text/html": [
       "<div>\n",
       "<style scoped>\n",
       "    .dataframe tbody tr th:only-of-type {\n",
       "        vertical-align: middle;\n",
       "    }\n",
       "\n",
       "    .dataframe tbody tr th {\n",
       "        vertical-align: top;\n",
       "    }\n",
       "\n",
       "    .dataframe thead th {\n",
       "        text-align: right;\n",
       "    }\n",
       "</style>\n",
       "<table border=\"1\" class=\"dataframe\">\n",
       "  <thead>\n",
       "    <tr style=\"text-align: right;\">\n",
       "      <th></th>\n",
       "      <th>Price</th>\n",
       "      <th>VehicleType</th>\n",
       "      <th>RegistrationYear</th>\n",
       "      <th>Gearbox</th>\n",
       "      <th>Power</th>\n",
       "      <th>Model</th>\n",
       "      <th>Kilometer</th>\n",
       "      <th>RegistrationMonth</th>\n",
       "      <th>FuelType</th>\n",
       "      <th>Brand</th>\n",
       "      <th>NotRepaired</th>\n",
       "    </tr>\n",
       "  </thead>\n",
       "  <tbody>\n",
       "    <tr>\n",
       "      <th>0</th>\n",
       "      <td>480</td>\n",
       "      <td>sedan</td>\n",
       "      <td>1993</td>\n",
       "      <td>manual</td>\n",
       "      <td>60</td>\n",
       "      <td>golf</td>\n",
       "      <td>150000</td>\n",
       "      <td>1</td>\n",
       "      <td>petrol</td>\n",
       "      <td>volkswagen</td>\n",
       "      <td>no</td>\n",
       "    </tr>\n",
       "    <tr>\n",
       "      <th>1</th>\n",
       "      <td>18300</td>\n",
       "      <td>coupe</td>\n",
       "      <td>2011</td>\n",
       "      <td>manual</td>\n",
       "      <td>190</td>\n",
       "      <td>golf</td>\n",
       "      <td>125000</td>\n",
       "      <td>5</td>\n",
       "      <td>petrol</td>\n",
       "      <td>audi</td>\n",
       "      <td>yes</td>\n",
       "    </tr>\n",
       "    <tr>\n",
       "      <th>2</th>\n",
       "      <td>9800</td>\n",
       "      <td>suv</td>\n",
       "      <td>2004</td>\n",
       "      <td>auto</td>\n",
       "      <td>163</td>\n",
       "      <td>grand</td>\n",
       "      <td>125000</td>\n",
       "      <td>8</td>\n",
       "      <td>petrol</td>\n",
       "      <td>jeep</td>\n",
       "      <td>no</td>\n",
       "    </tr>\n",
       "    <tr>\n",
       "      <th>3</th>\n",
       "      <td>1500</td>\n",
       "      <td>small</td>\n",
       "      <td>2001</td>\n",
       "      <td>manual</td>\n",
       "      <td>75</td>\n",
       "      <td>golf</td>\n",
       "      <td>150000</td>\n",
       "      <td>6</td>\n",
       "      <td>petrol</td>\n",
       "      <td>volkswagen</td>\n",
       "      <td>no</td>\n",
       "    </tr>\n",
       "    <tr>\n",
       "      <th>4</th>\n",
       "      <td>3600</td>\n",
       "      <td>small</td>\n",
       "      <td>2008</td>\n",
       "      <td>manual</td>\n",
       "      <td>69</td>\n",
       "      <td>fabia</td>\n",
       "      <td>90000</td>\n",
       "      <td>7</td>\n",
       "      <td>petrol</td>\n",
       "      <td>skoda</td>\n",
       "      <td>no</td>\n",
       "    </tr>\n",
       "  </tbody>\n",
       "</table>\n",
       "</div>"
      ],
      "text/plain": [
       "   Price VehicleType  RegistrationYear Gearbox  Power  Model  Kilometer  \\\n",
       "0    480       sedan              1993  manual     60   golf     150000   \n",
       "1  18300       coupe              2011  manual    190   golf     125000   \n",
       "2   9800         suv              2004    auto    163  grand     125000   \n",
       "3   1500       small              2001  manual     75   golf     150000   \n",
       "4   3600       small              2008  manual     69  fabia      90000   \n",
       "\n",
       "   RegistrationMonth FuelType       Brand NotRepaired  \n",
       "0                  1   petrol  volkswagen          no  \n",
       "1                  5   petrol        audi         yes  \n",
       "2                  8   petrol        jeep          no  \n",
       "3                  6   petrol  volkswagen          no  \n",
       "4                  7   petrol       skoda          no  "
      ]
     },
     "execution_count": 35,
     "metadata": {},
     "output_type": "execute_result"
    }
   ],
   "source": [
    "df.head()"
   ]
  },
  {
   "cell_type": "code",
   "execution_count": 36,
   "metadata": {},
   "outputs": [],
   "source": [
    "# Создадим фрейм для RandomForestRegression\n",
    "df_encoder = df.copy()\n",
    "\n",
    "# Создадим фрейм для LightGBM\n",
    "df_lgbm = df.copy()\n",
    "df_lgbm = df_lgbm.astype({'VehicleType':'category',\n",
    "                          'Gearbox':'category',\n",
    "                          'Model':'category',\n",
    "                          'FuelType':'category',\n",
    "                          'Brand':'category',\n",
    "                          'NotRepaired':'category'})"
   ]
  },
  {
   "cell_type": "code",
   "execution_count": 37,
   "metadata": {},
   "outputs": [],
   "source": [
    "# Создадим признаки и целевой признак\n",
    "features = df.drop('Price', axis=1)\n",
    "target = df['Price']\n",
    "\n",
    "features_encoder = df_encoder.drop('Price', axis=1)\n",
    "target_encoder = df_encoder['Price']\n"
   ]
  },
  {
   "cell_type": "code",
   "execution_count": 38,
   "metadata": {
    "scrolled": true
   },
   "outputs": [
    {
     "data": {
      "text/plain": [
       "(204630, 10)"
      ]
     },
     "metadata": {},
     "output_type": "display_data"
    },
    {
     "data": {
      "text/plain": [
       "(68210, 10)"
      ]
     },
     "metadata": {},
     "output_type": "display_data"
    },
    {
     "data": {
      "text/plain": [
       "(68210, 10)"
      ]
     },
     "metadata": {},
     "output_type": "display_data"
    },
    {
     "data": {
      "text/plain": [
       "(204630,)"
      ]
     },
     "metadata": {},
     "output_type": "display_data"
    },
    {
     "data": {
      "text/plain": [
       "(68210,)"
      ]
     },
     "metadata": {},
     "output_type": "display_data"
    },
    {
     "data": {
      "text/plain": [
       "(68210,)"
      ]
     },
     "metadata": {},
     "output_type": "display_data"
    }
   ],
   "source": [
    "# Разделим на обучающую, валидационную и тестовую выборки\n",
    "features_train, features_other, target_train, target_other = train_test_split(features, target, test_size=0.4, \n",
    "                                                                            random_state=12345)\n",
    "features_valid, features_test, target_valid, target_test = train_test_split(features_other, target_other, test_size=0.5, \n",
    "                                                                            random_state=12345)\n",
    "# Проверим соотношение выборок\n",
    "display(features_train.shape, features_valid.shape, features_test.shape)\n",
    "display(target_train.shape, target_valid.shape, target_test.shape)\n"
   ]
  },
  {
   "cell_type": "code",
   "execution_count": 39,
   "metadata": {},
   "outputs": [
    {
     "data": {
      "text/plain": [
       "(204630, 10)"
      ]
     },
     "metadata": {},
     "output_type": "display_data"
    },
    {
     "data": {
      "text/plain": [
       "(68210, 10)"
      ]
     },
     "metadata": {},
     "output_type": "display_data"
    },
    {
     "data": {
      "text/plain": [
       "(68210, 10)"
      ]
     },
     "metadata": {},
     "output_type": "display_data"
    },
    {
     "data": {
      "text/plain": [
       "(204630,)"
      ]
     },
     "metadata": {},
     "output_type": "display_data"
    },
    {
     "data": {
      "text/plain": [
       "(68210,)"
      ]
     },
     "metadata": {},
     "output_type": "display_data"
    },
    {
     "data": {
      "text/plain": [
       "(68210,)"
      ]
     },
     "metadata": {},
     "output_type": "display_data"
    }
   ],
   "source": [
    "# Разделим на обучающую, валидационную и тестовую выборки для масштабирования и кодирования признаков\n",
    "features_train_encoder, features_other_encoder, target_train_encoder, target_other_encoder = train_test_split(\n",
    "    features_encoder, target_encoder, test_size=0.4, random_state=12345)\n",
    "\n",
    "features_valid_encoder, features_test_encoder, target_valid_encoder, target_test_encoder = train_test_split(\n",
    "    features_other_encoder, target_other_encoder, test_size=0.5, random_state=12345)\n",
    "\n",
    "# Проверим соотношение выборок\n",
    "display(features_train_encoder.shape, features_valid_encoder.shape, features_test_encoder.shape)\n",
    "display(target_train_encoder.shape, target_valid_encoder.shape, target_test_encoder.shape)\n"
   ]
  },
  {
   "cell_type": "code",
   "execution_count": 40,
   "metadata": {},
   "outputs": [
    {
     "name": "stderr",
     "output_type": "stream",
     "text": [
      "/tmp/ipykernel_31/688011836.py:7: SettingWithCopyWarning: \n",
      "A value is trying to be set on a copy of a slice from a DataFrame.\n",
      "Try using .loc[row_indexer,col_indexer] = value instead\n",
      "\n",
      "See the caveats in the documentation: https://pandas.pydata.org/pandas-docs/stable/user_guide/indexing.html#returning-a-view-versus-a-copy\n",
      "  features_train_encoder[numeric] = scaler.transform(features_train_encoder[numeric])\n",
      "/opt/conda/lib/python3.9/site-packages/pandas/core/indexing.py:1738: SettingWithCopyWarning: \n",
      "A value is trying to be set on a copy of a slice from a DataFrame.\n",
      "Try using .loc[row_indexer,col_indexer] = value instead\n",
      "\n",
      "See the caveats in the documentation: https://pandas.pydata.org/pandas-docs/stable/user_guide/indexing.html#returning-a-view-versus-a-copy\n",
      "  self._setitem_single_column(loc, value[:, i].tolist(), pi)\n",
      "/tmp/ipykernel_31/688011836.py:8: SettingWithCopyWarning: \n",
      "A value is trying to be set on a copy of a slice from a DataFrame.\n",
      "Try using .loc[row_indexer,col_indexer] = value instead\n",
      "\n",
      "See the caveats in the documentation: https://pandas.pydata.org/pandas-docs/stable/user_guide/indexing.html#returning-a-view-versus-a-copy\n",
      "  features_valid_encoder[numeric] = scaler.transform(features_valid_encoder[numeric])\n",
      "/opt/conda/lib/python3.9/site-packages/pandas/core/indexing.py:1738: SettingWithCopyWarning: \n",
      "A value is trying to be set on a copy of a slice from a DataFrame.\n",
      "Try using .loc[row_indexer,col_indexer] = value instead\n",
      "\n",
      "See the caveats in the documentation: https://pandas.pydata.org/pandas-docs/stable/user_guide/indexing.html#returning-a-view-versus-a-copy\n",
      "  self._setitem_single_column(loc, value[:, i].tolist(), pi)\n",
      "/tmp/ipykernel_31/688011836.py:9: SettingWithCopyWarning: \n",
      "A value is trying to be set on a copy of a slice from a DataFrame.\n",
      "Try using .loc[row_indexer,col_indexer] = value instead\n",
      "\n",
      "See the caveats in the documentation: https://pandas.pydata.org/pandas-docs/stable/user_guide/indexing.html#returning-a-view-versus-a-copy\n",
      "  features_test_encoder[numeric] = scaler.transform(features_test_encoder[numeric])\n",
      "/opt/conda/lib/python3.9/site-packages/pandas/core/indexing.py:1738: SettingWithCopyWarning: \n",
      "A value is trying to be set on a copy of a slice from a DataFrame.\n",
      "Try using .loc[row_indexer,col_indexer] = value instead\n",
      "\n",
      "See the caveats in the documentation: https://pandas.pydata.org/pandas-docs/stable/user_guide/indexing.html#returning-a-view-versus-a-copy\n",
      "  self._setitem_single_column(loc, value[:, i].tolist(), pi)\n"
     ]
    }
   ],
   "source": [
    "# Масштабируем численные признаки\n",
    "numeric = ['RegistrationYear', 'Power', 'Kilometer', 'RegistrationMonth']\n",
    "\n",
    "scaler = StandardScaler()\n",
    "scaler.fit(features_train_encoder[numeric])\n",
    "\n",
    "features_train_encoder[numeric] = scaler.transform(features_train_encoder[numeric])\n",
    "features_valid_encoder[numeric] = scaler.transform(features_valid_encoder[numeric])\n",
    "features_test_encoder[numeric] = scaler.transform(features_test_encoder[numeric])"
   ]
  },
  {
   "cell_type": "code",
   "execution_count": 41,
   "metadata": {
    "scrolled": true
   },
   "outputs": [
    {
     "data": {
      "text/html": [
       "<div>\n",
       "<style scoped>\n",
       "    .dataframe tbody tr th:only-of-type {\n",
       "        vertical-align: middle;\n",
       "    }\n",
       "\n",
       "    .dataframe tbody tr th {\n",
       "        vertical-align: top;\n",
       "    }\n",
       "\n",
       "    .dataframe thead th {\n",
       "        text-align: right;\n",
       "    }\n",
       "</style>\n",
       "<table border=\"1\" class=\"dataframe\">\n",
       "  <thead>\n",
       "    <tr style=\"text-align: right;\">\n",
       "      <th></th>\n",
       "      <th>RegistrationYear</th>\n",
       "      <th>Power</th>\n",
       "      <th>Kilometer</th>\n",
       "      <th>RegistrationMonth</th>\n",
       "    </tr>\n",
       "  </thead>\n",
       "  <tbody>\n",
       "    <tr>\n",
       "      <th>172970</th>\n",
       "      <td>0.381148</td>\n",
       "      <td>0.874686</td>\n",
       "      <td>0.575886</td>\n",
       "      <td>-1.096141</td>\n",
       "    </tr>\n",
       "    <tr>\n",
       "      <th>123616</th>\n",
       "      <td>-0.301342</td>\n",
       "      <td>-0.368239</td>\n",
       "      <td>0.575886</td>\n",
       "      <td>1.717826</td>\n",
       "    </tr>\n",
       "    <tr>\n",
       "      <th>119382</th>\n",
       "      <td>0.654144</td>\n",
       "      <td>-0.605857</td>\n",
       "      <td>-2.113302</td>\n",
       "      <td>0.873636</td>\n",
       "    </tr>\n",
       "    <tr>\n",
       "      <th>109894</th>\n",
       "      <td>-0.574339</td>\n",
       "      <td>-1.007980</td>\n",
       "      <td>0.575886</td>\n",
       "      <td>0.873636</td>\n",
       "    </tr>\n",
       "    <tr>\n",
       "      <th>318668</th>\n",
       "      <td>-0.710837</td>\n",
       "      <td>-1.007980</td>\n",
       "      <td>0.575886</td>\n",
       "      <td>-1.377538</td>\n",
       "    </tr>\n",
       "  </tbody>\n",
       "</table>\n",
       "</div>"
      ],
      "text/plain": [
       "        RegistrationYear     Power  Kilometer  RegistrationMonth\n",
       "172970          0.381148  0.874686   0.575886          -1.096141\n",
       "123616         -0.301342 -0.368239   0.575886           1.717826\n",
       "119382          0.654144 -0.605857  -2.113302           0.873636\n",
       "109894         -0.574339 -1.007980   0.575886           0.873636\n",
       "318668         -0.710837 -1.007980   0.575886          -1.377538"
      ]
     },
     "execution_count": 41,
     "metadata": {},
     "output_type": "execute_result"
    }
   ],
   "source": [
    "# Проверим масштабирование численных признаков\n",
    "features_train_encoder[numeric].head()\n"
   ]
  },
  {
   "cell_type": "code",
   "execution_count": 42,
   "metadata": {
    "scrolled": false
   },
   "outputs": [
    {
     "name": "stderr",
     "output_type": "stream",
     "text": [
      "/tmp/ipykernel_31/3225717825.py:6: SettingWithCopyWarning: \n",
      "A value is trying to be set on a copy of a slice from a DataFrame.\n",
      "Try using .loc[row_indexer,col_indexer] = value instead\n",
      "\n",
      "See the caveats in the documentation: https://pandas.pydata.org/pandas-docs/stable/user_guide/indexing.html#returning-a-view-versus-a-copy\n",
      "  features_train_encoder[cat_ordinal_encoder] = ordinal_encoder.transform(features_train_encoder[cat_ordinal_encoder])\n",
      "/opt/conda/lib/python3.9/site-packages/pandas/core/indexing.py:1738: SettingWithCopyWarning: \n",
      "A value is trying to be set on a copy of a slice from a DataFrame.\n",
      "Try using .loc[row_indexer,col_indexer] = value instead\n",
      "\n",
      "See the caveats in the documentation: https://pandas.pydata.org/pandas-docs/stable/user_guide/indexing.html#returning-a-view-versus-a-copy\n",
      "  self._setitem_single_column(loc, value[:, i].tolist(), pi)\n",
      "/tmp/ipykernel_31/3225717825.py:7: SettingWithCopyWarning: \n",
      "A value is trying to be set on a copy of a slice from a DataFrame.\n",
      "Try using .loc[row_indexer,col_indexer] = value instead\n",
      "\n",
      "See the caveats in the documentation: https://pandas.pydata.org/pandas-docs/stable/user_guide/indexing.html#returning-a-view-versus-a-copy\n",
      "  features_valid_encoder[cat_ordinal_encoder] = ordinal_encoder.transform(features_valid_encoder[cat_ordinal_encoder])\n",
      "/opt/conda/lib/python3.9/site-packages/pandas/core/indexing.py:1738: SettingWithCopyWarning: \n",
      "A value is trying to be set on a copy of a slice from a DataFrame.\n",
      "Try using .loc[row_indexer,col_indexer] = value instead\n",
      "\n",
      "See the caveats in the documentation: https://pandas.pydata.org/pandas-docs/stable/user_guide/indexing.html#returning-a-view-versus-a-copy\n",
      "  self._setitem_single_column(loc, value[:, i].tolist(), pi)\n",
      "/tmp/ipykernel_31/3225717825.py:12: SettingWithCopyWarning: \n",
      "A value is trying to be set on a copy of a slice from a DataFrame.\n",
      "Try using .loc[row_indexer,col_indexer] = value instead\n",
      "\n",
      "See the caveats in the documentation: https://pandas.pydata.org/pandas-docs/stable/user_guide/indexing.html#returning-a-view-versus-a-copy\n",
      "  features_test_encoder[cat_ordinal_encoder] = ordinal_encoder.fit_transform(features_test_encoder[cat_ordinal_encoder])\n",
      "/opt/conda/lib/python3.9/site-packages/pandas/core/indexing.py:1738: SettingWithCopyWarning: \n",
      "A value is trying to be set on a copy of a slice from a DataFrame.\n",
      "Try using .loc[row_indexer,col_indexer] = value instead\n",
      "\n",
      "See the caveats in the documentation: https://pandas.pydata.org/pandas-docs/stable/user_guide/indexing.html#returning-a-view-versus-a-copy\n",
      "  self._setitem_single_column(loc, value[:, i].tolist(), pi)\n"
     ]
    }
   ],
   "source": [
    "# Закодируем категориальные признаки Model, Brand техникой Ordinal Encoder\n",
    "cat_ordinal_encoder = ['Model', 'Brand']\n",
    "ordinal_encoder = OrdinalEncoder() \n",
    "ordinal_encoder.fit(features_train_encoder[cat_ordinal_encoder])\n",
    "\n",
    "features_train_encoder[cat_ordinal_encoder] = ordinal_encoder.transform(features_train_encoder[cat_ordinal_encoder])\n",
    "features_valid_encoder[cat_ordinal_encoder] = ordinal_encoder.transform(features_valid_encoder[cat_ordinal_encoder])\n",
    "\n",
    "# При обучении на трейне и трансфировании на тесте у меня вышла ошибка \n",
    "# ValueError: Found unknown categories ['serie_1'] in column 0 during transform, поэтому на тесте применил fit_transform().\n",
    "# Если на  тесте применить fit_transform() нельзя, то значит кодирование нужно сделать до разделения на выборки.\n",
    "features_test_encoder[cat_ordinal_encoder] = ordinal_encoder.fit_transform(features_test_encoder[cat_ordinal_encoder])\n",
    "\n"
   ]
  },
  {
   "cell_type": "code",
   "execution_count": 43,
   "metadata": {
    "scrolled": true
   },
   "outputs": [
    {
     "data": {
      "text/html": [
       "<div>\n",
       "<style scoped>\n",
       "    .dataframe tbody tr th:only-of-type {\n",
       "        vertical-align: middle;\n",
       "    }\n",
       "\n",
       "    .dataframe tbody tr th {\n",
       "        vertical-align: top;\n",
       "    }\n",
       "\n",
       "    .dataframe thead th {\n",
       "        text-align: right;\n",
       "    }\n",
       "</style>\n",
       "<table border=\"1\" class=\"dataframe\">\n",
       "  <thead>\n",
       "    <tr style=\"text-align: right;\">\n",
       "      <th></th>\n",
       "      <th>VehicleType</th>\n",
       "      <th>RegistrationYear</th>\n",
       "      <th>Gearbox</th>\n",
       "      <th>Power</th>\n",
       "      <th>Model</th>\n",
       "      <th>Kilometer</th>\n",
       "      <th>RegistrationMonth</th>\n",
       "      <th>FuelType</th>\n",
       "      <th>Brand</th>\n",
       "      <th>NotRepaired</th>\n",
       "    </tr>\n",
       "  </thead>\n",
       "  <tbody>\n",
       "    <tr>\n",
       "      <th>172970</th>\n",
       "      <td>sedan</td>\n",
       "      <td>0.381148</td>\n",
       "      <td>auto</td>\n",
       "      <td>0.874686</td>\n",
       "      <td>95.0</td>\n",
       "      <td>0.575886</td>\n",
       "      <td>-1.096141</td>\n",
       "      <td>cng</td>\n",
       "      <td>20.0</td>\n",
       "      <td>no</td>\n",
       "    </tr>\n",
       "    <tr>\n",
       "      <th>123616</th>\n",
       "      <td>sedan</td>\n",
       "      <td>-0.301342</td>\n",
       "      <td>manual</td>\n",
       "      <td>-0.368239</td>\n",
       "      <td>33.0</td>\n",
       "      <td>0.575886</td>\n",
       "      <td>1.717826</td>\n",
       "      <td>petrol</td>\n",
       "      <td>20.0</td>\n",
       "      <td>no</td>\n",
       "    </tr>\n",
       "    <tr>\n",
       "      <th>119382</th>\n",
       "      <td>suv</td>\n",
       "      <td>0.654144</td>\n",
       "      <td>manual</td>\n",
       "      <td>-0.605857</td>\n",
       "      <td>160.0</td>\n",
       "      <td>-2.113302</td>\n",
       "      <td>0.873636</td>\n",
       "      <td>petrol</td>\n",
       "      <td>16.0</td>\n",
       "      <td>no</td>\n",
       "    </tr>\n",
       "  </tbody>\n",
       "</table>\n",
       "</div>"
      ],
      "text/plain": [
       "       VehicleType  RegistrationYear Gearbox     Power  Model  Kilometer  \\\n",
       "172970       sedan          0.381148    auto  0.874686   95.0   0.575886   \n",
       "123616       sedan         -0.301342  manual -0.368239   33.0   0.575886   \n",
       "119382         suv          0.654144  manual -0.605857  160.0  -2.113302   \n",
       "\n",
       "        RegistrationMonth FuelType  Brand NotRepaired  \n",
       "172970          -1.096141      cng   20.0          no  \n",
       "123616           1.717826   petrol   20.0          no  \n",
       "119382           0.873636   petrol   16.0          no  "
      ]
     },
     "execution_count": 43,
     "metadata": {},
     "output_type": "execute_result"
    }
   ],
   "source": [
    "# Проверим кодирование категориальных признаков\n",
    "features_train_encoder.head(3)"
   ]
  },
  {
   "cell_type": "code",
   "execution_count": 44,
   "metadata": {},
   "outputs": [
    {
     "data": {
      "text/html": [
       "<div>\n",
       "<style scoped>\n",
       "    .dataframe tbody tr th:only-of-type {\n",
       "        vertical-align: middle;\n",
       "    }\n",
       "\n",
       "    .dataframe tbody tr th {\n",
       "        vertical-align: top;\n",
       "    }\n",
       "\n",
       "    .dataframe thead th {\n",
       "        text-align: right;\n",
       "    }\n",
       "</style>\n",
       "<table border=\"1\" class=\"dataframe\">\n",
       "  <thead>\n",
       "    <tr style=\"text-align: right;\">\n",
       "      <th></th>\n",
       "      <th>VehicleType</th>\n",
       "      <th>RegistrationYear</th>\n",
       "      <th>Gearbox</th>\n",
       "      <th>Power</th>\n",
       "      <th>Model</th>\n",
       "      <th>Kilometer</th>\n",
       "      <th>RegistrationMonth</th>\n",
       "      <th>FuelType</th>\n",
       "      <th>Brand</th>\n",
       "      <th>NotRepaired</th>\n",
       "    </tr>\n",
       "  </thead>\n",
       "  <tbody>\n",
       "    <tr>\n",
       "      <th>204712</th>\n",
       "      <td>small</td>\n",
       "      <td>-0.983833</td>\n",
       "      <td>manual</td>\n",
       "      <td>-1.007980</td>\n",
       "      <td>173.0</td>\n",
       "      <td>0.575886</td>\n",
       "      <td>-1.377538</td>\n",
       "      <td>petrol</td>\n",
       "      <td>38.0</td>\n",
       "      <td>yes</td>\n",
       "    </tr>\n",
       "    <tr>\n",
       "      <th>136725</th>\n",
       "      <td>convertible</td>\n",
       "      <td>0.927140</td>\n",
       "      <td>manual</td>\n",
       "      <td>-0.258569</td>\n",
       "      <td>166.0</td>\n",
       "      <td>-2.113302</td>\n",
       "      <td>0.310843</td>\n",
       "      <td>petrol</td>\n",
       "      <td>27.0</td>\n",
       "      <td>no</td>\n",
       "    </tr>\n",
       "    <tr>\n",
       "      <th>115945</th>\n",
       "      <td>sedan</td>\n",
       "      <td>-0.574339</td>\n",
       "      <td>auto</td>\n",
       "      <td>-0.295126</td>\n",
       "      <td>65.0</td>\n",
       "      <td>0.575886</td>\n",
       "      <td>1.717826</td>\n",
       "      <td>petrol</td>\n",
       "      <td>22.0</td>\n",
       "      <td>no</td>\n",
       "    </tr>\n",
       "  </tbody>\n",
       "</table>\n",
       "</div>"
      ],
      "text/plain": [
       "        VehicleType  RegistrationYear Gearbox     Power  Model  Kilometer  \\\n",
       "204712        small         -0.983833  manual -1.007980  173.0   0.575886   \n",
       "136725  convertible          0.927140  manual -0.258569  166.0  -2.113302   \n",
       "115945        sedan         -0.574339    auto -0.295126   65.0   0.575886   \n",
       "\n",
       "        RegistrationMonth FuelType  Brand NotRepaired  \n",
       "204712          -1.377538   petrol   38.0         yes  \n",
       "136725           0.310843   petrol   27.0          no  \n",
       "115945           1.717826   petrol   22.0          no  "
      ]
     },
     "execution_count": 44,
     "metadata": {},
     "output_type": "execute_result"
    }
   ],
   "source": [
    "# Проверим кодирование категориальных признаков\n",
    "features_valid_encoder.head(3)"
   ]
  },
  {
   "cell_type": "code",
   "execution_count": 45,
   "metadata": {},
   "outputs": [
    {
     "data": {
      "text/html": [
       "<div>\n",
       "<style scoped>\n",
       "    .dataframe tbody tr th:only-of-type {\n",
       "        vertical-align: middle;\n",
       "    }\n",
       "\n",
       "    .dataframe tbody tr th {\n",
       "        vertical-align: top;\n",
       "    }\n",
       "\n",
       "    .dataframe thead th {\n",
       "        text-align: right;\n",
       "    }\n",
       "</style>\n",
       "<table border=\"1\" class=\"dataframe\">\n",
       "  <thead>\n",
       "    <tr style=\"text-align: right;\">\n",
       "      <th></th>\n",
       "      <th>VehicleType</th>\n",
       "      <th>RegistrationYear</th>\n",
       "      <th>Gearbox</th>\n",
       "      <th>Power</th>\n",
       "      <th>Model</th>\n",
       "      <th>Kilometer</th>\n",
       "      <th>RegistrationMonth</th>\n",
       "      <th>FuelType</th>\n",
       "      <th>Brand</th>\n",
       "      <th>NotRepaired</th>\n",
       "    </tr>\n",
       "  </thead>\n",
       "  <tbody>\n",
       "    <tr>\n",
       "      <th>336566</th>\n",
       "      <td>small</td>\n",
       "      <td>-0.028346</td>\n",
       "      <td>manual</td>\n",
       "      <td>-0.733805</td>\n",
       "      <td>173.0</td>\n",
       "      <td>0.575886</td>\n",
       "      <td>-0.251951</td>\n",
       "      <td>petrol</td>\n",
       "      <td>38.0</td>\n",
       "      <td>no</td>\n",
       "    </tr>\n",
       "    <tr>\n",
       "      <th>106065</th>\n",
       "      <td>wagon</td>\n",
       "      <td>1.336635</td>\n",
       "      <td>manual</td>\n",
       "      <td>0.125275</td>\n",
       "      <td>28.0</td>\n",
       "      <td>-2.651140</td>\n",
       "      <td>0.592240</td>\n",
       "      <td>petrol</td>\n",
       "      <td>1.0</td>\n",
       "      <td>no</td>\n",
       "    </tr>\n",
       "    <tr>\n",
       "      <th>104344</th>\n",
       "      <td>small</td>\n",
       "      <td>0.244650</td>\n",
       "      <td>manual</td>\n",
       "      <td>-0.934866</td>\n",
       "      <td>101.0</td>\n",
       "      <td>0.575886</td>\n",
       "      <td>1.155033</td>\n",
       "      <td>petrol</td>\n",
       "      <td>31.0</td>\n",
       "      <td>no</td>\n",
       "    </tr>\n",
       "  </tbody>\n",
       "</table>\n",
       "</div>"
      ],
      "text/plain": [
       "       VehicleType  RegistrationYear Gearbox     Power  Model  Kilometer  \\\n",
       "336566       small         -0.028346  manual -0.733805  173.0   0.575886   \n",
       "106065       wagon          1.336635  manual  0.125275   28.0  -2.651140   \n",
       "104344       small          0.244650  manual -0.934866  101.0   0.575886   \n",
       "\n",
       "        RegistrationMonth FuelType  Brand NotRepaired  \n",
       "336566          -0.251951   petrol   38.0          no  \n",
       "106065           0.592240   petrol    1.0          no  \n",
       "104344           1.155033   petrol   31.0          no  "
      ]
     },
     "execution_count": 45,
     "metadata": {},
     "output_type": "execute_result"
    }
   ],
   "source": [
    "# Проверим кодирование категориальных признаков\n",
    "features_test_encoder.head(3)"
   ]
  },
  {
   "cell_type": "code",
   "execution_count": 46,
   "metadata": {
    "scrolled": true
   },
   "outputs": [],
   "source": [
    "# Кодируем категориальные признаки техникой OHE \n",
    "ohe = ['VehicleType', 'Gearbox', 'FuelType', 'NotRepaired']\n",
    "encoder = OneHotEncoder(handle_unknown='ignore', sparse=False)\n",
    "encoder.fit(features_train_encoder[ohe])\n",
    "features_train_encoder_ohe = pd.DataFrame(encoder.transform(features_train_encoder[ohe]), columns = encoder.get_feature_names(ohe))\n",
    "features_valid_encoder_ohe = pd.DataFrame(encoder.transform(features_valid_encoder[ohe]), columns = encoder.get_feature_names(ohe))\n",
    "features_test_encoder_ohe = pd.DataFrame(encoder.transform(features_test_encoder[ohe]), columns = encoder.get_feature_names(ohe))\n"
   ]
  },
  {
   "cell_type": "code",
   "execution_count": 47,
   "metadata": {},
   "outputs": [],
   "source": [
    "# Удаляем столбцы с категориальными признаками\n",
    "features_train_encoder = features_train_encoder.drop(['VehicleType', 'Gearbox', 'FuelType', 'NotRepaired'], axis=1)\n",
    "features_valid_encoder = features_valid_encoder.drop(['VehicleType', 'Gearbox', 'FuelType', 'NotRepaired'], axis=1)\n",
    "features_test_encoder = features_test_encoder.drop(['VehicleType', 'Gearbox', 'FuelType', 'NotRepaired'], axis=1)\n"
   ]
  },
  {
   "cell_type": "code",
   "execution_count": 48,
   "metadata": {},
   "outputs": [],
   "source": [
    "# объединяем таблицы\n",
    "features_train_encoder = pd.concat([features_train_encoder_ohe.reset_index(drop=True), features_train_encoder.reset_index(drop=True)], axis=1, ignore_index=False)\n",
    "features_valid_encoder = pd.concat([features_valid_encoder_ohe.reset_index(drop=True), features_valid_encoder.reset_index(drop=True)], axis=1, ignore_index=False)\n",
    "features_test_encoder = pd.concat([features_test_encoder_ohe.reset_index(drop=True), features_test_encoder.reset_index(drop=True)], axis=1, ignore_index=False)"
   ]
  },
  {
   "cell_type": "markdown",
   "metadata": {},
   "source": [
    "### CatBoost"
   ]
  },
  {
   "cell_type": "code",
   "execution_count": 49,
   "metadata": {},
   "outputs": [],
   "source": [
    "model = cb.CatBoostRegressor(loss_function='RMSE', verbose=50) "
   ]
  },
  {
   "cell_type": "code",
   "execution_count": 50,
   "metadata": {},
   "outputs": [],
   "source": [
    "# Зададим категориальные признаки\n",
    "cat_features = ['VehicleType', 'Gearbox', 'Model', 'FuelType', 'Brand', 'NotRepaired']"
   ]
  },
  {
   "cell_type": "code",
   "execution_count": 51,
   "metadata": {
    "scrolled": true
   },
   "outputs": [
    {
     "name": "stdout",
     "output_type": "stream",
     "text": [
      "0:\tlearn: 5370.7435742\ttest: 5356.1916383\tbest: 5356.1916383 (0)\ttotal: 395ms\tremaining: 2m 17s\n",
      "50:\tlearn: 1709.8688449\ttest: 1731.7116026\tbest: 1731.7116026 (50)\ttotal: 12.4s\tremaining: 1m 12s\n",
      "100:\tlearn: 1609.3720061\ttest: 1680.5142012\tbest: 1680.5142012 (100)\ttotal: 25s\tremaining: 1m 1s\n",
      "150:\tlearn: 1550.9764516\ttest: 1662.9230811\tbest: 1662.9230811 (150)\ttotal: 37.8s\tremaining: 49.8s\n",
      "200:\tlearn: 1500.2903945\ttest: 1649.6134047\tbest: 1649.6134047 (200)\ttotal: 50.6s\tremaining: 37.5s\n",
      "250:\tlearn: 1465.8848084\ttest: 1645.2942471\tbest: 1645.1537041 (248)\ttotal: 1m 3s\tremaining: 25.2s\n",
      "300:\tlearn: 1433.8529474\ttest: 1639.4210579\tbest: 1639.4210579 (300)\ttotal: 1m 16s\tremaining: 12.5s\n",
      "349:\tlearn: 1406.2491369\ttest: 1636.8482150\tbest: 1636.3245291 (339)\ttotal: 1m 29s\tremaining: 0us\n",
      "\n",
      "bestTest = 1636.324529\n",
      "bestIteration = 339\n",
      "\n",
      "0:\tloss: 1636.3245291\tbest: 1636.3245291 (0)\ttotal: 1m 30s\tremaining: 1m 30s\n",
      "0:\tlearn: 5370.7435742\ttest: 5356.1916383\tbest: 5356.1916383 (0)\ttotal: 329ms\tremaining: 2m 11s\n",
      "50:\tlearn: 1709.8688449\ttest: 1731.7116026\tbest: 1731.7116026 (50)\ttotal: 12.2s\tremaining: 1m 23s\n",
      "100:\tlearn: 1609.3720061\ttest: 1680.5142012\tbest: 1680.5142012 (100)\ttotal: 25.4s\tremaining: 1m 15s\n",
      "150:\tlearn: 1550.9764516\ttest: 1662.9230811\tbest: 1662.9230811 (150)\ttotal: 38.2s\tremaining: 1m 3s\n",
      "200:\tlearn: 1500.2903945\ttest: 1649.6134047\tbest: 1649.6134047 (200)\ttotal: 50.7s\tremaining: 50.2s\n",
      "250:\tlearn: 1465.8848084\ttest: 1645.2942471\tbest: 1645.1537041 (248)\ttotal: 1m 3s\tremaining: 37.9s\n",
      "300:\tlearn: 1433.8529474\ttest: 1639.4210579\tbest: 1639.4210579 (300)\ttotal: 1m 16s\tremaining: 25.3s\n",
      "350:\tlearn: 1405.9923360\ttest: 1636.6612658\tbest: 1636.3245291 (339)\ttotal: 1m 29s\tremaining: 12.5s\n",
      "399:\tlearn: 1383.9477022\ttest: 1633.1670293\tbest: 1633.1427297 (395)\ttotal: 1m 42s\tremaining: 0us\n",
      "\n",
      "bestTest = 1633.14273\n",
      "bestIteration = 395\n",
      "\n",
      "1:\tloss: 1633.1427297\tbest: 1633.1427297 (1)\ttotal: 3m 12s\tremaining: 0us\n",
      "Estimating final quality...\n",
      "Training on fold [0/3]\n",
      "0:\tlearn: 5376.7010936\ttest: 5366.2654222\tbest: 5366.2654222 (0)\ttotal: 307ms\tremaining: 2m 2s\n",
      "50:\tlearn: 1695.2913039\ttest: 1781.9879041\tbest: 1781.9879041 (50)\ttotal: 11.4s\tremaining: 1m 17s\n",
      "100:\tlearn: 1592.6699532\ttest: 1728.0454656\tbest: 1728.0454656 (100)\ttotal: 22.7s\tremaining: 1m 7s\n",
      "150:\tlearn: 1524.8264652\ttest: 1702.0342286\tbest: 1702.0342286 (150)\ttotal: 34.5s\tremaining: 56.9s\n",
      "200:\tlearn: 1480.3436282\ttest: 1690.5319898\tbest: 1690.5319898 (200)\ttotal: 46.1s\tremaining: 45.7s\n",
      "250:\tlearn: 1439.8040745\ttest: 1680.6938054\tbest: 1680.4683027 (245)\ttotal: 57.9s\tremaining: 34.4s\n",
      "300:\tlearn: 1405.8076553\ttest: 1673.3425833\tbest: 1673.2955690 (299)\ttotal: 1m 9s\tremaining: 22.8s\n",
      "350:\tlearn: 1375.9456544\ttest: 1668.1840686\tbest: 1668.1840686 (350)\ttotal: 1m 21s\tremaining: 11.3s\n",
      "399:\tlearn: 1350.0628776\ttest: 1663.9314032\tbest: 1663.9314032 (399)\ttotal: 1m 32s\tremaining: 0us\n",
      "\n",
      "bestTest = 1663.931403\n",
      "bestIteration = 399\n",
      "\n",
      "Training on fold [1/3]\n",
      "0:\tlearn: 5368.1973363\ttest: 5357.1110426\tbest: 5357.1110426 (0)\ttotal: 312ms\tremaining: 2m 4s\n",
      "50:\tlearn: 1701.8293565\ttest: 1755.2535957\tbest: 1755.2535957 (50)\ttotal: 11s\tremaining: 1m 15s\n",
      "100:\tlearn: 1591.5993627\ttest: 1700.4757965\tbest: 1700.4757965 (100)\ttotal: 22.2s\tremaining: 1m 5s\n",
      "150:\tlearn: 1528.5267985\ttest: 1678.9360983\tbest: 1678.9360983 (150)\ttotal: 33.9s\tremaining: 55.9s\n",
      "200:\tlearn: 1481.8505341\ttest: 1666.1959027\tbest: 1666.1959027 (200)\ttotal: 45.4s\tremaining: 44.9s\n",
      "250:\tlearn: 1446.2496453\ttest: 1658.5800276\tbest: 1658.5800276 (250)\ttotal: 56.6s\tremaining: 33.6s\n",
      "300:\tlearn: 1412.5205246\ttest: 1653.2071889\tbest: 1653.2071889 (300)\ttotal: 1m 8s\tremaining: 22.7s\n",
      "350:\tlearn: 1382.2150675\ttest: 1649.1736933\tbest: 1649.1736933 (350)\ttotal: 1m 20s\tremaining: 11.2s\n",
      "399:\tlearn: 1356.7124498\ttest: 1645.8572371\tbest: 1645.8572371 (399)\ttotal: 1m 31s\tremaining: 0us\n",
      "\n",
      "bestTest = 1645.857237\n",
      "bestIteration = 399\n",
      "\n",
      "Training on fold [2/3]\n",
      "0:\tlearn: 5354.6271312\ttest: 5375.4642529\tbest: 5375.4642529 (0)\ttotal: 283ms\tremaining: 1m 53s\n",
      "50:\tlearn: 1700.1883244\ttest: 1762.4371961\tbest: 1762.4371961 (50)\ttotal: 10.7s\tremaining: 1m 13s\n",
      "100:\tlearn: 1592.8146142\ttest: 1709.9332330\tbest: 1709.9332330 (100)\ttotal: 21.5s\tremaining: 1m 3s\n",
      "150:\tlearn: 1533.3942413\ttest: 1691.5315807\tbest: 1691.5315807 (150)\ttotal: 32.1s\tremaining: 52.9s\n",
      "200:\tlearn: 1484.2162673\ttest: 1678.0469125\tbest: 1678.0469125 (200)\ttotal: 43.4s\tremaining: 42.9s\n",
      "250:\tlearn: 1442.2205998\ttest: 1670.1449407\tbest: 1670.0873905 (249)\ttotal: 54.9s\tremaining: 32.6s\n",
      "300:\tlearn: 1410.1792454\ttest: 1663.9915982\tbest: 1663.8312948 (294)\ttotal: 1m 6s\tremaining: 21.9s\n",
      "350:\tlearn: 1378.1986397\ttest: 1658.3803130\tbest: 1658.3803130 (350)\ttotal: 1m 17s\tremaining: 10.9s\n",
      "399:\tlearn: 1355.3201238\ttest: 1654.8076957\tbest: 1654.8043525 (392)\ttotal: 1m 29s\tremaining: 0us\n",
      "\n",
      "bestTest = 1654.804352\n",
      "bestIteration = 392\n",
      "\n",
      "CPU times: user 9min 36s, sys: 5.87 s, total: 9min 42s\n",
      "Wall time: 9min 45s\n"
     ]
    }
   ],
   "source": [
    "%%time\n",
    "# Зададим гиперпараметры модели\n",
    "grid = {'iterations': [350, 400],\n",
    "        'learning_rate': [0.2],\n",
    "        'depth': [10]\n",
    "       }\n",
    "catboost_grid = model.grid_search(grid, Pool(features_train, target_train, cat_features=cat_features), cv=3)"
   ]
  },
  {
   "cell_type": "code",
   "execution_count": 52,
   "metadata": {
    "scrolled": true
   },
   "outputs": [
    {
     "data": {
      "text/plain": [
       "{'depth': 10, 'iterations': 400, 'learning_rate': 0.2}"
      ]
     },
     "execution_count": 52,
     "metadata": {},
     "output_type": "execute_result"
    }
   ],
   "source": [
    "# Найдем лучшие гиперпараметры\n",
    "catboost_grid['params']"
   ]
  },
  {
   "cell_type": "code",
   "execution_count": 53,
   "metadata": {},
   "outputs": [
    {
     "name": "stdout",
     "output_type": "stream",
     "text": [
      "CPU times: user 64 µs, sys: 1 µs, total: 65 µs\n",
      "Wall time: 68.7 µs\n"
     ]
    }
   ],
   "source": [
    "%%time\n",
    "# Зададим гиперпараметры модели\n",
    "final_cat = cb.CatBoostRegressor(depth=catboost_grid['params']['depth'],\n",
    "                              learning_rate=catboost_grid['params']['learning_rate'],\n",
    "                              iterations=catboost_grid['params']['iterations'],\n",
    "                              loss_function='RMSE', verbose=100)                                                                                       "
   ]
  },
  {
   "cell_type": "code",
   "execution_count": 54,
   "metadata": {
    "scrolled": false
   },
   "outputs": [
    {
     "name": "stdout",
     "output_type": "stream",
     "text": [
      "0:\tlearn: 3894.8761245\ttotal: 357ms\tremaining: 2m 22s\n",
      "100:\tlearn: 1605.1246621\ttotal: 28.5s\tremaining: 1m 24s\n",
      "200:\tlearn: 1505.2441918\ttotal: 58s\tremaining: 57.4s\n",
      "300:\tlearn: 1441.7038453\ttotal: 1m 26s\tremaining: 28.6s\n",
      "399:\tlearn: 1393.1098351\ttotal: 1m 55s\tremaining: 0us\n",
      "CPU times: user 1min 56s, sys: 409 ms, total: 1min 56s\n",
      "Wall time: 1min 57s\n"
     ]
    },
    {
     "data": {
      "text/plain": [
       "<catboost.core.CatBoostRegressor at 0x7f09e3961460>"
      ]
     },
     "execution_count": 54,
     "metadata": {},
     "output_type": "execute_result"
    }
   ],
   "source": [
    "%%time\n",
    "# Обучим модель\n",
    "final_cat.fit(Pool(features_train, target_train, cat_features=cat_features))      "
   ]
  },
  {
   "cell_type": "code",
   "execution_count": 55,
   "metadata": {
    "scrolled": false
   },
   "outputs": [
    {
     "name": "stdout",
     "output_type": "stream",
     "text": [
      "RMSE: 1635.53\n",
      "CPU times: user 400 ms, sys: 3.96 ms, total: 404 ms\n",
      "Wall time: 409 ms\n"
     ]
    }
   ],
   "source": [
    "%%time\n",
    "# Предсказания модели\n",
    "pred = model.predict(features_valid)\n",
    "rmse_cat_boost = mean_squared_error(target_valid, pred, squared=False)\n",
    "print('RMSE: {:.2f}'.format(rmse_cat_boost))"
   ]
  },
  {
   "cell_type": "markdown",
   "metadata": {},
   "source": [
    "Модель CatBoost при гиперпараметрах: depth=10, iterations=400, learning_rate=0.2 показала результаты:\n",
    "- RMSE=1635.53\n",
    "- время обучения 1 мин. 57 сек.\n",
    "- время предсказания около 450 мсек."
   ]
  },
  {
   "cell_type": "markdown",
   "metadata": {},
   "source": [
    "### RandomForestRegressor"
   ]
  },
  {
   "cell_type": "code",
   "execution_count": 56,
   "metadata": {},
   "outputs": [
    {
     "name": "stdout",
     "output_type": "stream",
     "text": [
      "CPU times: user 75 µs, sys: 0 ns, total: 75 µs\n",
      "Wall time: 76.8 µs\n"
     ]
    }
   ],
   "source": [
    "%%time\n",
    "# Зададим гиперпараметры модели\n",
    "param_grid = {\n",
    "    'n_estimators': [300, 350],\n",
    "    'max_depth': [14],\n",
    "    'max_features': [12]\n",
    "}\n",
    "\n",
    "rf = RandomForestRegressor(criterion='mse')\n",
    "\n",
    "rf_grid = GridSearchCV(rf, param_grid, cv = 3, n_jobs=-1, verbose=2)"
   ]
  },
  {
   "cell_type": "code",
   "execution_count": 57,
   "metadata": {
    "scrolled": false
   },
   "outputs": [
    {
     "name": "stdout",
     "output_type": "stream",
     "text": [
      "Fitting 3 folds for each of 2 candidates, totalling 6 fits\n",
      "[CV] END ....max_depth=14, max_features=12, n_estimators=300; total time=  49.6s\n",
      "[CV] END ....max_depth=14, max_features=12, n_estimators=300; total time=  50.3s\n",
      "[CV] END ....max_depth=14, max_features=12, n_estimators=300; total time=  49.8s\n",
      "[CV] END ....max_depth=14, max_features=12, n_estimators=350; total time=  58.7s\n",
      "[CV] END ....max_depth=14, max_features=12, n_estimators=350; total time=  59.4s\n",
      "[CV] END ....max_depth=14, max_features=12, n_estimators=350; total time=  58.8s\n",
      "CPU times: user 6min 51s, sys: 2.34 s, total: 6min 53s\n",
      "Wall time: 6min 54s\n"
     ]
    },
    {
     "data": {
      "text/plain": [
       "GridSearchCV(cv=3, estimator=RandomForestRegressor(), n_jobs=-1,\n",
       "             param_grid={'max_depth': [14], 'max_features': [12],\n",
       "                         'n_estimators': [300, 350]},\n",
       "             verbose=2)"
      ]
     },
     "execution_count": 57,
     "metadata": {},
     "output_type": "execute_result"
    }
   ],
   "source": [
    "%%time\n",
    "# Обучим модель\n",
    "rf_grid.fit(features_train_encoder, target_train_encoder)"
   ]
  },
  {
   "cell_type": "code",
   "execution_count": 58,
   "metadata": {
    "scrolled": true
   },
   "outputs": [
    {
     "data": {
      "text/plain": [
       "{'max_depth': 14, 'max_features': 12, 'n_estimators': 350}"
      ]
     },
     "execution_count": 58,
     "metadata": {},
     "output_type": "execute_result"
    }
   ],
   "source": [
    "# Найдем лучшие гиперпараметры\n",
    "rf_grid.best_params_"
   ]
  },
  {
   "cell_type": "code",
   "execution_count": 59,
   "metadata": {
    "scrolled": true
   },
   "outputs": [
    {
     "name": "stdout",
     "output_type": "stream",
     "text": [
      "CPU times: user 3.33 s, sys: 4.03 ms, total: 3.33 s\n",
      "Wall time: 3.33 s\n"
     ]
    }
   ],
   "source": [
    "%%time \n",
    "# Предсказания модели с лучшими гиперпараметрами\n",
    "pred_rf = rf_grid.best_estimator_.predict(features_valid_encoder)"
   ]
  },
  {
   "cell_type": "code",
   "execution_count": 60,
   "metadata": {
    "scrolled": true
   },
   "outputs": [
    {
     "name": "stdout",
     "output_type": "stream",
     "text": [
      "RMSE: 1727.49\n",
      "CPU times: user 0 ns, sys: 2.71 ms, total: 2.71 ms\n",
      "Wall time: 1.51 ms\n"
     ]
    }
   ],
   "source": [
    "%%time \n",
    "rmse_rf = mean_squared_error(target_valid_encoder, pred_rf, squared=False)\n",
    "print('RMSE: {:.2f}'.format(rmse_rf))"
   ]
  },
  {
   "cell_type": "markdown",
   "metadata": {},
   "source": [
    "Модель RandomForestRegressor при гиперпараметрах: max_depth=14, max_features=12, n_estimators=350 показала результаты:\n",
    "- RMSE=1727.49\n",
    "- время обучения 6 мин. 54 сек.\n",
    "- время предсказания менее 4 сек."
   ]
  },
  {
   "cell_type": "markdown",
   "metadata": {},
   "source": [
    "### LightGBM"
   ]
  },
  {
   "cell_type": "code",
   "execution_count": 61,
   "metadata": {
    "scrolled": true
   },
   "outputs": [],
   "source": [
    "train_data = lgb.Dataset(features_train_encoder, label=target_train_encoder)\n",
    "valid_data = lgb.Dataset(features_valid_encoder, label=target_valid_encoder, reference=train_data)"
   ]
  },
  {
   "cell_type": "code",
   "execution_count": 62,
   "metadata": {},
   "outputs": [],
   "source": [
    "# Зададим гиперпараметры модели\n",
    "parameters = {'metric': 'l2', \n",
    "              'max_depth': 10, \n",
    "              'learning_rate': 0.2}"
   ]
  },
  {
   "cell_type": "code",
   "execution_count": 63,
   "metadata": {
    "scrolled": true
   },
   "outputs": [
    {
     "name": "stdout",
     "output_type": "stream",
     "text": [
      "[LightGBM] [Warning] Accuracy may be bad since you didn't explicitly set num_leaves OR 2^max_depth > num_leaves. (num_leaves=31).\n",
      "[LightGBM] [Warning] Accuracy may be bad since you didn't explicitly set num_leaves OR 2^max_depth > num_leaves. (num_leaves=31).\n",
      "[LightGBM] [Warning] Auto-choosing row-wise multi-threading, the overhead of testing was 0.007241 seconds.\n",
      "You can set `force_row_wise=true` to remove the overhead.\n",
      "And if memory is not enough, you can set `force_col_wise=true`.\n",
      "[LightGBM] [Info] Total Bins 635\n",
      "[LightGBM] [Info] Number of data points in the train set: 204630, number of used features: 24\n",
      "[LightGBM] [Warning] Accuracy may be bad since you didn't explicitly set num_leaves OR 2^max_depth > num_leaves. (num_leaves=31).\n",
      "[LightGBM] [Info] Start training from score 4588.013815\n",
      "[1]\tvalid_0's l2: 1.51284e+07\n",
      "[2]\tvalid_0's l2: 1.17717e+07\n",
      "[3]\tvalid_0's l2: 9.50752e+06\n",
      "[4]\tvalid_0's l2: 8.02484e+06\n",
      "[5]\tvalid_0's l2: 6.95676e+06\n",
      "[6]\tvalid_0's l2: 6.22395e+06\n",
      "[7]\tvalid_0's l2: 5.63662e+06\n",
      "[8]\tvalid_0's l2: 5.24454e+06\n",
      "[9]\tvalid_0's l2: 4.90829e+06\n",
      "[10]\tvalid_0's l2: 4.67582e+06\n",
      "[11]\tvalid_0's l2: 4.45621e+06\n",
      "[12]\tvalid_0's l2: 4.31452e+06\n",
      "[13]\tvalid_0's l2: 4.17062e+06\n",
      "[14]\tvalid_0's l2: 4.0563e+06\n",
      "[15]\tvalid_0's l2: 3.97557e+06\n",
      "[16]\tvalid_0's l2: 3.90278e+06\n",
      "[17]\tvalid_0's l2: 3.82027e+06\n",
      "[18]\tvalid_0's l2: 3.76252e+06\n",
      "[19]\tvalid_0's l2: 3.72328e+06\n",
      "[20]\tvalid_0's l2: 3.68742e+06\n",
      "[21]\tvalid_0's l2: 3.65347e+06\n",
      "[22]\tvalid_0's l2: 3.61739e+06\n",
      "[23]\tvalid_0's l2: 3.58469e+06\n",
      "[24]\tvalid_0's l2: 3.56538e+06\n",
      "[25]\tvalid_0's l2: 3.54232e+06\n",
      "[26]\tvalid_0's l2: 3.52817e+06\n",
      "[27]\tvalid_0's l2: 3.50373e+06\n",
      "[28]\tvalid_0's l2: 3.4813e+06\n",
      "[29]\tvalid_0's l2: 3.46973e+06\n",
      "[30]\tvalid_0's l2: 3.44648e+06\n",
      "[31]\tvalid_0's l2: 3.43424e+06\n",
      "[32]\tvalid_0's l2: 3.42105e+06\n",
      "[33]\tvalid_0's l2: 3.40935e+06\n",
      "[34]\tvalid_0's l2: 3.39531e+06\n",
      "[35]\tvalid_0's l2: 3.38491e+06\n",
      "[36]\tvalid_0's l2: 3.37834e+06\n",
      "[37]\tvalid_0's l2: 3.3583e+06\n",
      "[38]\tvalid_0's l2: 3.34684e+06\n",
      "[39]\tvalid_0's l2: 3.33269e+06\n",
      "[40]\tvalid_0's l2: 3.32071e+06\n",
      "[41]\tvalid_0's l2: 3.31235e+06\n",
      "[42]\tvalid_0's l2: 3.30454e+06\n",
      "[43]\tvalid_0's l2: 3.29519e+06\n",
      "[44]\tvalid_0's l2: 3.2899e+06\n",
      "[45]\tvalid_0's l2: 3.28219e+06\n",
      "[46]\tvalid_0's l2: 3.2786e+06\n",
      "[47]\tvalid_0's l2: 3.27264e+06\n",
      "[48]\tvalid_0's l2: 3.26766e+06\n",
      "[49]\tvalid_0's l2: 3.25433e+06\n",
      "[50]\tvalid_0's l2: 3.25029e+06\n",
      "[51]\tvalid_0's l2: 3.2444e+06\n",
      "[52]\tvalid_0's l2: 3.23644e+06\n",
      "[53]\tvalid_0's l2: 3.22865e+06\n",
      "[54]\tvalid_0's l2: 3.22289e+06\n",
      "[55]\tvalid_0's l2: 3.21253e+06\n",
      "[56]\tvalid_0's l2: 3.20963e+06\n",
      "[57]\tvalid_0's l2: 3.2015e+06\n",
      "[58]\tvalid_0's l2: 3.19593e+06\n",
      "[59]\tvalid_0's l2: 3.18987e+06\n",
      "[60]\tvalid_0's l2: 3.18701e+06\n",
      "[61]\tvalid_0's l2: 3.17707e+06\n",
      "[62]\tvalid_0's l2: 3.17614e+06\n",
      "[63]\tvalid_0's l2: 3.17507e+06\n",
      "[64]\tvalid_0's l2: 3.16823e+06\n",
      "[65]\tvalid_0's l2: 3.16434e+06\n",
      "[66]\tvalid_0's l2: 3.16063e+06\n",
      "[67]\tvalid_0's l2: 3.15635e+06\n",
      "[68]\tvalid_0's l2: 3.15421e+06\n",
      "[69]\tvalid_0's l2: 3.14698e+06\n",
      "[70]\tvalid_0's l2: 3.14513e+06\n",
      "[71]\tvalid_0's l2: 3.14453e+06\n",
      "[72]\tvalid_0's l2: 3.14186e+06\n",
      "[73]\tvalid_0's l2: 3.13273e+06\n",
      "[74]\tvalid_0's l2: 3.13017e+06\n",
      "[75]\tvalid_0's l2: 3.12415e+06\n",
      "[76]\tvalid_0's l2: 3.12355e+06\n",
      "[77]\tvalid_0's l2: 3.11789e+06\n",
      "[78]\tvalid_0's l2: 3.11432e+06\n",
      "[79]\tvalid_0's l2: 3.1096e+06\n",
      "[80]\tvalid_0's l2: 3.10766e+06\n",
      "[81]\tvalid_0's l2: 3.10572e+06\n",
      "[82]\tvalid_0's l2: 3.10412e+06\n",
      "[83]\tvalid_0's l2: 3.0969e+06\n",
      "[84]\tvalid_0's l2: 3.09289e+06\n",
      "[85]\tvalid_0's l2: 3.09099e+06\n",
      "[86]\tvalid_0's l2: 3.08776e+06\n",
      "[87]\tvalid_0's l2: 3.08409e+06\n",
      "[88]\tvalid_0's l2: 3.08245e+06\n",
      "[89]\tvalid_0's l2: 3.07891e+06\n",
      "[90]\tvalid_0's l2: 3.0758e+06\n",
      "[91]\tvalid_0's l2: 3.07166e+06\n",
      "[92]\tvalid_0's l2: 3.06766e+06\n",
      "[93]\tvalid_0's l2: 3.06223e+06\n",
      "[94]\tvalid_0's l2: 3.0608e+06\n",
      "[95]\tvalid_0's l2: 3.06078e+06\n",
      "[96]\tvalid_0's l2: 3.05686e+06\n",
      "[97]\tvalid_0's l2: 3.05324e+06\n",
      "[98]\tvalid_0's l2: 3.05181e+06\n",
      "[99]\tvalid_0's l2: 3.04638e+06\n",
      "[100]\tvalid_0's l2: 3.04367e+06\n",
      "CPU times: user 6.4 s, sys: 89.4 ms, total: 6.49 s\n",
      "Wall time: 6.58 s\n"
     ]
    }
   ],
   "source": [
    "%%time \n",
    "\n",
    "# Обучим модель\n",
    "model_lgbm = lgb.train(parameters, \n",
    "                       train_data,\n",
    "                       valid_sets=valid_data, \n",
    "                       num_boost_round=100)"
   ]
  },
  {
   "cell_type": "code",
   "execution_count": 64,
   "metadata": {
    "scrolled": true
   },
   "outputs": [
    {
     "name": "stdout",
     "output_type": "stream",
     "text": [
      "CPU times: user 400 ms, sys: 3.42 ms, total: 403 ms\n",
      "Wall time: 401 ms\n"
     ]
    }
   ],
   "source": [
    "%%time \n",
    "pred_lgbm = model_lgbm.predict(features_valid_encoder)\n"
   ]
  },
  {
   "cell_type": "code",
   "execution_count": 65,
   "metadata": {},
   "outputs": [
    {
     "name": "stdout",
     "output_type": "stream",
     "text": [
      "RMSE: 1744.61\n",
      "CPU times: user 3 ms, sys: 27 µs, total: 3.03 ms\n",
      "Wall time: 1.64 ms\n"
     ]
    }
   ],
   "source": [
    "%%time \n",
    "rmse_lgbm = mean_squared_error(target_valid_encoder, pred_lgbm, squared=False)\n",
    "\n",
    "print('RMSE: {:.2f}'.format(rmse_lgbm))\n"
   ]
  },
  {
   "cell_type": "markdown",
   "metadata": {},
   "source": [
    "Модель LGBMRegressor при гиперпараметрах: max_depth=10, learning_rate=0.2 и num_boost_round=100 показала результаты:\n",
    "- RMSE=1744.61\n",
    "- время обучения 6.58 сек.\n",
    "- время предсказания 401 мсек."
   ]
  },
  {
   "cell_type": "markdown",
   "metadata": {},
   "source": [
    "## Анализ моделей"
   ]
  },
  {
   "cell_type": "markdown",
   "metadata": {},
   "source": [
    "В условии указано, что решающим факторами при выборе модели являются следующие показатели:\n",
    "- Качество предсказаний.\n",
    "- Время обучения;\n",
    "- Время предсказания."
   ]
  },
  {
   "cell_type": "markdown",
   "metadata": {},
   "source": [
    "Сравнив результаты, можно сделать выводы, что:\n",
    "- модель CatBoost показала результаты RMSE=1635.53, время обучения 1 мин. 57 сек., время предсказания менее 1 сек;\n",
    "- Модель RandomForestRegressor имеет значение RMSE=1727.49 при времени обучения 6 мин. 54 сек., времени предсказания 3.3 сек.;\n",
    "- Модель LGBMRegressor показала результаты RMSE=1744.61, время обучения 6.58 сек., время предсказания менее 1 сек."
   ]
  },
  {
   "cell_type": "code",
   "execution_count": 66,
   "metadata": {},
   "outputs": [
    {
     "data": {
      "text/html": [
       "<div>\n",
       "<style scoped>\n",
       "    .dataframe tbody tr th:only-of-type {\n",
       "        vertical-align: middle;\n",
       "    }\n",
       "\n",
       "    .dataframe tbody tr th {\n",
       "        vertical-align: top;\n",
       "    }\n",
       "\n",
       "    .dataframe thead th {\n",
       "        text-align: right;\n",
       "    }\n",
       "</style>\n",
       "<table border=\"1\" class=\"dataframe\">\n",
       "  <thead>\n",
       "    <tr style=\"text-align: right;\">\n",
       "      <th></th>\n",
       "      <th>RMSE</th>\n",
       "      <th>Время обучения</th>\n",
       "      <th>Время предсказания</th>\n",
       "    </tr>\n",
       "  </thead>\n",
       "  <tbody>\n",
       "    <tr>\n",
       "      <th>CatBoostRegression</th>\n",
       "      <td>1635.53</td>\n",
       "      <td>1.57</td>\n",
       "      <td>409 ms</td>\n",
       "    </tr>\n",
       "    <tr>\n",
       "      <th>RandomForestRegression</th>\n",
       "      <td>1727.49</td>\n",
       "      <td>6.54</td>\n",
       "      <td>3.3 s</td>\n",
       "    </tr>\n",
       "    <tr>\n",
       "      <th>LGBMRegression</th>\n",
       "      <td>1744.61</td>\n",
       "      <td>6.58 сек</td>\n",
       "      <td>401 ms</td>\n",
       "    </tr>\n",
       "  </tbody>\n",
       "</table>\n",
       "</div>"
      ],
      "text/plain": [
       "                           RMSE Время обучения Время предсказания\n",
       "CatBoostRegression      1635.53           1.57             409 ms\n",
       "RandomForestRegression  1727.49           6.54              3.3 s\n",
       "LGBMRegression          1744.61       6.58 сек             401 ms"
      ]
     },
     "execution_count": 66,
     "metadata": {},
     "output_type": "execute_result"
    }
   ],
   "source": [
    "data = {'RMSE': [1635.53, 1727.49, 1744.61], \n",
    "        'Время обучения': [1.57, 6.54, '6.58 сек'], \n",
    "        'Время предсказания': ['409 ms', '3.3 s', '401 ms']}\n",
    "\n",
    "table = pd.DataFrame(data, index=['CatBoostRegression', 'RandomForestRegression', 'LGBMRegression'])\n",
    "table.sort_values('RMSE')"
   ]
  },
  {
   "cell_type": "markdown",
   "metadata": {},
   "source": [
    "Таким образом:\n",
    "\n",
    "- Если за основу брать качество предсказания, то выигрывает модель CatBoostRegression, у моделей RandomForestRegression и LGBMRegression RMSE примерно одинаковое;\n",
    "- Время обучения модели LGBMRegression 6.58 сек, CatBoostRegression 1 мин. 57 сек., RandomForestRegressionи 6 мин 54 сек.;\n",
    "- Время предсказания у моделей CatBoostRegression и LGBMRegression практически равное и состовляет менее 1 секунды, у модели RandomForestRegression в 6-8 раз дольше."
   ]
  },
  {
   "cell_type": "markdown",
   "metadata": {},
   "source": [
    "Исходя из итоговых данных, лучшей оказывается модель CatBoostRegression"
   ]
  },
  {
   "cell_type": "markdown",
   "metadata": {},
   "source": [
    "Проведем тестирование модели CatBoostRegression на тестовой выборке."
   ]
  },
  {
   "cell_type": "code",
   "execution_count": 68,
   "metadata": {},
   "outputs": [],
   "source": [
    "features_train_valid = pd.concat([features_train, features_valid])\n",
    "target_train_valid = pd.concat([target_train, target_valid])"
   ]
  },
  {
   "cell_type": "code",
   "execution_count": 69,
   "metadata": {},
   "outputs": [
    {
     "name": "stdout",
     "output_type": "stream",
     "text": [
      "0:\tlearn: 3881.0795229\ttotal: 493ms\tremaining: 3m 16s\n",
      "100:\tlearn: 1613.0641280\ttotal: 38s\tremaining: 1m 52s\n",
      "200:\tlearn: 1521.2721842\ttotal: 1m 18s\tremaining: 1m 17s\n",
      "300:\tlearn: 1467.8641442\ttotal: 2m\tremaining: 39.6s\n",
      "399:\tlearn: 1427.2930476\ttotal: 2m 41s\tremaining: 0us\n",
      "CPU times: user 2min 41s, sys: 888 ms, total: 2min 42s\n",
      "Wall time: 2min 43s\n"
     ]
    },
    {
     "data": {
      "text/plain": [
       "<catboost.core.CatBoostRegressor at 0x7f09e3961460>"
      ]
     },
     "execution_count": 69,
     "metadata": {},
     "output_type": "execute_result"
    }
   ],
   "source": [
    "%%time\n",
    "# Обучим модель\n",
    "final_cat.fit(Pool(features_train_valid, target_train_valid, cat_features=cat_features)) "
   ]
  },
  {
   "cell_type": "code",
   "execution_count": 70,
   "metadata": {},
   "outputs": [
    {
     "name": "stdout",
     "output_type": "stream",
     "text": [
      "RMSE: 1626.56\n",
      "CPU times: user 451 ms, sys: 3.96 ms, total: 455 ms\n",
      "Wall time: 472 ms\n"
     ]
    }
   ],
   "source": [
    "%%time\n",
    "# Предсказания модели\n",
    "pred = model.predict(features_test)\n",
    "rmse_cat_boost = mean_squared_error(target_test, pred, squared=False)\n",
    "print('RMSE: {:.2f}'.format(rmse_cat_boost))"
   ]
  },
  {
   "cell_type": "markdown",
   "metadata": {},
   "source": [
    "Таким образом, модель CatBoost на тестовой выборке показала результаты RMSE=1626.56, время обучения 2 мин. 43 сек., время предсказания менее 1 сек. Результат близок к значениям валидационной выборки."
   ]
  }
 ],
 "metadata": {
  "ExecuteTimeLog": [
   {
    "duration": 1095,
    "start_time": "2022-07-21T08:38:08.895Z"
   },
   {
    "duration": 3075,
    "start_time": "2022-07-21T08:38:46.077Z"
   },
   {
    "duration": 815,
    "start_time": "2022-07-21T08:40:35.042Z"
   },
   {
    "duration": 91,
    "start_time": "2022-07-21T08:43:05.566Z"
   },
   {
    "duration": 397,
    "start_time": "2022-07-21T08:43:31.367Z"
   },
   {
    "duration": 385,
    "start_time": "2022-07-21T08:44:07.430Z"
   },
   {
    "duration": 415,
    "start_time": "2022-07-21T08:45:14.855Z"
   },
   {
    "duration": 819,
    "start_time": "2022-07-21T08:45:51.934Z"
   },
   {
    "duration": 84,
    "start_time": "2022-07-21T08:47:39.479Z"
   },
   {
    "duration": 124,
    "start_time": "2022-07-21T08:50:28.442Z"
   },
   {
    "duration": 131,
    "start_time": "2022-07-21T08:51:07.714Z"
   },
   {
    "duration": 125,
    "start_time": "2022-07-21T08:51:15.924Z"
   },
   {
    "duration": 1434,
    "start_time": "2022-07-21T09:18:25.784Z"
   },
   {
    "duration": 130,
    "start_time": "2022-07-21T09:18:57.178Z"
   },
   {
    "duration": 317,
    "start_time": "2022-07-21T09:19:30.637Z"
   },
   {
    "duration": 48,
    "start_time": "2022-07-21T09:20:09.974Z"
   },
   {
    "duration": 791,
    "start_time": "2022-07-21T09:20:11.253Z"
   },
   {
    "duration": 90,
    "start_time": "2022-07-21T09:20:12.051Z"
   },
   {
    "duration": 361,
    "start_time": "2022-07-21T09:20:12.142Z"
   },
   {
    "duration": 366,
    "start_time": "2022-07-21T09:20:12.505Z"
   },
   {
    "duration": 738,
    "start_time": "2022-07-21T09:20:12.872Z"
   },
   {
    "duration": 84,
    "start_time": "2022-07-21T09:20:13.612Z"
   },
   {
    "duration": 136,
    "start_time": "2022-07-21T09:20:13.697Z"
   },
   {
    "duration": 161,
    "start_time": "2022-07-21T09:20:14.113Z"
   },
   {
    "duration": 3051,
    "start_time": "2022-07-21T09:20:51.652Z"
   },
   {
    "duration": 232,
    "start_time": "2022-07-21T09:21:28.595Z"
   },
   {
    "duration": 166,
    "start_time": "2022-07-21T09:23:05.354Z"
   },
   {
    "duration": 193,
    "start_time": "2022-07-21T09:23:28.259Z"
   },
   {
    "duration": 164,
    "start_time": "2022-07-21T09:23:45.754Z"
   },
   {
    "duration": 158,
    "start_time": "2022-07-21T09:24:28.658Z"
   },
   {
    "duration": 196,
    "start_time": "2022-07-21T09:24:36.418Z"
   },
   {
    "duration": 240,
    "start_time": "2022-07-21T09:24:50.198Z"
   },
   {
    "duration": 174,
    "start_time": "2022-07-21T09:24:59.204Z"
   },
   {
    "duration": 209,
    "start_time": "2022-07-21T09:28:42.903Z"
   },
   {
    "duration": 115,
    "start_time": "2022-07-21T09:32:24.339Z"
   },
   {
    "duration": 179,
    "start_time": "2022-07-21T09:33:30.663Z"
   },
   {
    "duration": 111,
    "start_time": "2022-07-21T09:35:48.605Z"
   },
   {
    "duration": 105,
    "start_time": "2022-07-21T09:36:28.494Z"
   },
   {
    "duration": 100,
    "start_time": "2022-07-21T09:36:36.718Z"
   },
   {
    "duration": 269,
    "start_time": "2022-07-21T09:37:01.887Z"
   },
   {
    "duration": 259,
    "start_time": "2022-07-21T09:37:46.571Z"
   },
   {
    "duration": 234,
    "start_time": "2022-07-21T09:37:54.359Z"
   },
   {
    "duration": 110,
    "start_time": "2022-07-21T09:38:22.115Z"
   },
   {
    "duration": 69,
    "start_time": "2022-07-21T09:39:58.157Z"
   },
   {
    "duration": 3,
    "start_time": "2022-07-21T09:43:15.448Z"
   },
   {
    "duration": 832,
    "start_time": "2022-07-21T09:43:15.455Z"
   },
   {
    "duration": 100,
    "start_time": "2022-07-21T09:43:16.289Z"
   },
   {
    "duration": 85,
    "start_time": "2022-07-21T09:43:16.391Z"
   },
   {
    "duration": 237,
    "start_time": "2022-07-21T09:43:16.477Z"
   },
   {
    "duration": 102,
    "start_time": "2022-07-21T09:43:16.716Z"
   },
   {
    "duration": 175,
    "start_time": "2022-07-21T09:43:16.820Z"
   },
   {
    "duration": 106,
    "start_time": "2022-07-21T09:43:16.997Z"
   },
   {
    "duration": 72,
    "start_time": "2022-07-21T09:43:17.104Z"
   },
   {
    "duration": 368,
    "start_time": "2022-07-21T09:43:17.177Z"
   },
   {
    "duration": 374,
    "start_time": "2022-07-21T09:43:17.546Z"
   },
   {
    "duration": 825,
    "start_time": "2022-07-21T09:43:17.922Z"
   },
   {
    "duration": 414,
    "start_time": "2022-07-21T09:43:52.747Z"
   },
   {
    "duration": 401,
    "start_time": "2022-07-21T09:44:11.014Z"
   },
   {
    "duration": 3,
    "start_time": "2022-07-21T09:44:19.250Z"
   },
   {
    "duration": 911,
    "start_time": "2022-07-21T09:44:19.255Z"
   },
   {
    "duration": 107,
    "start_time": "2022-07-21T09:44:20.168Z"
   },
   {
    "duration": 102,
    "start_time": "2022-07-21T09:44:20.276Z"
   },
   {
    "duration": 264,
    "start_time": "2022-07-21T09:44:20.380Z"
   },
   {
    "duration": 118,
    "start_time": "2022-07-21T09:44:20.651Z"
   },
   {
    "duration": 189,
    "start_time": "2022-07-21T09:44:20.771Z"
   },
   {
    "duration": 129,
    "start_time": "2022-07-21T09:44:20.962Z"
   },
   {
    "duration": 82,
    "start_time": "2022-07-21T09:44:21.092Z"
   },
   {
    "duration": 399,
    "start_time": "2022-07-21T09:44:21.176Z"
   },
   {
    "duration": 413,
    "start_time": "2022-07-21T09:44:21.577Z"
   },
   {
    "duration": 893,
    "start_time": "2022-07-21T09:44:21.992Z"
   },
   {
    "duration": 2,
    "start_time": "2022-07-21T09:44:28.320Z"
   },
   {
    "duration": 408,
    "start_time": "2022-07-21T09:44:33.577Z"
   },
   {
    "duration": 3,
    "start_time": "2022-07-21T09:44:39.498Z"
   },
   {
    "duration": 835,
    "start_time": "2022-07-21T09:44:39.504Z"
   },
   {
    "duration": 106,
    "start_time": "2022-07-21T09:44:40.341Z"
   },
   {
    "duration": 89,
    "start_time": "2022-07-21T09:44:40.448Z"
   },
   {
    "duration": 257,
    "start_time": "2022-07-21T09:44:40.538Z"
   },
   {
    "duration": 214,
    "start_time": "2022-07-21T09:44:40.796Z"
   },
   {
    "duration": 190,
    "start_time": "2022-07-21T09:44:41.012Z"
   },
   {
    "duration": 118,
    "start_time": "2022-07-21T09:44:41.203Z"
   },
   {
    "duration": 73,
    "start_time": "2022-07-21T09:44:41.323Z"
   },
   {
    "duration": 410,
    "start_time": "2022-07-21T09:44:41.398Z"
   },
   {
    "duration": 427,
    "start_time": "2022-07-21T09:44:41.810Z"
   },
   {
    "duration": 893,
    "start_time": "2022-07-21T09:44:42.238Z"
   },
   {
    "duration": 110,
    "start_time": "2022-07-21T09:45:45.897Z"
   },
   {
    "duration": 74,
    "start_time": "2022-07-21T10:01:17.653Z"
   },
   {
    "duration": 3,
    "start_time": "2022-07-21T10:01:26.342Z"
   },
   {
    "duration": 9,
    "start_time": "2022-07-21T10:03:05.918Z"
   },
   {
    "duration": 81,
    "start_time": "2022-07-21T10:03:10.985Z"
   },
   {
    "duration": 86,
    "start_time": "2022-07-21T10:05:23.903Z"
   },
   {
    "duration": 71,
    "start_time": "2022-07-21T10:05:40.227Z"
   },
   {
    "duration": 78,
    "start_time": "2022-07-21T10:06:47.418Z"
   },
   {
    "duration": 123,
    "start_time": "2022-07-21T10:07:04.987Z"
   },
   {
    "duration": 97,
    "start_time": "2022-07-21T10:07:30.010Z"
   },
   {
    "duration": 117,
    "start_time": "2022-07-21T10:07:56.076Z"
   },
   {
    "duration": 98,
    "start_time": "2022-07-21T10:08:02.890Z"
   },
   {
    "duration": 93,
    "start_time": "2022-07-21T10:10:50.584Z"
   },
   {
    "duration": 126,
    "start_time": "2022-07-21T10:10:58.294Z"
   },
   {
    "duration": 3,
    "start_time": "2022-07-21T10:13:21.545Z"
   },
   {
    "duration": 806,
    "start_time": "2022-07-21T10:13:21.550Z"
   },
   {
    "duration": 106,
    "start_time": "2022-07-21T10:13:22.358Z"
   },
   {
    "duration": 93,
    "start_time": "2022-07-21T10:13:22.466Z"
   },
   {
    "duration": 266,
    "start_time": "2022-07-21T10:13:22.561Z"
   },
   {
    "duration": 124,
    "start_time": "2022-07-21T10:13:22.828Z"
   },
   {
    "duration": 193,
    "start_time": "2022-07-21T10:13:22.954Z"
   },
   {
    "duration": 133,
    "start_time": "2022-07-21T10:13:23.153Z"
   },
   {
    "duration": 80,
    "start_time": "2022-07-21T10:13:23.289Z"
   },
   {
    "duration": 96,
    "start_time": "2022-07-21T10:14:16.367Z"
   },
   {
    "duration": 126,
    "start_time": "2022-07-21T10:14:21.076Z"
   },
   {
    "duration": 92,
    "start_time": "2022-07-21T10:14:27.052Z"
   },
   {
    "duration": 153,
    "start_time": "2022-07-21T10:15:37.763Z"
   },
   {
    "duration": 94,
    "start_time": "2022-07-21T10:15:39.078Z"
   },
   {
    "duration": 26,
    "start_time": "2022-07-21T10:16:04.563Z"
   },
   {
    "duration": 362,
    "start_time": "2022-07-21T10:17:09.031Z"
   },
   {
    "duration": 4,
    "start_time": "2022-07-21T10:17:20.053Z"
   },
   {
    "duration": 850,
    "start_time": "2022-07-21T10:17:20.059Z"
   },
   {
    "duration": 108,
    "start_time": "2022-07-21T10:17:20.911Z"
   },
   {
    "duration": 95,
    "start_time": "2022-07-21T10:17:21.021Z"
   },
   {
    "duration": 243,
    "start_time": "2022-07-21T10:17:21.118Z"
   },
   {
    "duration": 106,
    "start_time": "2022-07-21T10:17:21.363Z"
   },
   {
    "duration": 191,
    "start_time": "2022-07-21T10:17:21.471Z"
   },
   {
    "duration": 128,
    "start_time": "2022-07-21T10:17:21.664Z"
   },
   {
    "duration": 66,
    "start_time": "2022-07-21T10:17:21.794Z"
   },
   {
    "duration": 170,
    "start_time": "2022-07-21T10:17:21.862Z"
   },
   {
    "duration": 101,
    "start_time": "2022-07-21T10:17:22.033Z"
   },
   {
    "duration": 417,
    "start_time": "2022-07-21T10:17:22.136Z"
   },
   {
    "duration": 409,
    "start_time": "2022-07-21T10:17:22.554Z"
   },
   {
    "duration": 839,
    "start_time": "2022-07-21T10:17:22.965Z"
   },
   {
    "duration": 378,
    "start_time": "2022-07-21T10:17:39.042Z"
   },
   {
    "duration": 3,
    "start_time": "2022-07-21T10:17:44.346Z"
   },
   {
    "duration": 787,
    "start_time": "2022-07-21T10:17:44.351Z"
   },
   {
    "duration": 99,
    "start_time": "2022-07-21T10:17:45.139Z"
   },
   {
    "duration": 81,
    "start_time": "2022-07-21T10:17:45.241Z"
   },
   {
    "duration": 229,
    "start_time": "2022-07-21T10:17:45.324Z"
   },
   {
    "duration": 114,
    "start_time": "2022-07-21T10:17:45.554Z"
   },
   {
    "duration": 258,
    "start_time": "2022-07-21T10:17:45.669Z"
   },
   {
    "duration": 107,
    "start_time": "2022-07-21T10:17:45.929Z"
   },
   {
    "duration": 84,
    "start_time": "2022-07-21T10:17:46.038Z"
   },
   {
    "duration": 179,
    "start_time": "2022-07-21T10:17:46.125Z"
   },
   {
    "duration": 97,
    "start_time": "2022-07-21T10:17:46.306Z"
   },
   {
    "duration": 377,
    "start_time": "2022-07-21T10:17:46.405Z"
   },
   {
    "duration": 370,
    "start_time": "2022-07-21T10:17:46.783Z"
   },
   {
    "duration": 762,
    "start_time": "2022-07-21T10:17:47.154Z"
   },
   {
    "duration": 32,
    "start_time": "2022-07-21T10:44:28.580Z"
   },
   {
    "duration": 7,
    "start_time": "2022-07-21T10:51:14.900Z"
   },
   {
    "duration": 7,
    "start_time": "2022-07-21T10:51:29.057Z"
   },
   {
    "duration": 8,
    "start_time": "2022-07-21T10:51:50.388Z"
   },
   {
    "duration": 73,
    "start_time": "2022-07-21T10:53:13.364Z"
   },
   {
    "duration": 96,
    "start_time": "2022-07-21T10:53:20.863Z"
   },
   {
    "duration": 19,
    "start_time": "2022-07-21T10:53:25.504Z"
   },
   {
    "duration": 99,
    "start_time": "2022-07-21T11:09:38.263Z"
   },
   {
    "duration": 78,
    "start_time": "2022-07-21T11:09:57.114Z"
   },
   {
    "duration": 96,
    "start_time": "2022-07-21T11:10:11.056Z"
   },
   {
    "duration": 19,
    "start_time": "2022-07-21T11:10:59.108Z"
   },
   {
    "duration": 76,
    "start_time": "2022-07-21T11:11:40.363Z"
   },
   {
    "duration": 563,
    "start_time": "2022-07-21T11:12:39.996Z"
   },
   {
    "duration": 25,
    "start_time": "2022-07-21T11:18:21.543Z"
   },
   {
    "duration": 3,
    "start_time": "2022-07-21T11:22:06.402Z"
   },
   {
    "duration": 783,
    "start_time": "2022-07-21T11:22:06.406Z"
   },
   {
    "duration": 96,
    "start_time": "2022-07-21T11:22:07.190Z"
   },
   {
    "duration": 91,
    "start_time": "2022-07-21T11:22:07.288Z"
   },
   {
    "duration": 239,
    "start_time": "2022-07-21T11:22:07.380Z"
   },
   {
    "duration": 105,
    "start_time": "2022-07-21T11:22:07.620Z"
   },
   {
    "duration": 185,
    "start_time": "2022-07-21T11:22:07.727Z"
   },
   {
    "duration": 108,
    "start_time": "2022-07-21T11:22:07.913Z"
   },
   {
    "duration": 68,
    "start_time": "2022-07-21T11:22:08.023Z"
   },
   {
    "duration": 163,
    "start_time": "2022-07-21T11:22:08.092Z"
   },
   {
    "duration": 108,
    "start_time": "2022-07-21T11:22:08.257Z"
   },
   {
    "duration": 356,
    "start_time": "2022-07-21T11:22:08.366Z"
   },
   {
    "duration": 372,
    "start_time": "2022-07-21T11:22:08.723Z"
   },
   {
    "duration": 728,
    "start_time": "2022-07-21T11:22:09.096Z"
   },
   {
    "duration": 6,
    "start_time": "2022-07-21T11:22:09.826Z"
   },
   {
    "duration": 32,
    "start_time": "2022-07-21T11:22:09.834Z"
   },
   {
    "duration": 94,
    "start_time": "2022-07-21T11:22:09.867Z"
   },
   {
    "duration": 93,
    "start_time": "2022-07-21T11:23:02.350Z"
   },
   {
    "duration": 1345,
    "start_time": "2022-07-21T11:23:06.543Z"
   },
   {
    "duration": 339,
    "start_time": "2022-07-21T11:23:15.870Z"
   },
   {
    "duration": 375,
    "start_time": "2022-07-21T11:23:28.843Z"
   },
   {
    "duration": 323,
    "start_time": "2022-07-21T11:50:46.056Z"
   },
   {
    "duration": 294,
    "start_time": "2022-07-21T11:51:29.546Z"
   },
   {
    "duration": 1456,
    "start_time": "2022-07-21T11:51:42.398Z"
   },
   {
    "duration": 396,
    "start_time": "2022-07-21T11:53:10.672Z"
   },
   {
    "duration": 301,
    "start_time": "2022-07-21T11:54:20.018Z"
   },
   {
    "duration": 296683,
    "start_time": "2022-07-21T11:55:51.316Z"
   },
   {
    "duration": 4,
    "start_time": "2022-07-21T12:03:41.443Z"
   },
   {
    "duration": 857,
    "start_time": "2022-07-21T12:03:41.449Z"
   },
   {
    "duration": 109,
    "start_time": "2022-07-21T12:03:42.308Z"
   },
   {
    "duration": 101,
    "start_time": "2022-07-21T12:03:42.418Z"
   },
   {
    "duration": 253,
    "start_time": "2022-07-21T12:03:42.521Z"
   },
   {
    "duration": 125,
    "start_time": "2022-07-21T12:03:42.775Z"
   },
   {
    "duration": 193,
    "start_time": "2022-07-21T12:03:42.901Z"
   },
   {
    "duration": 124,
    "start_time": "2022-07-21T12:03:43.095Z"
   },
   {
    "duration": 73,
    "start_time": "2022-07-21T12:03:43.220Z"
   },
   {
    "duration": 158,
    "start_time": "2022-07-21T12:03:43.295Z"
   },
   {
    "duration": 103,
    "start_time": "2022-07-21T12:03:43.454Z"
   },
   {
    "duration": 361,
    "start_time": "2022-07-21T12:03:43.558Z"
   },
   {
    "duration": 372,
    "start_time": "2022-07-21T12:03:43.920Z"
   },
   {
    "duration": 830,
    "start_time": "2022-07-21T12:03:44.295Z"
   },
   {
    "duration": 7,
    "start_time": "2022-07-21T12:03:45.127Z"
   },
   {
    "duration": 30,
    "start_time": "2022-07-21T12:03:45.135Z"
   },
   {
    "duration": 97,
    "start_time": "2022-07-21T12:03:45.167Z"
   },
   {
    "duration": 20,
    "start_time": "2022-07-21T12:03:56.688Z"
   },
   {
    "duration": 19,
    "start_time": "2022-07-21T12:04:35.249Z"
   },
   {
    "duration": 3,
    "start_time": "2022-07-21T12:05:53.927Z"
   },
   {
    "duration": 809,
    "start_time": "2022-07-21T12:05:53.931Z"
   },
   {
    "duration": 114,
    "start_time": "2022-07-21T12:05:54.741Z"
   },
   {
    "duration": 85,
    "start_time": "2022-07-21T12:05:54.857Z"
   },
   {
    "duration": 232,
    "start_time": "2022-07-21T12:05:54.952Z"
   },
   {
    "duration": 181,
    "start_time": "2022-07-21T12:05:55.186Z"
   },
   {
    "duration": 168,
    "start_time": "2022-07-21T12:05:55.368Z"
   },
   {
    "duration": 99,
    "start_time": "2022-07-21T12:05:55.537Z"
   },
   {
    "duration": 72,
    "start_time": "2022-07-21T12:05:55.637Z"
   },
   {
    "duration": 152,
    "start_time": "2022-07-21T12:05:55.711Z"
   },
   {
    "duration": 108,
    "start_time": "2022-07-21T12:05:55.865Z"
   },
   {
    "duration": 395,
    "start_time": "2022-07-21T12:05:55.975Z"
   },
   {
    "duration": 356,
    "start_time": "2022-07-21T12:05:56.372Z"
   },
   {
    "duration": 803,
    "start_time": "2022-07-21T12:05:56.730Z"
   },
   {
    "duration": 7,
    "start_time": "2022-07-21T12:05:57.535Z"
   },
   {
    "duration": 19,
    "start_time": "2022-07-21T12:05:57.552Z"
   },
   {
    "duration": 101,
    "start_time": "2022-07-21T12:05:57.573Z"
   },
   {
    "duration": 6,
    "start_time": "2022-07-21T12:05:57.675Z"
   },
   {
    "duration": 26,
    "start_time": "2022-07-21T12:05:57.683Z"
   },
   {
    "duration": 93,
    "start_time": "2022-07-21T12:05:57.710Z"
   },
   {
    "duration": 8865,
    "start_time": "2022-07-21T12:05:57.804Z"
   },
   {
    "duration": 0,
    "start_time": "2022-07-21T12:06:06.671Z"
   },
   {
    "duration": 0,
    "start_time": "2022-07-21T12:06:06.672Z"
   },
   {
    "duration": 0,
    "start_time": "2022-07-21T12:06:06.673Z"
   },
   {
    "duration": 91,
    "start_time": "2022-07-21T12:06:32.025Z"
   },
   {
    "duration": 5,
    "start_time": "2022-07-21T12:06:32.886Z"
   },
   {
    "duration": 16,
    "start_time": "2022-07-21T12:06:33.551Z"
   },
   {
    "duration": 82,
    "start_time": "2022-07-21T12:06:34.420Z"
   },
   {
    "duration": 3,
    "start_time": "2022-07-21T12:06:42.960Z"
   },
   {
    "duration": 812,
    "start_time": "2022-07-21T12:06:42.966Z"
   },
   {
    "duration": 110,
    "start_time": "2022-07-21T12:06:43.780Z"
   },
   {
    "duration": 81,
    "start_time": "2022-07-21T12:06:43.892Z"
   },
   {
    "duration": 221,
    "start_time": "2022-07-21T12:06:43.975Z"
   },
   {
    "duration": 108,
    "start_time": "2022-07-21T12:06:44.197Z"
   },
   {
    "duration": 172,
    "start_time": "2022-07-21T12:06:44.307Z"
   },
   {
    "duration": 123,
    "start_time": "2022-07-21T12:06:44.480Z"
   },
   {
    "duration": 70,
    "start_time": "2022-07-21T12:06:44.604Z"
   },
   {
    "duration": 156,
    "start_time": "2022-07-21T12:06:44.676Z"
   },
   {
    "duration": 102,
    "start_time": "2022-07-21T12:06:44.833Z"
   },
   {
    "duration": 366,
    "start_time": "2022-07-21T12:06:44.936Z"
   },
   {
    "duration": 368,
    "start_time": "2022-07-21T12:06:45.304Z"
   },
   {
    "duration": 824,
    "start_time": "2022-07-21T12:06:45.674Z"
   },
   {
    "duration": 8,
    "start_time": "2022-07-21T12:06:46.499Z"
   },
   {
    "duration": 22,
    "start_time": "2022-07-21T12:06:46.508Z"
   },
   {
    "duration": 121,
    "start_time": "2022-07-21T12:06:46.532Z"
   },
   {
    "duration": 6,
    "start_time": "2022-07-21T12:06:46.655Z"
   },
   {
    "duration": 23,
    "start_time": "2022-07-21T12:06:46.662Z"
   },
   {
    "duration": 110,
    "start_time": "2022-07-21T12:06:46.687Z"
   },
   {
    "duration": 8,
    "start_time": "2022-07-21T12:06:46.798Z"
   },
   {
    "duration": 104,
    "start_time": "2022-07-21T12:06:46.808Z"
   },
   {
    "duration": 723,
    "start_time": "2022-07-21T12:06:46.914Z"
   },
   {
    "duration": 5,
    "start_time": "2022-07-21T12:13:25.465Z"
   },
   {
    "duration": 942,
    "start_time": "2022-07-21T12:13:25.472Z"
   },
   {
    "duration": 113,
    "start_time": "2022-07-21T12:13:26.416Z"
   },
   {
    "duration": 94,
    "start_time": "2022-07-21T12:13:26.531Z"
   },
   {
    "duration": 248,
    "start_time": "2022-07-21T12:13:26.627Z"
   },
   {
    "duration": 123,
    "start_time": "2022-07-21T12:13:26.876Z"
   },
   {
    "duration": 220,
    "start_time": "2022-07-21T12:13:27.000Z"
   },
   {
    "duration": 133,
    "start_time": "2022-07-21T12:13:27.222Z"
   },
   {
    "duration": 69,
    "start_time": "2022-07-21T12:13:27.357Z"
   },
   {
    "duration": 180,
    "start_time": "2022-07-21T12:13:27.429Z"
   },
   {
    "duration": 109,
    "start_time": "2022-07-21T12:13:27.611Z"
   },
   {
    "duration": 400,
    "start_time": "2022-07-21T12:13:27.722Z"
   },
   {
    "duration": 426,
    "start_time": "2022-07-21T12:13:28.123Z"
   },
   {
    "duration": 834,
    "start_time": "2022-07-21T12:13:28.553Z"
   },
   {
    "duration": 37,
    "start_time": "2022-07-21T12:13:29.389Z"
   },
   {
    "duration": 104,
    "start_time": "2022-07-21T12:13:29.428Z"
   },
   {
    "duration": 5,
    "start_time": "2022-07-21T12:13:29.534Z"
   },
   {
    "duration": 638,
    "start_time": "2022-07-21T12:13:29.540Z"
   },
   {
    "duration": 18,
    "start_time": "2022-07-21T12:13:30.179Z"
   },
   {
    "duration": 86,
    "start_time": "2022-07-21T12:13:30.198Z"
   },
   {
    "duration": 676,
    "start_time": "2022-07-21T12:14:34.027Z"
   },
   {
    "duration": 24,
    "start_time": "2022-07-21T12:17:08.056Z"
   },
   {
    "duration": 27,
    "start_time": "2022-07-21T12:17:15.172Z"
   },
   {
    "duration": 29,
    "start_time": "2022-07-21T12:18:15.300Z"
   },
   {
    "duration": 90,
    "start_time": "2022-07-21T12:38:50.573Z"
   },
   {
    "duration": 739,
    "start_time": "2022-07-21T12:38:53.614Z"
   },
   {
    "duration": 112,
    "start_time": "2022-07-21T12:38:54.354Z"
   },
   {
    "duration": 86,
    "start_time": "2022-07-21T12:38:54.622Z"
   },
   {
    "duration": 218,
    "start_time": "2022-07-21T12:38:55.072Z"
   },
   {
    "duration": 104,
    "start_time": "2022-07-21T12:38:55.297Z"
   },
   {
    "duration": 161,
    "start_time": "2022-07-21T12:38:55.515Z"
   },
   {
    "duration": 101,
    "start_time": "2022-07-21T12:38:55.738Z"
   },
   {
    "duration": 67,
    "start_time": "2022-07-21T12:38:55.958Z"
   },
   {
    "duration": 139,
    "start_time": "2022-07-21T12:38:56.413Z"
   },
   {
    "duration": 102,
    "start_time": "2022-07-21T12:38:56.890Z"
   },
   {
    "duration": 368,
    "start_time": "2022-07-21T12:38:56.994Z"
   },
   {
    "duration": 377,
    "start_time": "2022-07-21T12:38:57.363Z"
   },
   {
    "duration": 792,
    "start_time": "2022-07-21T12:38:57.742Z"
   },
   {
    "duration": 43,
    "start_time": "2022-07-21T12:38:58.535Z"
   },
   {
    "duration": 103,
    "start_time": "2022-07-21T12:38:58.580Z"
   },
   {
    "duration": 6,
    "start_time": "2022-07-21T12:38:58.684Z"
   },
   {
    "duration": 534,
    "start_time": "2022-07-21T12:38:58.691Z"
   },
   {
    "duration": 28,
    "start_time": "2022-07-21T12:38:59.226Z"
   },
   {
    "duration": 63,
    "start_time": "2022-07-21T12:38:59.256Z"
   },
   {
    "duration": 12,
    "start_time": "2022-07-21T12:46:40.841Z"
   },
   {
    "duration": 4,
    "start_time": "2022-07-21T12:51:38.246Z"
   },
   {
    "duration": 4,
    "start_time": "2022-07-21T12:51:42.235Z"
   },
   {
    "duration": 870,
    "start_time": "2022-07-21T12:51:42.241Z"
   },
   {
    "duration": 118,
    "start_time": "2022-07-21T12:51:43.113Z"
   },
   {
    "duration": 99,
    "start_time": "2022-07-21T12:51:43.232Z"
   },
   {
    "duration": 247,
    "start_time": "2022-07-21T12:51:43.332Z"
   },
   {
    "duration": 112,
    "start_time": "2022-07-21T12:51:43.581Z"
   },
   {
    "duration": 258,
    "start_time": "2022-07-21T12:51:43.694Z"
   },
   {
    "duration": 110,
    "start_time": "2022-07-21T12:51:43.953Z"
   },
   {
    "duration": 62,
    "start_time": "2022-07-21T12:51:44.064Z"
   },
   {
    "duration": 167,
    "start_time": "2022-07-21T12:51:44.127Z"
   },
   {
    "duration": 103,
    "start_time": "2022-07-21T12:51:44.295Z"
   },
   {
    "duration": 416,
    "start_time": "2022-07-21T12:51:44.400Z"
   },
   {
    "duration": 406,
    "start_time": "2022-07-21T12:51:44.818Z"
   },
   {
    "duration": 892,
    "start_time": "2022-07-21T12:51:45.226Z"
   },
   {
    "duration": 56,
    "start_time": "2022-07-21T12:51:46.121Z"
   },
   {
    "duration": 139,
    "start_time": "2022-07-21T12:51:46.179Z"
   },
   {
    "duration": 6,
    "start_time": "2022-07-21T12:51:46.320Z"
   },
   {
    "duration": 580,
    "start_time": "2022-07-21T12:51:46.327Z"
   },
   {
    "duration": 19,
    "start_time": "2022-07-21T12:51:46.908Z"
   },
   {
    "duration": 80,
    "start_time": "2022-07-21T12:51:46.928Z"
   },
   {
    "duration": 10,
    "start_time": "2022-07-21T12:51:47.010Z"
   },
   {
    "duration": 17,
    "start_time": "2022-07-21T12:56:28.310Z"
   },
   {
    "duration": 11,
    "start_time": "2022-07-21T12:56:39.293Z"
   },
   {
    "duration": 5,
    "start_time": "2022-07-21T12:56:54.013Z"
   },
   {
    "duration": 76,
    "start_time": "2022-07-21T13:00:39.268Z"
   },
   {
    "duration": 2817,
    "start_time": "2022-07-21T13:06:13.899Z"
   },
   {
    "duration": 2,
    "start_time": "2022-07-21T13:06:54.039Z"
   },
   {
    "duration": 2,
    "start_time": "2022-07-21T13:08:53.553Z"
   },
   {
    "duration": 92910,
    "start_time": "2022-07-21T13:14:32.309Z"
   },
   {
    "duration": 156082,
    "start_time": "2022-07-21T13:16:15.214Z"
   },
   {
    "duration": 0,
    "start_time": "2022-07-21T13:18:51.298Z"
   },
   {
    "duration": 93,
    "start_time": "2022-07-21T13:20:36.945Z"
   },
   {
    "duration": 0,
    "start_time": "2022-07-21T13:20:37.040Z"
   },
   {
    "duration": 0,
    "start_time": "2022-07-21T13:20:37.041Z"
   },
   {
    "duration": 0,
    "start_time": "2022-07-21T13:20:37.042Z"
   },
   {
    "duration": 0,
    "start_time": "2022-07-21T13:20:37.043Z"
   },
   {
    "duration": 0,
    "start_time": "2022-07-21T13:20:37.044Z"
   },
   {
    "duration": 0,
    "start_time": "2022-07-21T13:20:37.045Z"
   },
   {
    "duration": 0,
    "start_time": "2022-07-21T13:20:37.047Z"
   },
   {
    "duration": 0,
    "start_time": "2022-07-21T13:20:37.047Z"
   },
   {
    "duration": 0,
    "start_time": "2022-07-21T13:20:37.048Z"
   },
   {
    "duration": 0,
    "start_time": "2022-07-21T13:20:37.049Z"
   },
   {
    "duration": 0,
    "start_time": "2022-07-21T13:20:37.050Z"
   },
   {
    "duration": 0,
    "start_time": "2022-07-21T13:20:37.052Z"
   },
   {
    "duration": 0,
    "start_time": "2022-07-21T13:20:37.055Z"
   },
   {
    "duration": 0,
    "start_time": "2022-07-21T13:20:37.056Z"
   },
   {
    "duration": 0,
    "start_time": "2022-07-21T13:20:37.058Z"
   },
   {
    "duration": 0,
    "start_time": "2022-07-21T13:20:37.059Z"
   },
   {
    "duration": 0,
    "start_time": "2022-07-21T13:20:37.060Z"
   },
   {
    "duration": 0,
    "start_time": "2022-07-21T13:20:37.062Z"
   },
   {
    "duration": 0,
    "start_time": "2022-07-21T13:20:37.063Z"
   },
   {
    "duration": 0,
    "start_time": "2022-07-21T13:20:37.065Z"
   },
   {
    "duration": 0,
    "start_time": "2022-07-21T13:20:37.066Z"
   },
   {
    "duration": 0,
    "start_time": "2022-07-21T13:20:37.068Z"
   },
   {
    "duration": 0,
    "start_time": "2022-07-21T13:20:37.070Z"
   },
   {
    "duration": 77,
    "start_time": "2022-07-21T13:21:03.520Z"
   },
   {
    "duration": 78,
    "start_time": "2022-07-21T13:21:14.642Z"
   },
   {
    "duration": 10,
    "start_time": "2022-07-21T13:21:20.912Z"
   },
   {
    "duration": 99,
    "start_time": "2022-07-21T13:21:33.125Z"
   },
   {
    "duration": 968,
    "start_time": "2022-07-21T13:21:37.371Z"
   },
   {
    "duration": 125,
    "start_time": "2022-07-21T13:21:38.844Z"
   },
   {
    "duration": 97,
    "start_time": "2022-07-21T13:21:39.703Z"
   },
   {
    "duration": 221,
    "start_time": "2022-07-21T13:21:40.321Z"
   },
   {
    "duration": 136,
    "start_time": "2022-07-21T13:21:40.646Z"
   },
   {
    "duration": 207,
    "start_time": "2022-07-21T13:21:41.015Z"
   },
   {
    "duration": 116,
    "start_time": "2022-07-21T13:21:41.381Z"
   },
   {
    "duration": 79,
    "start_time": "2022-07-21T13:21:41.644Z"
   },
   {
    "duration": 179,
    "start_time": "2022-07-21T13:21:42.129Z"
   },
   {
    "duration": 149,
    "start_time": "2022-07-21T13:21:42.382Z"
   },
   {
    "duration": 493,
    "start_time": "2022-07-21T13:21:42.617Z"
   },
   {
    "duration": 489,
    "start_time": "2022-07-21T13:21:43.112Z"
   },
   {
    "duration": 972,
    "start_time": "2022-07-21T13:21:43.603Z"
   },
   {
    "duration": 51,
    "start_time": "2022-07-21T13:21:44.578Z"
   },
   {
    "duration": 137,
    "start_time": "2022-07-21T13:21:44.631Z"
   },
   {
    "duration": 9,
    "start_time": "2022-07-21T13:21:44.771Z"
   },
   {
    "duration": 639,
    "start_time": "2022-07-21T13:21:44.782Z"
   },
   {
    "duration": 29,
    "start_time": "2022-07-21T13:21:45.423Z"
   },
   {
    "duration": 76,
    "start_time": "2022-07-21T13:21:45.456Z"
   },
   {
    "duration": 10,
    "start_time": "2022-07-21T13:21:45.840Z"
   },
   {
    "duration": 17,
    "start_time": "2022-07-21T13:21:46.079Z"
   },
   {
    "duration": 115,
    "start_time": "2022-07-21T13:21:48.556Z"
   },
   {
    "duration": 3202,
    "start_time": "2022-07-21T13:21:50.385Z"
   },
   {
    "duration": 6050,
    "start_time": "2022-07-21T13:30:34.900Z"
   },
   {
    "duration": 5445,
    "start_time": "2022-07-21T13:31:18.690Z"
   },
   {
    "duration": 6,
    "start_time": "2022-07-21T14:17:53.063Z"
   },
   {
    "duration": 908,
    "start_time": "2022-07-21T14:17:55.485Z"
   },
   {
    "duration": 113,
    "start_time": "2022-07-21T14:17:57.651Z"
   },
   {
    "duration": 89,
    "start_time": "2022-07-21T14:17:58.286Z"
   },
   {
    "duration": 234,
    "start_time": "2022-07-21T14:17:58.778Z"
   },
   {
    "duration": 117,
    "start_time": "2022-07-21T14:17:59.014Z"
   },
   {
    "duration": 195,
    "start_time": "2022-07-21T14:17:59.205Z"
   },
   {
    "duration": 110,
    "start_time": "2022-07-21T14:17:59.432Z"
   },
   {
    "duration": 69,
    "start_time": "2022-07-21T14:17:59.665Z"
   },
   {
    "duration": 153,
    "start_time": "2022-07-21T14:18:01.342Z"
   },
   {
    "duration": 106,
    "start_time": "2022-07-21T14:18:01.497Z"
   },
   {
    "duration": 412,
    "start_time": "2022-07-21T14:18:01.604Z"
   },
   {
    "duration": 411,
    "start_time": "2022-07-21T14:18:02.018Z"
   },
   {
    "duration": 836,
    "start_time": "2022-07-21T14:18:02.431Z"
   },
   {
    "duration": 36,
    "start_time": "2022-07-21T14:18:05.184Z"
   },
   {
    "duration": 109,
    "start_time": "2022-07-21T14:18:06.934Z"
   },
   {
    "duration": 6,
    "start_time": "2022-07-21T14:18:07.208Z"
   },
   {
    "duration": 711,
    "start_time": "2022-07-21T14:18:07.449Z"
   },
   {
    "duration": 22,
    "start_time": "2022-07-21T14:18:08.163Z"
   },
   {
    "duration": 93,
    "start_time": "2022-07-21T14:18:08.186Z"
   },
   {
    "duration": 11,
    "start_time": "2022-07-21T14:18:12.829Z"
   },
   {
    "duration": 20,
    "start_time": "2022-07-21T14:18:20.729Z"
   },
   {
    "duration": 84,
    "start_time": "2022-07-21T14:18:21.289Z"
   },
   {
    "duration": 43964,
    "start_time": "2022-07-21T14:19:52.326Z"
   },
   {
    "duration": 286530,
    "start_time": "2022-07-21T14:20:41.364Z"
   },
   {
    "duration": 327,
    "start_time": "2022-07-21T14:25:43.611Z"
   },
   {
    "duration": 71634,
    "start_time": "2022-07-21T14:26:28.490Z"
   },
   {
    "duration": 4,
    "start_time": "2022-07-21T14:28:34.804Z"
   },
   {
    "duration": 863,
    "start_time": "2022-07-21T14:28:34.811Z"
   },
   {
    "duration": 120,
    "start_time": "2022-07-21T14:28:35.676Z"
   },
   {
    "duration": 96,
    "start_time": "2022-07-21T14:28:35.798Z"
   },
   {
    "duration": 279,
    "start_time": "2022-07-21T14:28:35.896Z"
   },
   {
    "duration": 140,
    "start_time": "2022-07-21T14:28:36.178Z"
   },
   {
    "duration": 192,
    "start_time": "2022-07-21T14:28:36.320Z"
   },
   {
    "duration": 129,
    "start_time": "2022-07-21T14:28:36.514Z"
   },
   {
    "duration": 66,
    "start_time": "2022-07-21T14:28:36.644Z"
   },
   {
    "duration": 162,
    "start_time": "2022-07-21T14:28:36.712Z"
   },
   {
    "duration": 123,
    "start_time": "2022-07-21T14:28:36.876Z"
   },
   {
    "duration": 409,
    "start_time": "2022-07-21T14:28:37.001Z"
   },
   {
    "duration": 409,
    "start_time": "2022-07-21T14:28:37.412Z"
   },
   {
    "duration": 894,
    "start_time": "2022-07-21T14:28:37.823Z"
   },
   {
    "duration": 66,
    "start_time": "2022-07-21T14:28:38.719Z"
   },
   {
    "duration": 117,
    "start_time": "2022-07-21T14:28:38.786Z"
   },
   {
    "duration": 5,
    "start_time": "2022-07-21T14:28:38.905Z"
   },
   {
    "duration": 594,
    "start_time": "2022-07-21T14:28:38.912Z"
   },
   {
    "duration": 19,
    "start_time": "2022-07-21T14:28:39.507Z"
   },
   {
    "duration": 83,
    "start_time": "2022-07-21T14:28:39.527Z"
   },
   {
    "duration": 11,
    "start_time": "2022-07-21T14:28:39.612Z"
   },
   {
    "duration": 38,
    "start_time": "2022-07-21T14:28:39.624Z"
   },
   {
    "duration": 78,
    "start_time": "2022-07-21T14:28:39.663Z"
   },
   {
    "duration": 2828,
    "start_time": "2022-07-21T14:28:43.317Z"
   },
   {
    "duration": 90,
    "start_time": "2022-07-21T14:30:04.020Z"
   },
   {
    "duration": 92,
    "start_time": "2022-07-21T14:30:56.839Z"
   },
   {
    "duration": 355,
    "start_time": "2022-07-21T14:31:30.633Z"
   },
   {
    "duration": 318,
    "start_time": "2022-07-21T14:32:29.454Z"
   },
   {
    "duration": 3,
    "start_time": "2022-07-21T14:33:03.920Z"
   },
   {
    "duration": 902,
    "start_time": "2022-07-21T14:33:03.925Z"
   },
   {
    "duration": 124,
    "start_time": "2022-07-21T14:33:04.829Z"
   },
   {
    "duration": 82,
    "start_time": "2022-07-21T14:33:04.955Z"
   },
   {
    "duration": 258,
    "start_time": "2022-07-21T14:33:05.039Z"
   },
   {
    "duration": 113,
    "start_time": "2022-07-21T14:33:05.299Z"
   },
   {
    "duration": 187,
    "start_time": "2022-07-21T14:33:05.413Z"
   },
   {
    "duration": 110,
    "start_time": "2022-07-21T14:33:05.601Z"
   },
   {
    "duration": 95,
    "start_time": "2022-07-21T14:33:05.713Z"
   },
   {
    "duration": 151,
    "start_time": "2022-07-21T14:33:05.810Z"
   },
   {
    "duration": 137,
    "start_time": "2022-07-21T14:33:05.963Z"
   },
   {
    "duration": 418,
    "start_time": "2022-07-21T14:33:06.101Z"
   },
   {
    "duration": 417,
    "start_time": "2022-07-21T14:33:06.521Z"
   },
   {
    "duration": 848,
    "start_time": "2022-07-21T14:33:06.939Z"
   },
   {
    "duration": 34,
    "start_time": "2022-07-21T14:33:07.788Z"
   },
   {
    "duration": 123,
    "start_time": "2022-07-21T14:33:07.824Z"
   },
   {
    "duration": 6,
    "start_time": "2022-07-21T14:33:07.948Z"
   },
   {
    "duration": 622,
    "start_time": "2022-07-21T14:33:07.956Z"
   },
   {
    "duration": 18,
    "start_time": "2022-07-21T14:33:08.580Z"
   },
   {
    "duration": 95,
    "start_time": "2022-07-21T14:33:08.599Z"
   },
   {
    "duration": 11,
    "start_time": "2022-07-21T14:33:08.695Z"
   },
   {
    "duration": 32,
    "start_time": "2022-07-21T14:33:08.708Z"
   },
   {
    "duration": 87,
    "start_time": "2022-07-21T14:33:08.751Z"
   },
   {
    "duration": 12,
    "start_time": "2022-07-21T14:33:08.840Z"
   },
   {
    "duration": 24,
    "start_time": "2022-07-21T14:33:08.858Z"
   },
   {
    "duration": 504542,
    "start_time": "2022-07-21T14:33:52.714Z"
   },
   {
    "duration": 194,
    "start_time": "2022-07-21T14:46:01.099Z"
   },
   {
    "duration": 189,
    "start_time": "2022-07-21T14:46:14.325Z"
   },
   {
    "duration": 3,
    "start_time": "2022-07-21T14:52:11.424Z"
   },
   {
    "duration": 880,
    "start_time": "2022-07-21T14:52:11.429Z"
   },
   {
    "duration": 116,
    "start_time": "2022-07-21T14:52:12.311Z"
   },
   {
    "duration": 91,
    "start_time": "2022-07-21T14:52:12.428Z"
   },
   {
    "duration": 239,
    "start_time": "2022-07-21T14:52:12.522Z"
   },
   {
    "duration": 117,
    "start_time": "2022-07-21T14:52:12.763Z"
   },
   {
    "duration": 283,
    "start_time": "2022-07-21T14:52:12.881Z"
   },
   {
    "duration": 115,
    "start_time": "2022-07-21T14:52:13.166Z"
   },
   {
    "duration": 76,
    "start_time": "2022-07-21T14:52:13.283Z"
   },
   {
    "duration": 156,
    "start_time": "2022-07-21T14:52:13.361Z"
   },
   {
    "duration": 117,
    "start_time": "2022-07-21T14:52:13.519Z"
   },
   {
    "duration": 374,
    "start_time": "2022-07-21T14:52:13.637Z"
   },
   {
    "duration": 376,
    "start_time": "2022-07-21T14:52:14.013Z"
   },
   {
    "duration": 830,
    "start_time": "2022-07-21T14:52:14.392Z"
   },
   {
    "duration": 45,
    "start_time": "2022-07-21T14:52:15.223Z"
   },
   {
    "duration": 100,
    "start_time": "2022-07-21T14:52:15.269Z"
   },
   {
    "duration": 6,
    "start_time": "2022-07-21T14:52:15.371Z"
   },
   {
    "duration": 562,
    "start_time": "2022-07-21T14:52:15.379Z"
   },
   {
    "duration": 24,
    "start_time": "2022-07-21T14:52:15.943Z"
   },
   {
    "duration": 87,
    "start_time": "2022-07-21T14:52:15.969Z"
   },
   {
    "duration": 12,
    "start_time": "2022-07-21T14:52:16.059Z"
   },
   {
    "duration": 24,
    "start_time": "2022-07-21T14:52:16.073Z"
   },
   {
    "duration": 134,
    "start_time": "2022-07-21T14:52:16.099Z"
   },
   {
    "duration": 3,
    "start_time": "2022-07-21T14:52:16.235Z"
   },
   {
    "duration": 11,
    "start_time": "2022-07-21T14:52:16.252Z"
   },
   {
    "duration": 433877,
    "start_time": "2022-07-21T14:52:23.159Z"
   },
   {
    "duration": 3,
    "start_time": "2022-07-21T15:03:53.585Z"
   },
   {
    "duration": 115,
    "start_time": "2022-07-21T15:15:35.232Z"
   },
   {
    "duration": 87,
    "start_time": "2022-07-21T15:16:08.906Z"
   },
   {
    "duration": 94,
    "start_time": "2022-07-21T15:16:44.140Z"
   },
   {
    "duration": 53540,
    "start_time": "2022-07-21T15:16:59.550Z"
   },
   {
    "duration": 227,
    "start_time": "2022-07-21T15:17:53.092Z"
   },
   {
    "duration": 208,
    "start_time": "2022-07-21T15:21:01.158Z"
   },
   {
    "duration": 1621,
    "start_time": "2022-07-22T06:58:17.161Z"
   },
   {
    "duration": 1320,
    "start_time": "2022-07-22T06:58:21.089Z"
   },
   {
    "duration": 115,
    "start_time": "2022-07-22T06:58:23.949Z"
   },
   {
    "duration": 98,
    "start_time": "2022-07-22T06:58:24.870Z"
   },
   {
    "duration": 266,
    "start_time": "2022-07-22T06:58:25.489Z"
   },
   {
    "duration": 118,
    "start_time": "2022-07-22T06:58:25.830Z"
   },
   {
    "duration": 207,
    "start_time": "2022-07-22T06:58:26.204Z"
   },
   {
    "duration": 190,
    "start_time": "2022-07-22T06:58:26.513Z"
   },
   {
    "duration": 78,
    "start_time": "2022-07-22T06:58:26.804Z"
   },
   {
    "duration": 179,
    "start_time": "2022-07-22T06:58:27.377Z"
   },
   {
    "duration": 108,
    "start_time": "2022-07-22T06:58:27.697Z"
   },
   {
    "duration": 473,
    "start_time": "2022-07-22T06:58:28.871Z"
   },
   {
    "duration": 493,
    "start_time": "2022-07-22T06:58:29.346Z"
   },
   {
    "duration": 973,
    "start_time": "2022-07-22T06:58:29.841Z"
   },
   {
    "duration": 40,
    "start_time": "2022-07-22T06:58:30.817Z"
   },
   {
    "duration": 115,
    "start_time": "2022-07-22T06:58:31.129Z"
   },
   {
    "duration": 6,
    "start_time": "2022-07-22T06:58:31.374Z"
   },
   {
    "duration": 612,
    "start_time": "2022-07-22T06:58:31.613Z"
   },
   {
    "duration": 20,
    "start_time": "2022-07-22T06:58:32.227Z"
   },
   {
    "duration": 74,
    "start_time": "2022-07-22T06:58:32.793Z"
   },
   {
    "duration": 11,
    "start_time": "2022-07-22T06:58:34.462Z"
   },
   {
    "duration": 25,
    "start_time": "2022-07-22T06:58:35.598Z"
   },
   {
    "duration": 92,
    "start_time": "2022-07-22T06:58:36.808Z"
   },
   {
    "duration": 3,
    "start_time": "2022-07-22T06:58:37.413Z"
   },
   {
    "duration": 5,
    "start_time": "2022-07-22T07:03:19.147Z"
   },
   {
    "duration": 865,
    "start_time": "2022-07-22T07:03:19.154Z"
   },
   {
    "duration": 110,
    "start_time": "2022-07-22T07:03:20.022Z"
   },
   {
    "duration": 95,
    "start_time": "2022-07-22T07:03:20.134Z"
   },
   {
    "duration": 242,
    "start_time": "2022-07-22T07:03:20.231Z"
   },
   {
    "duration": 126,
    "start_time": "2022-07-22T07:03:20.476Z"
   },
   {
    "duration": 196,
    "start_time": "2022-07-22T07:03:20.604Z"
   },
   {
    "duration": 118,
    "start_time": "2022-07-22T07:03:20.802Z"
   },
   {
    "duration": 67,
    "start_time": "2022-07-22T07:03:20.921Z"
   },
   {
    "duration": 167,
    "start_time": "2022-07-22T07:03:20.989Z"
   },
   {
    "duration": 94,
    "start_time": "2022-07-22T07:03:21.157Z"
   },
   {
    "duration": 383,
    "start_time": "2022-07-22T07:03:21.253Z"
   },
   {
    "duration": 381,
    "start_time": "2022-07-22T07:03:21.638Z"
   },
   {
    "duration": 819,
    "start_time": "2022-07-22T07:03:22.022Z"
   },
   {
    "duration": 37,
    "start_time": "2022-07-22T07:03:22.842Z"
   },
   {
    "duration": 104,
    "start_time": "2022-07-22T07:03:22.881Z"
   },
   {
    "duration": 16,
    "start_time": "2022-07-22T07:03:22.987Z"
   },
   {
    "duration": 607,
    "start_time": "2022-07-22T07:03:23.005Z"
   },
   {
    "duration": 20,
    "start_time": "2022-07-22T07:03:23.614Z"
   },
   {
    "duration": 89,
    "start_time": "2022-07-22T07:03:23.636Z"
   },
   {
    "duration": 12,
    "start_time": "2022-07-22T07:03:23.727Z"
   },
   {
    "duration": 23,
    "start_time": "2022-07-22T07:03:23.741Z"
   },
   {
    "duration": 94,
    "start_time": "2022-07-22T07:03:23.766Z"
   },
   {
    "duration": 212,
    "start_time": "2022-07-22T07:04:08.297Z"
   },
   {
    "duration": 17,
    "start_time": "2022-07-22T07:04:33.587Z"
   },
   {
    "duration": 4,
    "start_time": "2022-07-22T07:04:56.232Z"
   },
   {
    "duration": 4,
    "start_time": "2022-07-22T07:05:00.947Z"
   },
   {
    "duration": 398650,
    "start_time": "2022-07-22T07:05:40.545Z"
   },
   {
    "duration": 5,
    "start_time": "2022-07-22T07:22:24.068Z"
   },
   {
    "duration": 55357,
    "start_time": "2022-07-22T07:22:28.265Z"
   },
   {
    "duration": 317,
    "start_time": "2022-07-22T07:23:34.198Z"
   },
   {
    "duration": 4,
    "start_time": "2022-07-22T07:24:29.646Z"
   },
   {
    "duration": 202,
    "start_time": "2022-07-22T07:24:37.138Z"
   },
   {
    "duration": 3,
    "start_time": "2022-07-22T08:52:35.057Z"
   },
   {
    "duration": 82698,
    "start_time": "2022-07-22T08:55:32.414Z"
   },
   {
    "duration": 4,
    "start_time": "2022-07-22T09:10:55.648Z"
   },
   {
    "duration": 5,
    "start_time": "2022-07-22T09:15:27.528Z"
   },
   {
    "duration": 906,
    "start_time": "2022-07-22T09:15:29.342Z"
   },
   {
    "duration": 113,
    "start_time": "2022-07-22T09:15:31.510Z"
   },
   {
    "duration": 100,
    "start_time": "2022-07-22T09:15:33.429Z"
   },
   {
    "duration": 242,
    "start_time": "2022-07-22T09:15:34.126Z"
   },
   {
    "duration": 111,
    "start_time": "2022-07-22T09:15:34.437Z"
   },
   {
    "duration": 204,
    "start_time": "2022-07-22T09:15:35.546Z"
   },
   {
    "duration": 213,
    "start_time": "2022-07-22T09:15:35.789Z"
   },
   {
    "duration": 68,
    "start_time": "2022-07-22T09:15:36.722Z"
   },
   {
    "duration": 188,
    "start_time": "2022-07-22T09:15:38.661Z"
   },
   {
    "duration": 123,
    "start_time": "2022-07-22T09:15:38.918Z"
   },
   {
    "duration": 412,
    "start_time": "2022-07-22T09:15:39.225Z"
   },
   {
    "duration": 399,
    "start_time": "2022-07-22T09:15:40.301Z"
   },
   {
    "duration": 906,
    "start_time": "2022-07-22T09:15:40.702Z"
   },
   {
    "duration": 36,
    "start_time": "2022-07-22T09:15:41.925Z"
   },
   {
    "duration": 118,
    "start_time": "2022-07-22T09:15:42.375Z"
   },
   {
    "duration": 6,
    "start_time": "2022-07-22T09:15:42.590Z"
   },
   {
    "duration": 677,
    "start_time": "2022-07-22T09:15:42.803Z"
   },
   {
    "duration": 20,
    "start_time": "2022-07-22T09:15:44.154Z"
   },
   {
    "duration": 85,
    "start_time": "2022-07-22T09:15:44.484Z"
   },
   {
    "duration": 11,
    "start_time": "2022-07-22T09:15:47.246Z"
   },
   {
    "duration": 19,
    "start_time": "2022-07-22T09:15:48.644Z"
   },
   {
    "duration": 84,
    "start_time": "2022-07-22T09:15:50.012Z"
   },
   {
    "duration": 220,
    "start_time": "2022-07-22T09:15:51.824Z"
   },
   {
    "duration": 14,
    "start_time": "2022-07-22T09:15:54.626Z"
   },
   {
    "duration": 3,
    "start_time": "2022-07-22T09:15:59.544Z"
   },
   {
    "duration": 5,
    "start_time": "2022-07-22T09:16:01.097Z"
   },
   {
    "duration": 59976,
    "start_time": "2022-07-22T09:16:06.831Z"
   },
   {
    "duration": 17,
    "start_time": "2022-07-22T09:17:17.749Z"
   },
   {
    "duration": 6,
    "start_time": "2022-07-22T09:17:46.224Z"
   },
   {
    "duration": 920,
    "start_time": "2022-07-22T09:17:46.232Z"
   },
   {
    "duration": 113,
    "start_time": "2022-07-22T09:17:47.154Z"
   },
   {
    "duration": 95,
    "start_time": "2022-07-22T09:17:47.269Z"
   },
   {
    "duration": 285,
    "start_time": "2022-07-22T09:17:47.366Z"
   },
   {
    "duration": 124,
    "start_time": "2022-07-22T09:17:47.652Z"
   },
   {
    "duration": 217,
    "start_time": "2022-07-22T09:17:47.777Z"
   },
   {
    "duration": 149,
    "start_time": "2022-07-22T09:17:47.995Z"
   },
   {
    "duration": 98,
    "start_time": "2022-07-22T09:17:48.146Z"
   },
   {
    "duration": 191,
    "start_time": "2022-07-22T09:17:48.246Z"
   },
   {
    "duration": 117,
    "start_time": "2022-07-22T09:17:48.439Z"
   },
   {
    "duration": 413,
    "start_time": "2022-07-22T09:17:48.558Z"
   },
   {
    "duration": 415,
    "start_time": "2022-07-22T09:17:48.973Z"
   },
   {
    "duration": 837,
    "start_time": "2022-07-22T09:17:49.400Z"
   },
   {
    "duration": 34,
    "start_time": "2022-07-22T09:17:50.238Z"
   },
   {
    "duration": 134,
    "start_time": "2022-07-22T09:17:50.273Z"
   },
   {
    "duration": 17,
    "start_time": "2022-07-22T09:17:50.409Z"
   },
   {
    "duration": 645,
    "start_time": "2022-07-22T09:17:50.428Z"
   },
   {
    "duration": 31,
    "start_time": "2022-07-22T09:17:51.075Z"
   },
   {
    "duration": 77,
    "start_time": "2022-07-22T09:17:51.108Z"
   },
   {
    "duration": 35,
    "start_time": "2022-07-22T09:17:51.186Z"
   },
   {
    "duration": 28,
    "start_time": "2022-07-22T09:17:51.223Z"
   },
   {
    "duration": 91,
    "start_time": "2022-07-22T09:17:51.252Z"
   },
   {
    "duration": 223,
    "start_time": "2022-07-22T09:17:51.345Z"
   },
   {
    "duration": 14,
    "start_time": "2022-07-22T09:17:51.570Z"
   },
   {
    "duration": 9,
    "start_time": "2022-07-22T09:17:51.603Z"
   },
   {
    "duration": 23,
    "start_time": "2022-07-22T09:17:51.614Z"
   },
   {
    "duration": 427848,
    "start_time": "2022-07-22T09:17:51.639Z"
   },
   {
    "duration": 4,
    "start_time": "2022-07-22T09:24:59.489Z"
   },
   {
    "duration": 59506,
    "start_time": "2022-07-22T09:24:59.495Z"
   },
   {
    "duration": 240,
    "start_time": "2022-07-22T09:25:59.003Z"
   },
   {
    "duration": 5,
    "start_time": "2022-07-22T09:28:00.949Z"
   },
   {
    "duration": 90,
    "start_time": "2022-07-22T09:28:37.261Z"
   },
   {
    "duration": 4,
    "start_time": "2022-07-22T09:30:39.628Z"
   },
   {
    "duration": 48649,
    "start_time": "2022-07-22T09:31:54.014Z"
   },
   {
    "duration": 1786,
    "start_time": "2022-07-22T11:26:49.357Z"
   },
   {
    "duration": 1487,
    "start_time": "2022-07-22T11:26:52.777Z"
   },
   {
    "duration": 4,
    "start_time": "2022-07-22T11:27:09.904Z"
   },
   {
    "duration": 1157,
    "start_time": "2022-07-22T11:27:09.911Z"
   },
   {
    "duration": 159,
    "start_time": "2022-07-22T11:27:11.070Z"
   },
   {
    "duration": 126,
    "start_time": "2022-07-22T11:27:11.232Z"
   },
   {
    "duration": 358,
    "start_time": "2022-07-22T11:27:11.364Z"
   },
   {
    "duration": 162,
    "start_time": "2022-07-22T11:27:11.725Z"
   },
   {
    "duration": 232,
    "start_time": "2022-07-22T11:27:11.890Z"
   },
   {
    "duration": 232,
    "start_time": "2022-07-22T11:27:12.124Z"
   },
   {
    "duration": 124,
    "start_time": "2022-07-22T11:27:12.363Z"
   },
   {
    "duration": 280,
    "start_time": "2022-07-22T11:27:12.492Z"
   },
   {
    "duration": 196,
    "start_time": "2022-07-22T11:27:12.774Z"
   },
   {
    "duration": 483,
    "start_time": "2022-07-22T11:27:12.973Z"
   },
   {
    "duration": 556,
    "start_time": "2022-07-22T11:27:13.459Z"
   },
   {
    "duration": 1101,
    "start_time": "2022-07-22T11:27:14.018Z"
   },
   {
    "duration": 55,
    "start_time": "2022-07-22T11:27:15.122Z"
   },
   {
    "duration": 144,
    "start_time": "2022-07-22T11:27:15.179Z"
   },
   {
    "duration": 8,
    "start_time": "2022-07-22T11:27:15.325Z"
   },
   {
    "duration": 787,
    "start_time": "2022-07-22T11:27:15.335Z"
   },
   {
    "duration": 19,
    "start_time": "2022-07-22T11:27:16.123Z"
   },
   {
    "duration": 109,
    "start_time": "2022-07-22T11:27:16.144Z"
   },
   {
    "duration": 18,
    "start_time": "2022-07-22T11:27:16.255Z"
   },
   {
    "duration": 37,
    "start_time": "2022-07-22T11:27:16.275Z"
   },
   {
    "duration": 110,
    "start_time": "2022-07-22T11:27:16.313Z"
   },
   {
    "duration": 249,
    "start_time": "2022-07-22T11:27:16.425Z"
   },
   {
    "duration": 20,
    "start_time": "2022-07-22T11:27:16.676Z"
   },
   {
    "duration": 3,
    "start_time": "2022-07-22T11:27:16.698Z"
   },
   {
    "duration": 6,
    "start_time": "2022-07-22T11:27:16.703Z"
   },
   {
    "duration": 7628,
    "start_time": "2022-07-22T11:27:16.713Z"
   },
   {
    "duration": 11,
    "start_time": "2022-07-22T11:27:24.343Z"
   },
   {
    "duration": 0,
    "start_time": "2022-07-22T11:27:24.356Z"
   },
   {
    "duration": 3,
    "start_time": "2022-07-22T11:27:58.038Z"
   },
   {
    "duration": 4,
    "start_time": "2022-07-22T11:27:59.386Z"
   },
   {
    "duration": 28730,
    "start_time": "2022-07-22T11:28:01.005Z"
   },
   {
    "duration": 4,
    "start_time": "2022-07-22T11:28:37.706Z"
   },
   {
    "duration": 6,
    "start_time": "2022-07-22T11:28:38.951Z"
   },
   {
    "duration": 591778,
    "start_time": "2022-07-22T11:28:41.751Z"
   },
   {
    "duration": 5,
    "start_time": "2022-07-22T11:38:58.283Z"
   },
   {
    "duration": 70392,
    "start_time": "2022-07-22T11:39:02.577Z"
   },
   {
    "duration": 288,
    "start_time": "2022-07-22T11:40:19.916Z"
   },
   {
    "duration": 85,
    "start_time": "2022-07-22T11:42:40.645Z"
   },
   {
    "duration": 5,
    "start_time": "2022-07-22T11:43:09.209Z"
   },
   {
    "duration": 59077,
    "start_time": "2022-07-22T11:43:57.784Z"
   },
   {
    "duration": 163,
    "start_time": "2022-07-22T11:46:33.765Z"
   },
   {
    "duration": 171,
    "start_time": "2022-07-22T11:52:53.859Z"
   },
   {
    "duration": 663,
    "start_time": "2022-07-22T12:32:38.135Z"
   },
   {
    "duration": 20,
    "start_time": "2022-07-22T12:38:57.447Z"
   },
   {
    "duration": 11,
    "start_time": "2022-07-22T12:42:49.745Z"
   },
   {
    "duration": 54,
    "start_time": "2022-07-22T12:43:49.241Z"
   },
   {
    "duration": 46,
    "start_time": "2022-07-22T12:44:07.300Z"
   },
   {
    "duration": 40,
    "start_time": "2022-07-22T12:44:13.534Z"
   },
   {
    "duration": 56,
    "start_time": "2022-07-22T12:44:32.390Z"
   },
   {
    "duration": 38,
    "start_time": "2022-07-22T12:44:41.444Z"
   },
   {
    "duration": 17,
    "start_time": "2022-07-22T12:45:28.043Z"
   },
   {
    "duration": 11,
    "start_time": "2022-07-22T12:47:35.530Z"
   },
   {
    "duration": 17,
    "start_time": "2022-07-22T12:50:12.655Z"
   },
   {
    "duration": 5,
    "start_time": "2022-07-22T12:52:42.883Z"
   },
   {
    "duration": 1011,
    "start_time": "2022-07-22T12:52:46.681Z"
   },
   {
    "duration": 179,
    "start_time": "2022-07-22T12:52:50.236Z"
   },
   {
    "duration": 106,
    "start_time": "2022-07-22T12:52:52.441Z"
   },
   {
    "duration": 267,
    "start_time": "2022-07-22T12:52:54.134Z"
   },
   {
    "duration": 151,
    "start_time": "2022-07-22T12:52:54.923Z"
   },
   {
    "duration": 222,
    "start_time": "2022-07-22T12:52:55.842Z"
   },
   {
    "duration": 130,
    "start_time": "2022-07-22T12:52:56.695Z"
   },
   {
    "duration": 83,
    "start_time": "2022-07-22T12:52:57.556Z"
   },
   {
    "duration": 207,
    "start_time": "2022-07-22T12:52:58.736Z"
   },
   {
    "duration": 171,
    "start_time": "2022-07-22T12:52:59.011Z"
   },
   {
    "duration": 497,
    "start_time": "2022-07-22T12:53:00.042Z"
   },
   {
    "duration": 557,
    "start_time": "2022-07-22T12:53:00.542Z"
   },
   {
    "duration": 1044,
    "start_time": "2022-07-22T12:53:01.101Z"
   },
   {
    "duration": 57,
    "start_time": "2022-07-22T12:53:02.147Z"
   },
   {
    "duration": 174,
    "start_time": "2022-07-22T12:53:02.206Z"
   },
   {
    "duration": 8,
    "start_time": "2022-07-22T12:53:02.383Z"
   },
   {
    "duration": 754,
    "start_time": "2022-07-22T12:53:03.099Z"
   },
   {
    "duration": 19,
    "start_time": "2022-07-22T12:53:03.935Z"
   },
   {
    "duration": 88,
    "start_time": "2022-07-22T12:53:04.205Z"
   },
   {
    "duration": 18,
    "start_time": "2022-07-22T12:53:06.266Z"
   },
   {
    "duration": 27,
    "start_time": "2022-07-22T12:53:09.840Z"
   },
   {
    "duration": 125,
    "start_time": "2022-07-22T12:53:10.338Z"
   },
   {
    "duration": 265,
    "start_time": "2022-07-22T12:53:13.135Z"
   },
   {
    "duration": 17,
    "start_time": "2022-07-22T12:53:16.937Z"
   },
   {
    "duration": 314,
    "start_time": "2022-07-22T12:54:53.526Z"
   },
   {
    "duration": 27,
    "start_time": "2022-07-22T12:55:15.159Z"
   },
   {
    "duration": 15,
    "start_time": "2022-07-22T12:58:18.257Z"
   },
   {
    "duration": 5,
    "start_time": "2022-07-22T13:30:12.482Z"
   },
   {
    "duration": 1072,
    "start_time": "2022-07-22T13:30:12.489Z"
   },
   {
    "duration": 158,
    "start_time": "2022-07-22T13:30:13.564Z"
   },
   {
    "duration": 101,
    "start_time": "2022-07-22T13:30:13.724Z"
   },
   {
    "duration": 281,
    "start_time": "2022-07-22T13:30:13.828Z"
   },
   {
    "duration": 137,
    "start_time": "2022-07-22T13:30:14.111Z"
   },
   {
    "duration": 217,
    "start_time": "2022-07-22T13:30:14.250Z"
   },
   {
    "duration": 138,
    "start_time": "2022-07-22T13:30:14.471Z"
   },
   {
    "duration": 81,
    "start_time": "2022-07-22T13:30:14.611Z"
   },
   {
    "duration": 213,
    "start_time": "2022-07-22T13:30:14.698Z"
   },
   {
    "duration": 137,
    "start_time": "2022-07-22T13:30:14.913Z"
   },
   {
    "duration": 454,
    "start_time": "2022-07-22T13:30:15.052Z"
   },
   {
    "duration": 476,
    "start_time": "2022-07-22T13:30:15.508Z"
   },
   {
    "duration": 1018,
    "start_time": "2022-07-22T13:30:15.986Z"
   },
   {
    "duration": 43,
    "start_time": "2022-07-22T13:30:17.005Z"
   },
   {
    "duration": 144,
    "start_time": "2022-07-22T13:30:17.049Z"
   },
   {
    "duration": 7,
    "start_time": "2022-07-22T13:30:17.194Z"
   },
   {
    "duration": 863,
    "start_time": "2022-07-22T13:30:17.202Z"
   },
   {
    "duration": 22,
    "start_time": "2022-07-22T13:30:18.067Z"
   },
   {
    "duration": 91,
    "start_time": "2022-07-22T13:30:18.091Z"
   },
   {
    "duration": 21,
    "start_time": "2022-07-22T13:31:29.411Z"
   },
   {
    "duration": 38,
    "start_time": "2022-07-22T13:33:04.353Z"
   },
   {
    "duration": 212,
    "start_time": "2022-07-22T13:34:50.515Z"
   },
   {
    "duration": 20,
    "start_time": "2022-07-22T13:35:30.223Z"
   },
   {
    "duration": 86,
    "start_time": "2022-07-22T13:35:34.586Z"
   },
   {
    "duration": 44,
    "start_time": "2022-07-22T13:39:53.465Z"
   },
   {
    "duration": 108,
    "start_time": "2022-07-22T13:40:03.422Z"
   },
   {
    "duration": 76,
    "start_time": "2022-07-22T13:41:06.048Z"
   },
   {
    "duration": 231,
    "start_time": "2022-07-22T13:43:52.696Z"
   },
   {
    "duration": 21,
    "start_time": "2022-07-22T13:44:05.061Z"
   },
   {
    "duration": 351,
    "start_time": "2022-07-22T13:45:26.672Z"
   },
   {
    "duration": 19,
    "start_time": "2022-07-22T13:45:44.353Z"
   },
   {
    "duration": 316,
    "start_time": "2022-07-22T13:49:15.866Z"
   },
   {
    "duration": 364,
    "start_time": "2022-07-22T13:50:19.802Z"
   },
   {
    "duration": 25,
    "start_time": "2022-07-22T13:50:27.980Z"
   },
   {
    "duration": 12,
    "start_time": "2022-07-22T13:51:37.620Z"
   },
   {
    "duration": 13,
    "start_time": "2022-07-22T13:52:18.564Z"
   },
   {
    "duration": 5,
    "start_time": "2022-07-22T13:52:45.685Z"
   },
   {
    "duration": 928,
    "start_time": "2022-07-22T13:52:45.692Z"
   },
   {
    "duration": 131,
    "start_time": "2022-07-22T13:52:46.621Z"
   },
   {
    "duration": 93,
    "start_time": "2022-07-22T13:52:46.754Z"
   },
   {
    "duration": 263,
    "start_time": "2022-07-22T13:52:46.849Z"
   },
   {
    "duration": 131,
    "start_time": "2022-07-22T13:52:47.113Z"
   },
   {
    "duration": 212,
    "start_time": "2022-07-22T13:52:47.246Z"
   },
   {
    "duration": 124,
    "start_time": "2022-07-22T13:52:47.463Z"
   },
   {
    "duration": 82,
    "start_time": "2022-07-22T13:52:47.588Z"
   },
   {
    "duration": 192,
    "start_time": "2022-07-22T13:52:47.671Z"
   },
   {
    "duration": 130,
    "start_time": "2022-07-22T13:52:47.865Z"
   },
   {
    "duration": 422,
    "start_time": "2022-07-22T13:52:47.997Z"
   },
   {
    "duration": 421,
    "start_time": "2022-07-22T13:52:48.422Z"
   },
   {
    "duration": 876,
    "start_time": "2022-07-22T13:52:48.847Z"
   },
   {
    "duration": 40,
    "start_time": "2022-07-22T13:52:49.725Z"
   },
   {
    "duration": 122,
    "start_time": "2022-07-22T13:52:49.767Z"
   },
   {
    "duration": 7,
    "start_time": "2022-07-22T13:52:49.892Z"
   },
   {
    "duration": 712,
    "start_time": "2022-07-22T13:52:49.901Z"
   },
   {
    "duration": 19,
    "start_time": "2022-07-22T13:52:50.615Z"
   },
   {
    "duration": 101,
    "start_time": "2022-07-22T13:52:50.635Z"
   },
   {
    "duration": 13,
    "start_time": "2022-07-22T13:52:50.739Z"
   },
   {
    "duration": 205,
    "start_time": "2022-07-22T13:52:50.764Z"
   },
   {
    "duration": 41,
    "start_time": "2022-07-22T13:52:50.971Z"
   },
   {
    "duration": 104,
    "start_time": "2022-07-22T13:52:51.013Z"
   },
   {
    "duration": 97,
    "start_time": "2022-07-22T13:52:51.118Z"
   },
   {
    "duration": 225,
    "start_time": "2022-07-22T13:52:51.216Z"
   },
   {
    "duration": 23,
    "start_time": "2022-07-22T13:52:51.443Z"
   },
   {
    "duration": 290,
    "start_time": "2022-07-22T13:52:51.468Z"
   },
   {
    "duration": 16,
    "start_time": "2022-07-22T13:52:51.763Z"
   },
   {
    "duration": 329,
    "start_time": "2022-07-22T13:53:05.082Z"
   },
   {
    "duration": 376,
    "start_time": "2022-07-22T13:53:29.895Z"
   },
   {
    "duration": 146,
    "start_time": "2022-07-22T13:55:10.194Z"
   },
   {
    "duration": 27,
    "start_time": "2022-07-22T13:55:17.613Z"
   },
   {
    "duration": 23,
    "start_time": "2022-07-22T13:56:24.163Z"
   },
   {
    "duration": 30,
    "start_time": "2022-07-22T13:57:04.259Z"
   },
   {
    "duration": 4,
    "start_time": "2022-07-22T13:58:40.234Z"
   },
   {
    "duration": 990,
    "start_time": "2022-07-22T13:58:40.240Z"
   },
   {
    "duration": 140,
    "start_time": "2022-07-22T13:58:41.232Z"
   },
   {
    "duration": 100,
    "start_time": "2022-07-22T13:58:41.374Z"
   },
   {
    "duration": 242,
    "start_time": "2022-07-22T13:58:41.476Z"
   },
   {
    "duration": 128,
    "start_time": "2022-07-22T13:58:41.720Z"
   },
   {
    "duration": 232,
    "start_time": "2022-07-22T13:58:41.849Z"
   },
   {
    "duration": 138,
    "start_time": "2022-07-22T13:58:42.083Z"
   },
   {
    "duration": 100,
    "start_time": "2022-07-22T13:58:42.223Z"
   },
   {
    "duration": 208,
    "start_time": "2022-07-22T13:58:42.325Z"
   },
   {
    "duration": 180,
    "start_time": "2022-07-22T13:58:42.536Z"
   },
   {
    "duration": 497,
    "start_time": "2022-07-22T13:58:42.718Z"
   },
   {
    "duration": 440,
    "start_time": "2022-07-22T13:58:43.217Z"
   },
   {
    "duration": 853,
    "start_time": "2022-07-22T13:58:43.663Z"
   },
   {
    "duration": 32,
    "start_time": "2022-07-22T13:58:44.518Z"
   },
   {
    "duration": 129,
    "start_time": "2022-07-22T13:58:44.552Z"
   },
   {
    "duration": 8,
    "start_time": "2022-07-22T13:58:44.682Z"
   },
   {
    "duration": 653,
    "start_time": "2022-07-22T13:58:44.693Z"
   },
   {
    "duration": 32,
    "start_time": "2022-07-22T13:58:45.348Z"
   },
   {
    "duration": 93,
    "start_time": "2022-07-22T13:58:45.382Z"
   },
   {
    "duration": 10,
    "start_time": "2022-07-22T13:58:45.477Z"
   },
   {
    "duration": 170,
    "start_time": "2022-07-22T13:58:45.489Z"
   },
   {
    "duration": 37,
    "start_time": "2022-07-22T13:58:45.661Z"
   },
   {
    "duration": 96,
    "start_time": "2022-07-22T13:58:45.699Z"
   },
   {
    "duration": 84,
    "start_time": "2022-07-22T13:58:56.221Z"
   },
   {
    "duration": 202,
    "start_time": "2022-07-22T13:59:07.368Z"
   },
   {
    "duration": 15,
    "start_time": "2022-07-22T13:59:10.774Z"
   },
   {
    "duration": 293,
    "start_time": "2022-07-22T13:59:51.759Z"
   },
   {
    "duration": 16,
    "start_time": "2022-07-22T13:59:57.768Z"
   },
   {
    "duration": 411,
    "start_time": "2022-07-22T14:00:41.102Z"
   },
   {
    "duration": 22,
    "start_time": "2022-07-22T14:00:44.284Z"
   },
   {
    "duration": 14,
    "start_time": "2022-07-22T14:00:57.096Z"
   },
   {
    "duration": 9,
    "start_time": "2022-07-22T14:04:36.695Z"
   },
   {
    "duration": 10,
    "start_time": "2022-07-22T14:04:45.214Z"
   },
   {
    "duration": 24,
    "start_time": "2022-07-22T14:05:47.807Z"
   },
   {
    "duration": 139,
    "start_time": "2022-07-22T14:05:57.558Z"
   },
   {
    "duration": 14,
    "start_time": "2022-07-22T14:06:21.574Z"
   },
   {
    "duration": 4,
    "start_time": "2022-07-22T14:06:30.920Z"
   },
   {
    "duration": 893,
    "start_time": "2022-07-22T14:06:30.926Z"
   },
   {
    "duration": 131,
    "start_time": "2022-07-22T14:06:31.820Z"
   },
   {
    "duration": 91,
    "start_time": "2022-07-22T14:06:31.953Z"
   },
   {
    "duration": 242,
    "start_time": "2022-07-22T14:06:32.045Z"
   },
   {
    "duration": 121,
    "start_time": "2022-07-22T14:06:32.289Z"
   },
   {
    "duration": 228,
    "start_time": "2022-07-22T14:06:32.412Z"
   },
   {
    "duration": 178,
    "start_time": "2022-07-22T14:06:32.643Z"
   },
   {
    "duration": 73,
    "start_time": "2022-07-22T14:06:32.825Z"
   },
   {
    "duration": 190,
    "start_time": "2022-07-22T14:06:32.900Z"
   },
   {
    "duration": 131,
    "start_time": "2022-07-22T14:06:33.092Z"
   },
   {
    "duration": 421,
    "start_time": "2022-07-22T14:06:33.225Z"
   },
   {
    "duration": 399,
    "start_time": "2022-07-22T14:06:33.647Z"
   },
   {
    "duration": 814,
    "start_time": "2022-07-22T14:06:34.048Z"
   },
   {
    "duration": 34,
    "start_time": "2022-07-22T14:06:34.863Z"
   },
   {
    "duration": 133,
    "start_time": "2022-07-22T14:06:34.899Z"
   },
   {
    "duration": 6,
    "start_time": "2022-07-22T14:06:35.034Z"
   },
   {
    "duration": 687,
    "start_time": "2022-07-22T14:06:35.042Z"
   },
   {
    "duration": 18,
    "start_time": "2022-07-22T14:06:35.731Z"
   },
   {
    "duration": 78,
    "start_time": "2022-07-22T14:06:35.751Z"
   },
   {
    "duration": 11,
    "start_time": "2022-07-22T14:06:35.830Z"
   },
   {
    "duration": 204,
    "start_time": "2022-07-22T14:06:35.843Z"
   },
   {
    "duration": 41,
    "start_time": "2022-07-22T14:06:36.049Z"
   },
   {
    "duration": 91,
    "start_time": "2022-07-22T14:06:36.093Z"
   },
   {
    "duration": 89,
    "start_time": "2022-07-22T14:06:36.185Z"
   },
   {
    "duration": 204,
    "start_time": "2022-07-22T14:06:36.276Z"
   },
   {
    "duration": 15,
    "start_time": "2022-07-22T14:06:36.481Z"
   },
   {
    "duration": 282,
    "start_time": "2022-07-22T14:06:36.497Z"
   },
   {
    "duration": 12,
    "start_time": "2022-07-22T14:06:36.781Z"
   },
   {
    "duration": 390,
    "start_time": "2022-07-22T14:06:36.795Z"
   },
   {
    "duration": 9,
    "start_time": "2022-07-22T14:06:37.186Z"
   },
   {
    "duration": 10,
    "start_time": "2022-07-22T14:06:51.680Z"
   },
   {
    "duration": 121,
    "start_time": "2022-07-22T14:06:58.864Z"
   },
   {
    "duration": 40,
    "start_time": "2022-07-22T14:07:01.568Z"
   },
   {
    "duration": 223,
    "start_time": "2022-07-22T14:07:51.667Z"
   },
   {
    "duration": 25,
    "start_time": "2022-07-22T14:07:55.407Z"
   },
   {
    "duration": 5,
    "start_time": "2022-07-22T14:08:01.177Z"
   },
   {
    "duration": 982,
    "start_time": "2022-07-22T14:08:01.184Z"
   },
   {
    "duration": 135,
    "start_time": "2022-07-22T14:08:02.168Z"
   },
   {
    "duration": 107,
    "start_time": "2022-07-22T14:08:02.305Z"
   },
   {
    "duration": 325,
    "start_time": "2022-07-22T14:08:02.415Z"
   },
   {
    "duration": 152,
    "start_time": "2022-07-22T14:08:02.743Z"
   },
   {
    "duration": 212,
    "start_time": "2022-07-22T14:08:02.897Z"
   },
   {
    "duration": 123,
    "start_time": "2022-07-22T14:08:03.111Z"
   },
   {
    "duration": 86,
    "start_time": "2022-07-22T14:08:03.236Z"
   },
   {
    "duration": 198,
    "start_time": "2022-07-22T14:08:03.324Z"
   },
   {
    "duration": 142,
    "start_time": "2022-07-22T14:08:03.524Z"
   },
   {
    "duration": 400,
    "start_time": "2022-07-22T14:08:03.667Z"
   },
   {
    "duration": 406,
    "start_time": "2022-07-22T14:08:04.069Z"
   },
   {
    "duration": 823,
    "start_time": "2022-07-22T14:08:04.478Z"
   },
   {
    "duration": 46,
    "start_time": "2022-07-22T14:08:05.303Z"
   },
   {
    "duration": 178,
    "start_time": "2022-07-22T14:08:05.351Z"
   },
   {
    "duration": 7,
    "start_time": "2022-07-22T14:08:05.531Z"
   },
   {
    "duration": 693,
    "start_time": "2022-07-22T14:08:05.540Z"
   },
   {
    "duration": 30,
    "start_time": "2022-07-22T14:08:06.234Z"
   },
   {
    "duration": 70,
    "start_time": "2022-07-22T14:08:06.265Z"
   },
   {
    "duration": 12,
    "start_time": "2022-07-22T14:08:06.336Z"
   },
   {
    "duration": 172,
    "start_time": "2022-07-22T14:08:06.364Z"
   },
   {
    "duration": 46,
    "start_time": "2022-07-22T14:08:06.538Z"
   },
   {
    "duration": 85,
    "start_time": "2022-07-22T14:08:06.585Z"
   },
   {
    "duration": 96,
    "start_time": "2022-07-22T14:08:06.672Z"
   },
   {
    "duration": 206,
    "start_time": "2022-07-22T14:08:06.770Z"
   },
   {
    "duration": 15,
    "start_time": "2022-07-22T14:08:06.978Z"
   },
   {
    "duration": 305,
    "start_time": "2022-07-22T14:08:06.995Z"
   },
   {
    "duration": 13,
    "start_time": "2022-07-22T14:08:07.302Z"
   },
   {
    "duration": 408,
    "start_time": "2022-07-22T14:08:07.317Z"
   },
   {
    "duration": 9,
    "start_time": "2022-07-22T14:08:07.727Z"
   },
   {
    "duration": 126,
    "start_time": "2022-07-22T14:08:07.737Z"
   },
   {
    "duration": 36,
    "start_time": "2022-07-22T14:08:10.360Z"
   },
   {
    "duration": 5,
    "start_time": "2022-07-22T14:08:36.702Z"
   },
   {
    "duration": 4,
    "start_time": "2022-07-22T14:08:37.994Z"
   },
   {
    "duration": 398263,
    "start_time": "2022-07-22T14:08:41.685Z"
   },
   {
    "duration": 5,
    "start_time": "2022-07-22T14:19:04.658Z"
   },
   {
    "duration": 56566,
    "start_time": "2022-07-22T14:19:08.971Z"
   },
   {
    "duration": 216,
    "start_time": "2022-07-22T14:20:10.454Z"
   },
   {
    "duration": 6,
    "start_time": "2022-07-22T14:21:05.016Z"
   },
   {
    "duration": 135205,
    "start_time": "2022-07-22T14:23:06.100Z"
   },
   {
    "duration": 5,
    "start_time": "2022-07-22T14:27:20.281Z"
   },
   {
    "duration": 232397,
    "start_time": "2022-07-22T14:27:22.450Z"
   },
   {
    "duration": 7,
    "start_time": "2022-07-22T14:31:58.008Z"
   },
   {
    "duration": 220271,
    "start_time": "2022-07-22T14:31:59.872Z"
   },
   {
    "duration": 6,
    "start_time": "2022-07-22T14:35:55.852Z"
   },
   {
    "duration": 48685,
    "start_time": "2022-07-22T14:35:57.487Z"
   },
   {
    "duration": 76,
    "start_time": "2022-07-22T14:36:49.744Z"
   },
   {
    "duration": 91,
    "start_time": "2022-07-22T14:37:16.882Z"
   },
   {
    "duration": 6,
    "start_time": "2022-07-22T14:37:41.187Z"
   },
   {
    "duration": 167232,
    "start_time": "2022-07-22T14:37:48.114Z"
   },
   {
    "duration": 5,
    "start_time": "2022-07-22T14:40:48.874Z"
   },
   {
    "duration": 12,
    "start_time": "2022-07-22T14:41:14.878Z"
   },
   {
    "duration": 6,
    "start_time": "2022-07-22T14:41:22.657Z"
   },
   {
    "duration": 5,
    "start_time": "2022-07-22T14:45:14.153Z"
   },
   {
    "duration": 47114,
    "start_time": "2022-07-22T14:46:30.360Z"
   },
   {
    "duration": 149,
    "start_time": "2022-07-22T14:50:58.662Z"
   },
   {
    "duration": 1703,
    "start_time": "2022-07-22T14:51:25.232Z"
   },
   {
    "duration": 1456,
    "start_time": "2022-07-22T14:51:30.813Z"
   },
   {
    "duration": 148,
    "start_time": "2022-07-22T14:51:33.784Z"
   },
   {
    "duration": 129,
    "start_time": "2022-07-22T14:51:34.294Z"
   },
   {
    "duration": 285,
    "start_time": "2022-07-22T14:51:34.720Z"
   },
   {
    "duration": 135,
    "start_time": "2022-07-22T14:51:35.007Z"
   },
   {
    "duration": 218,
    "start_time": "2022-07-22T14:51:35.209Z"
   },
   {
    "duration": 232,
    "start_time": "2022-07-22T14:51:35.462Z"
   },
   {
    "duration": 135,
    "start_time": "2022-07-22T14:51:35.697Z"
   },
   {
    "duration": 304,
    "start_time": "2022-07-22T14:51:36.067Z"
   },
   {
    "duration": 134,
    "start_time": "2022-07-22T14:51:36.374Z"
   },
   {
    "duration": 560,
    "start_time": "2022-07-22T14:51:36.511Z"
   },
   {
    "duration": 624,
    "start_time": "2022-07-22T14:51:37.074Z"
   },
   {
    "duration": 1251,
    "start_time": "2022-07-22T14:51:37.700Z"
   },
   {
    "duration": 55,
    "start_time": "2022-07-22T14:51:38.954Z"
   },
   {
    "duration": 136,
    "start_time": "2022-07-22T14:51:39.012Z"
   },
   {
    "duration": 13,
    "start_time": "2022-07-22T14:51:39.151Z"
   },
   {
    "duration": 740,
    "start_time": "2022-07-22T14:51:39.166Z"
   },
   {
    "duration": 27,
    "start_time": "2022-07-22T14:51:39.909Z"
   },
   {
    "duration": 132,
    "start_time": "2022-07-22T14:51:39.940Z"
   },
   {
    "duration": 15,
    "start_time": "2022-07-22T14:51:40.074Z"
   },
   {
    "duration": 324,
    "start_time": "2022-07-22T14:51:40.092Z"
   },
   {
    "duration": 70,
    "start_time": "2022-07-22T14:51:40.421Z"
   },
   {
    "duration": 132,
    "start_time": "2022-07-22T14:51:40.495Z"
   },
   {
    "duration": 170,
    "start_time": "2022-07-22T14:51:40.629Z"
   },
   {
    "duration": 367,
    "start_time": "2022-07-22T14:51:40.801Z"
   },
   {
    "duration": 19,
    "start_time": "2022-07-22T14:51:41.171Z"
   },
   {
    "duration": 546,
    "start_time": "2022-07-22T14:51:41.193Z"
   },
   {
    "duration": 31,
    "start_time": "2022-07-22T14:51:41.742Z"
   },
   {
    "duration": 576,
    "start_time": "2022-07-22T14:51:41.777Z"
   },
   {
    "duration": 14,
    "start_time": "2022-07-22T14:51:42.356Z"
   },
   {
    "duration": 165,
    "start_time": "2022-07-22T14:51:42.372Z"
   },
   {
    "duration": 43,
    "start_time": "2022-07-22T14:51:42.540Z"
   },
   {
    "duration": 118954,
    "start_time": "2022-07-22T14:51:56.555Z"
   },
   {
    "duration": 142174,
    "start_time": "2022-07-22T14:54:28.148Z"
   },
   {
    "duration": 16,
    "start_time": "2022-07-22T14:57:16.519Z"
   },
   {
    "duration": 199,
    "start_time": "2022-07-22T14:57:33.291Z"
   },
   {
    "duration": 10,
    "start_time": "2022-07-22T15:15:56.286Z"
   },
   {
    "duration": 7,
    "start_time": "2022-07-22T15:16:31.089Z"
   },
   {
    "duration": 43,
    "start_time": "2022-07-22T15:16:57.675Z"
   },
   {
    "duration": 1322761,
    "start_time": "2022-07-22T15:17:46.006Z"
   },
   {
    "duration": 1665,
    "start_time": "2022-07-26T07:15:10.096Z"
   },
   {
    "duration": 1209,
    "start_time": "2022-07-26T07:15:13.254Z"
   },
   {
    "duration": 120,
    "start_time": "2022-07-26T07:15:16.515Z"
   },
   {
    "duration": 103,
    "start_time": "2022-07-26T07:15:17.481Z"
   },
   {
    "duration": 256,
    "start_time": "2022-07-26T07:15:17.970Z"
   },
   {
    "duration": 132,
    "start_time": "2022-07-26T07:15:18.228Z"
   },
   {
    "duration": 213,
    "start_time": "2022-07-26T07:15:18.473Z"
   },
   {
    "duration": 208,
    "start_time": "2022-07-26T07:15:18.710Z"
   },
   {
    "duration": 98,
    "start_time": "2022-07-26T07:15:18.929Z"
   },
   {
    "duration": 166,
    "start_time": "2022-07-26T07:15:30.249Z"
   },
   {
    "duration": 127,
    "start_time": "2022-07-26T07:15:30.885Z"
   },
   {
    "duration": 435,
    "start_time": "2022-07-26T07:15:32.234Z"
   },
   {
    "duration": 473,
    "start_time": "2022-07-26T07:15:32.746Z"
   },
   {
    "duration": 924,
    "start_time": "2022-07-26T07:15:33.554Z"
   },
   {
    "duration": 42,
    "start_time": "2022-07-26T07:15:34.620Z"
   },
   {
    "duration": 110,
    "start_time": "2022-07-26T07:15:35.752Z"
   },
   {
    "duration": 7,
    "start_time": "2022-07-26T07:17:08.650Z"
   },
   {
    "duration": 656,
    "start_time": "2022-07-26T07:17:12.174Z"
   },
   {
    "duration": 26,
    "start_time": "2022-07-26T07:17:15.507Z"
   },
   {
    "duration": 78,
    "start_time": "2022-07-26T07:17:19.843Z"
   },
   {
    "duration": 6,
    "start_time": "2022-07-26T07:18:49.081Z"
   },
   {
    "duration": 10,
    "start_time": "2022-07-26T07:18:54.451Z"
   },
   {
    "duration": 26,
    "start_time": "2022-07-26T07:19:06.476Z"
   },
   {
    "duration": 29,
    "start_time": "2022-07-26T07:19:29.696Z"
   },
   {
    "duration": 12,
    "start_time": "2022-07-26T07:19:49.758Z"
   },
   {
    "duration": 16,
    "start_time": "2022-07-26T07:19:59.343Z"
   },
   {
    "duration": 25,
    "start_time": "2022-07-26T07:20:07.443Z"
   },
   {
    "duration": 4,
    "start_time": "2022-07-26T07:21:14.184Z"
   },
   {
    "duration": 15,
    "start_time": "2022-07-26T07:21:58.444Z"
   },
   {
    "duration": 256,
    "start_time": "2022-07-26T07:45:01.749Z"
   },
   {
    "duration": 132,
    "start_time": "2022-07-26T07:45:03.023Z"
   },
   {
    "duration": 6,
    "start_time": "2022-07-26T07:45:07.495Z"
   },
   {
    "duration": 1121,
    "start_time": "2022-07-26T07:45:08.752Z"
   },
   {
    "duration": 1020,
    "start_time": "2022-07-26T07:45:16.961Z"
   },
   {
    "duration": 119,
    "start_time": "2022-07-26T07:45:21.167Z"
   },
   {
    "duration": 97,
    "start_time": "2022-07-26T07:45:23.765Z"
   },
   {
    "duration": 262,
    "start_time": "2022-07-26T07:45:53.478Z"
   },
   {
    "duration": 152,
    "start_time": "2022-07-26T07:46:01.536Z"
   },
   {
    "duration": 217,
    "start_time": "2022-07-26T07:46:01.987Z"
   },
   {
    "duration": 131,
    "start_time": "2022-07-26T07:46:03.460Z"
   },
   {
    "duration": 78,
    "start_time": "2022-07-26T07:46:06.180Z"
   },
   {
    "duration": 177,
    "start_time": "2022-07-26T07:46:29.972Z"
   },
   {
    "duration": 112,
    "start_time": "2022-07-26T07:46:30.947Z"
   },
   {
    "duration": 413,
    "start_time": "2022-07-26T07:46:34.707Z"
   },
   {
    "duration": 432,
    "start_time": "2022-07-26T07:46:36.339Z"
   },
   {
    "duration": 920,
    "start_time": "2022-07-26T07:46:41.544Z"
   },
   {
    "duration": 39,
    "start_time": "2022-07-26T07:46:52.744Z"
   },
   {
    "duration": 27,
    "start_time": "2022-07-26T07:49:07.970Z"
   },
   {
    "duration": 18,
    "start_time": "2022-07-26T07:49:37.745Z"
   },
   {
    "duration": 129,
    "start_time": "2022-07-26T07:50:25.676Z"
   },
   {
    "duration": 6,
    "start_time": "2022-07-26T07:50:27.258Z"
   },
   {
    "duration": 165,
    "start_time": "2022-07-26T07:51:36.694Z"
   },
   {
    "duration": 195,
    "start_time": "2022-07-26T07:51:58.793Z"
   },
   {
    "duration": 1800,
    "start_time": "2022-07-26T07:53:33.900Z"
   },
   {
    "duration": 97,
    "start_time": "2022-07-26T07:58:34.959Z"
   },
   {
    "duration": 252,
    "start_time": "2022-07-26T07:58:45.456Z"
   },
   {
    "duration": 32,
    "start_time": "2022-07-26T08:26:29.814Z"
   },
   {
    "duration": 24,
    "start_time": "2022-07-26T08:27:06.221Z"
   },
   {
    "duration": 145,
    "start_time": "2022-07-26T08:27:44.166Z"
   },
   {
    "duration": 12,
    "start_time": "2022-07-26T08:28:03.654Z"
   },
   {
    "duration": 156,
    "start_time": "2022-07-26T08:29:03.749Z"
   },
   {
    "duration": 143,
    "start_time": "2022-07-26T08:31:11.587Z"
   },
   {
    "duration": 167,
    "start_time": "2022-07-26T08:31:26.670Z"
   },
   {
    "duration": 151,
    "start_time": "2022-07-26T08:31:41.404Z"
   },
   {
    "duration": 148,
    "start_time": "2022-07-26T08:32:26.575Z"
   },
   {
    "duration": 130,
    "start_time": "2022-07-26T08:32:36.580Z"
   },
   {
    "duration": 141,
    "start_time": "2022-07-26T08:32:53.511Z"
   },
   {
    "duration": 289,
    "start_time": "2022-07-26T08:33:27.470Z"
   },
   {
    "duration": 25,
    "start_time": "2022-07-26T08:36:31.380Z"
   },
   {
    "duration": 12,
    "start_time": "2022-07-26T08:36:50.359Z"
   },
   {
    "duration": 47,
    "start_time": "2022-07-26T08:38:31.441Z"
   },
   {
    "duration": 66,
    "start_time": "2022-07-26T08:38:46.114Z"
   },
   {
    "duration": 475,
    "start_time": "2022-07-26T08:39:20.360Z"
   },
   {
    "duration": 5,
    "start_time": "2022-07-26T08:39:39.580Z"
   },
   {
    "duration": 939,
    "start_time": "2022-07-26T08:39:39.588Z"
   },
   {
    "duration": 110,
    "start_time": "2022-07-26T08:39:40.529Z"
   },
   {
    "duration": 106,
    "start_time": "2022-07-26T08:39:40.641Z"
   },
   {
    "duration": 263,
    "start_time": "2022-07-26T08:39:40.749Z"
   },
   {
    "duration": 138,
    "start_time": "2022-07-26T08:39:41.014Z"
   },
   {
    "duration": 207,
    "start_time": "2022-07-26T08:39:41.154Z"
   },
   {
    "duration": 128,
    "start_time": "2022-07-26T08:39:41.362Z"
   },
   {
    "duration": 81,
    "start_time": "2022-07-26T08:39:41.492Z"
   },
   {
    "duration": 175,
    "start_time": "2022-07-26T08:39:41.576Z"
   },
   {
    "duration": 114,
    "start_time": "2022-07-26T08:39:41.752Z"
   },
   {
    "duration": 432,
    "start_time": "2022-07-26T08:39:41.868Z"
   },
   {
    "duration": 435,
    "start_time": "2022-07-26T08:39:42.302Z"
   },
   {
    "duration": 941,
    "start_time": "2022-07-26T08:39:42.739Z"
   },
   {
    "duration": 51,
    "start_time": "2022-07-26T08:39:43.682Z"
   },
   {
    "duration": 181,
    "start_time": "2022-07-26T08:39:43.735Z"
   },
   {
    "duration": 9,
    "start_time": "2022-07-26T08:39:43.918Z"
   },
   {
    "duration": 168,
    "start_time": "2022-07-26T08:39:43.929Z"
   },
   {
    "duration": 1602,
    "start_time": "2022-07-26T08:39:44.099Z"
   },
   {
    "duration": 426,
    "start_time": "2022-07-26T08:39:45.703Z"
   },
   {
    "duration": 16,
    "start_time": "2022-07-26T08:39:46.131Z"
   },
   {
    "duration": 47,
    "start_time": "2022-07-26T08:39:46.149Z"
   },
   {
    "duration": 69,
    "start_time": "2022-07-26T08:43:34.648Z"
   },
   {
    "duration": 150,
    "start_time": "2022-07-26T08:43:46.500Z"
   },
   {
    "duration": 165,
    "start_time": "2022-07-26T08:44:13.902Z"
   },
   {
    "duration": 55,
    "start_time": "2022-07-26T08:44:44.458Z"
   },
   {
    "duration": 54,
    "start_time": "2022-07-26T08:44:58.545Z"
   },
   {
    "duration": 152,
    "start_time": "2022-07-26T08:45:04.419Z"
   },
   {
    "duration": 146,
    "start_time": "2022-07-26T08:45:37.865Z"
   },
   {
    "duration": 38,
    "start_time": "2022-07-26T08:46:20.809Z"
   },
   {
    "duration": 21,
    "start_time": "2022-07-26T08:46:34.608Z"
   },
   {
    "duration": 19,
    "start_time": "2022-07-26T08:47:15.130Z"
   },
   {
    "duration": 21,
    "start_time": "2022-07-26T08:48:43.230Z"
   },
   {
    "duration": 436,
    "start_time": "2022-07-26T08:50:02.975Z"
   },
   {
    "duration": 317,
    "start_time": "2022-07-26T08:50:12.655Z"
   },
   {
    "duration": 25,
    "start_time": "2022-07-26T08:50:54.416Z"
   },
   {
    "duration": 27,
    "start_time": "2022-07-26T08:51:43.092Z"
   },
   {
    "duration": 31,
    "start_time": "2022-07-26T08:52:24.501Z"
   },
   {
    "duration": 311,
    "start_time": "2022-07-26T08:53:27.042Z"
   },
   {
    "duration": 472,
    "start_time": "2022-07-26T08:53:52.679Z"
   },
   {
    "duration": 12,
    "start_time": "2022-07-26T08:58:21.788Z"
   },
   {
    "duration": 678,
    "start_time": "2022-07-26T08:58:40.027Z"
   },
   {
    "duration": 1583,
    "start_time": "2022-07-26T08:58:58.020Z"
   },
   {
    "duration": 1599,
    "start_time": "2022-07-26T08:59:28.843Z"
   },
   {
    "duration": 143,
    "start_time": "2022-07-26T08:59:44.047Z"
   },
   {
    "duration": 83,
    "start_time": "2022-07-26T09:00:46.600Z"
   },
   {
    "duration": 20,
    "start_time": "2022-07-26T09:01:46.350Z"
   },
   {
    "duration": 14,
    "start_time": "2022-07-26T09:01:53.660Z"
   },
   {
    "duration": 8,
    "start_time": "2022-07-26T09:02:08.488Z"
   },
   {
    "duration": 7,
    "start_time": "2022-07-26T09:02:21.582Z"
   },
   {
    "duration": 9,
    "start_time": "2022-07-26T09:02:28.974Z"
   },
   {
    "duration": 6,
    "start_time": "2022-07-26T09:02:34.043Z"
   },
   {
    "duration": 26,
    "start_time": "2022-07-26T09:02:50.240Z"
   },
   {
    "duration": 504,
    "start_time": "2022-07-26T09:03:54.450Z"
   },
   {
    "duration": 187,
    "start_time": "2022-07-26T09:04:59.169Z"
   },
   {
    "duration": 22,
    "start_time": "2022-07-26T09:06:40.269Z"
   },
   {
    "duration": 458,
    "start_time": "2022-07-26T09:06:43.553Z"
   },
   {
    "duration": 12,
    "start_time": "2022-07-26T09:07:10.979Z"
   },
   {
    "duration": 12,
    "start_time": "2022-07-26T09:08:03.458Z"
   },
   {
    "duration": 152,
    "start_time": "2022-07-26T09:08:19.466Z"
   },
   {
    "duration": 17,
    "start_time": "2022-07-26T09:13:20.945Z"
   },
   {
    "duration": 27,
    "start_time": "2022-07-26T09:14:27.691Z"
   },
   {
    "duration": 14,
    "start_time": "2022-07-26T09:15:02.885Z"
   },
   {
    "duration": 15,
    "start_time": "2022-07-26T09:15:11.279Z"
   },
   {
    "duration": 14,
    "start_time": "2022-07-26T09:15:16.525Z"
   },
   {
    "duration": 26,
    "start_time": "2022-07-26T09:16:08.452Z"
   },
   {
    "duration": 24,
    "start_time": "2022-07-26T09:16:16.657Z"
   },
   {
    "duration": 14,
    "start_time": "2022-07-26T09:16:43.954Z"
   },
   {
    "duration": 14,
    "start_time": "2022-07-26T09:17:12.511Z"
   },
   {
    "duration": 15,
    "start_time": "2022-07-26T09:17:27.216Z"
   },
   {
    "duration": 280,
    "start_time": "2022-07-26T09:18:18.495Z"
   },
   {
    "duration": 155,
    "start_time": "2022-07-26T09:18:56.977Z"
   },
   {
    "duration": 156,
    "start_time": "2022-07-26T09:19:23.639Z"
   },
   {
    "duration": 10,
    "start_time": "2022-07-26T09:22:38.396Z"
   },
   {
    "duration": 8,
    "start_time": "2022-07-26T09:22:51.500Z"
   },
   {
    "duration": 12,
    "start_time": "2022-07-26T09:23:16.595Z"
   },
   {
    "duration": 20,
    "start_time": "2022-07-26T09:27:40.803Z"
   },
   {
    "duration": 8,
    "start_time": "2022-07-26T09:28:17.362Z"
   },
   {
    "duration": 15,
    "start_time": "2022-07-26T09:33:42.263Z"
   },
   {
    "duration": 69,
    "start_time": "2022-07-26T09:33:54.261Z"
   },
   {
    "duration": 11,
    "start_time": "2022-07-26T09:33:58.749Z"
   },
   {
    "duration": 80,
    "start_time": "2022-07-26T09:34:06.851Z"
   },
   {
    "duration": 156,
    "start_time": "2022-07-26T09:35:35.214Z"
   },
   {
    "duration": 147,
    "start_time": "2022-07-26T09:36:11.995Z"
   },
   {
    "duration": 146,
    "start_time": "2022-07-26T09:36:56.106Z"
   },
   {
    "duration": 20,
    "start_time": "2022-07-26T09:37:47.652Z"
   },
   {
    "duration": 9,
    "start_time": "2022-07-26T09:38:37.044Z"
   },
   {
    "duration": 7,
    "start_time": "2022-07-26T09:38:50.521Z"
   },
   {
    "duration": 195,
    "start_time": "2022-07-26T09:39:36.153Z"
   },
   {
    "duration": 4,
    "start_time": "2022-07-26T09:39:43.706Z"
   },
   {
    "duration": 975,
    "start_time": "2022-07-26T09:39:43.713Z"
   },
   {
    "duration": 117,
    "start_time": "2022-07-26T09:39:44.689Z"
   },
   {
    "duration": 102,
    "start_time": "2022-07-26T09:39:44.808Z"
   },
   {
    "duration": 284,
    "start_time": "2022-07-26T09:39:44.912Z"
   },
   {
    "duration": 128,
    "start_time": "2022-07-26T09:39:45.198Z"
   },
   {
    "duration": 223,
    "start_time": "2022-07-26T09:39:45.328Z"
   },
   {
    "duration": 131,
    "start_time": "2022-07-26T09:39:45.553Z"
   },
   {
    "duration": 88,
    "start_time": "2022-07-26T09:39:45.686Z"
   },
   {
    "duration": 187,
    "start_time": "2022-07-26T09:39:45.777Z"
   },
   {
    "duration": 145,
    "start_time": "2022-07-26T09:39:45.966Z"
   },
   {
    "duration": 447,
    "start_time": "2022-07-26T09:39:46.122Z"
   },
   {
    "duration": 455,
    "start_time": "2022-07-26T09:39:46.571Z"
   },
   {
    "duration": 907,
    "start_time": "2022-07-26T09:39:47.028Z"
   },
   {
    "duration": 36,
    "start_time": "2022-07-26T09:39:47.938Z"
   },
   {
    "duration": 164,
    "start_time": "2022-07-26T09:39:47.976Z"
   },
   {
    "duration": 7,
    "start_time": "2022-07-26T09:39:48.142Z"
   },
   {
    "duration": 137,
    "start_time": "2022-07-26T09:39:48.150Z"
   },
   {
    "duration": 6,
    "start_time": "2022-07-26T09:39:48.289Z"
   },
   {
    "duration": 172,
    "start_time": "2022-07-26T09:39:48.297Z"
   },
   {
    "duration": 1813,
    "start_time": "2022-07-26T09:39:48.470Z"
   },
   {
    "duration": 430,
    "start_time": "2022-07-26T09:39:50.284Z"
   },
   {
    "duration": 18,
    "start_time": "2022-07-26T09:39:50.716Z"
   },
   {
    "duration": 54,
    "start_time": "2022-07-26T09:39:50.736Z"
   },
   {
    "duration": 483,
    "start_time": "2022-07-26T09:39:50.791Z"
   },
   {
    "duration": 164,
    "start_time": "2022-07-26T09:39:51.276Z"
   },
   {
    "duration": 161,
    "start_time": "2022-07-26T09:39:51.442Z"
   },
   {
    "duration": 35,
    "start_time": "2022-07-26T09:39:51.608Z"
   },
   {
    "duration": 8,
    "start_time": "2022-07-26T09:39:51.645Z"
   },
   {
    "duration": 10,
    "start_time": "2022-07-26T09:39:51.655Z"
   },
   {
    "duration": 98,
    "start_time": "2022-07-26T09:39:51.666Z"
   },
   {
    "duration": 18,
    "start_time": "2022-07-26T12:05:55.603Z"
   },
   {
    "duration": 454,
    "start_time": "2022-07-26T12:06:50.236Z"
   },
   {
    "duration": 5,
    "start_time": "2022-07-26T12:08:34.377Z"
   },
   {
    "duration": 922,
    "start_time": "2022-07-26T12:08:34.384Z"
   },
   {
    "duration": 121,
    "start_time": "2022-07-26T12:08:35.308Z"
   },
   {
    "duration": 103,
    "start_time": "2022-07-26T12:08:35.431Z"
   },
   {
    "duration": 269,
    "start_time": "2022-07-26T12:08:35.536Z"
   },
   {
    "duration": 127,
    "start_time": "2022-07-26T12:08:35.806Z"
   },
   {
    "duration": 227,
    "start_time": "2022-07-26T12:08:35.934Z"
   },
   {
    "duration": 136,
    "start_time": "2022-07-26T12:08:36.164Z"
   },
   {
    "duration": 86,
    "start_time": "2022-07-26T12:08:36.303Z"
   },
   {
    "duration": 185,
    "start_time": "2022-07-26T12:08:36.393Z"
   },
   {
    "duration": 115,
    "start_time": "2022-07-26T12:08:36.580Z"
   },
   {
    "duration": 456,
    "start_time": "2022-07-26T12:08:36.697Z"
   },
   {
    "duration": 428,
    "start_time": "2022-07-26T12:08:37.155Z"
   },
   {
    "duration": 908,
    "start_time": "2022-07-26T12:08:37.585Z"
   },
   {
    "duration": 43,
    "start_time": "2022-07-26T12:08:38.495Z"
   },
   {
    "duration": 160,
    "start_time": "2022-07-26T12:08:38.540Z"
   },
   {
    "duration": 7,
    "start_time": "2022-07-26T12:08:38.702Z"
   },
   {
    "duration": 136,
    "start_time": "2022-07-26T12:08:38.712Z"
   },
   {
    "duration": 8,
    "start_time": "2022-07-26T12:08:38.850Z"
   },
   {
    "duration": 195,
    "start_time": "2022-07-26T12:08:38.860Z"
   },
   {
    "duration": 1643,
    "start_time": "2022-07-26T12:08:39.058Z"
   },
   {
    "duration": 430,
    "start_time": "2022-07-26T12:08:40.703Z"
   },
   {
    "duration": 12,
    "start_time": "2022-07-26T12:08:41.135Z"
   },
   {
    "duration": 43,
    "start_time": "2022-07-26T12:08:41.148Z"
   },
   {
    "duration": 472,
    "start_time": "2022-07-26T12:08:41.193Z"
   },
   {
    "duration": 157,
    "start_time": "2022-07-26T12:08:41.667Z"
   },
   {
    "duration": 156,
    "start_time": "2022-07-26T12:08:41.826Z"
   },
   {
    "duration": 24,
    "start_time": "2022-07-26T12:08:41.985Z"
   },
   {
    "duration": 19,
    "start_time": "2022-07-26T12:08:42.010Z"
   },
   {
    "duration": 299,
    "start_time": "2022-07-26T12:08:42.030Z"
   },
   {
    "duration": 293,
    "start_time": "2022-07-26T12:08:50.559Z"
   },
   {
    "duration": 5,
    "start_time": "2022-07-26T12:10:42.686Z"
   },
   {
    "duration": 942,
    "start_time": "2022-07-26T12:10:42.694Z"
   },
   {
    "duration": 118,
    "start_time": "2022-07-26T12:10:43.638Z"
   },
   {
    "duration": 114,
    "start_time": "2022-07-26T12:10:43.758Z"
   },
   {
    "duration": 257,
    "start_time": "2022-07-26T12:10:43.874Z"
   },
   {
    "duration": 125,
    "start_time": "2022-07-26T12:10:44.134Z"
   },
   {
    "duration": 209,
    "start_time": "2022-07-26T12:10:44.261Z"
   },
   {
    "duration": 131,
    "start_time": "2022-07-26T12:10:44.472Z"
   },
   {
    "duration": 86,
    "start_time": "2022-07-26T12:10:44.605Z"
   },
   {
    "duration": 173,
    "start_time": "2022-07-26T12:10:44.693Z"
   },
   {
    "duration": 117,
    "start_time": "2022-07-26T12:10:44.868Z"
   },
   {
    "duration": 440,
    "start_time": "2022-07-26T12:10:44.987Z"
   },
   {
    "duration": 446,
    "start_time": "2022-07-26T12:10:45.429Z"
   },
   {
    "duration": 955,
    "start_time": "2022-07-26T12:10:45.877Z"
   },
   {
    "duration": 45,
    "start_time": "2022-07-26T12:10:46.834Z"
   },
   {
    "duration": 190,
    "start_time": "2022-07-26T12:10:46.881Z"
   },
   {
    "duration": 9,
    "start_time": "2022-07-26T12:10:47.073Z"
   },
   {
    "duration": 142,
    "start_time": "2022-07-26T12:10:47.084Z"
   },
   {
    "duration": 7,
    "start_time": "2022-07-26T12:10:47.228Z"
   },
   {
    "duration": 179,
    "start_time": "2022-07-26T12:10:47.236Z"
   },
   {
    "duration": 1743,
    "start_time": "2022-07-26T12:10:47.417Z"
   },
   {
    "duration": 592,
    "start_time": "2022-07-26T12:10:49.162Z"
   },
   {
    "duration": 14,
    "start_time": "2022-07-26T12:10:49.756Z"
   },
   {
    "duration": 66,
    "start_time": "2022-07-26T12:10:49.772Z"
   },
   {
    "duration": 449,
    "start_time": "2022-07-26T12:10:49.840Z"
   },
   {
    "duration": 151,
    "start_time": "2022-07-26T12:10:50.291Z"
   },
   {
    "duration": 152,
    "start_time": "2022-07-26T12:10:50.444Z"
   },
   {
    "duration": 26,
    "start_time": "2022-07-26T12:10:50.599Z"
   },
   {
    "duration": 7,
    "start_time": "2022-07-26T12:10:50.627Z"
   },
   {
    "duration": 14,
    "start_time": "2022-07-26T12:10:50.636Z"
   },
   {
    "duration": 85,
    "start_time": "2022-07-26T12:10:50.652Z"
   },
   {
    "duration": 277,
    "start_time": "2022-07-26T12:11:14.194Z"
   },
   {
    "duration": 294,
    "start_time": "2022-07-26T12:12:15.243Z"
   },
   {
    "duration": 32,
    "start_time": "2022-07-26T12:16:36.182Z"
   },
   {
    "duration": 5,
    "start_time": "2022-07-26T12:16:41.594Z"
   },
   {
    "duration": 12,
    "start_time": "2022-07-26T12:17:47.480Z"
   },
   {
    "duration": 65,
    "start_time": "2022-07-26T12:18:32.836Z"
   },
   {
    "duration": 168,
    "start_time": "2022-07-26T12:21:18.573Z"
   },
   {
    "duration": 179,
    "start_time": "2022-07-26T12:22:33.428Z"
   },
   {
    "duration": 181,
    "start_time": "2022-07-26T12:22:43.649Z"
   },
   {
    "duration": 76,
    "start_time": "2022-07-26T12:23:33.091Z"
   },
   {
    "duration": 18,
    "start_time": "2022-07-26T12:25:47.244Z"
   },
   {
    "duration": 189,
    "start_time": "2022-07-26T12:26:17.700Z"
   },
   {
    "duration": 36,
    "start_time": "2022-07-26T12:26:18.607Z"
   },
   {
    "duration": 94,
    "start_time": "2022-07-26T12:26:33.930Z"
   },
   {
    "duration": 96,
    "start_time": "2022-07-26T12:26:35.402Z"
   },
   {
    "duration": 202,
    "start_time": "2022-07-26T12:26:59.502Z"
   },
   {
    "duration": 15,
    "start_time": "2022-07-26T12:27:04.980Z"
   },
   {
    "duration": 300,
    "start_time": "2022-07-26T12:27:14.804Z"
   },
   {
    "duration": 14,
    "start_time": "2022-07-26T12:27:19.155Z"
   },
   {
    "duration": 382,
    "start_time": "2022-07-26T12:27:39.603Z"
   },
   {
    "duration": 10,
    "start_time": "2022-07-26T12:27:40.671Z"
   },
   {
    "duration": 99,
    "start_time": "2022-07-26T12:27:41.342Z"
   },
   {
    "duration": 23,
    "start_time": "2022-07-26T12:27:42.802Z"
   },
   {
    "duration": 4,
    "start_time": "2022-07-26T12:28:00.938Z"
   },
   {
    "duration": 3,
    "start_time": "2022-07-26T12:28:03.660Z"
   },
   {
    "duration": 391311,
    "start_time": "2022-07-26T12:28:08.362Z"
   },
   {
    "duration": 4,
    "start_time": "2022-07-26T12:41:15.326Z"
   },
   {
    "duration": 54067,
    "start_time": "2022-07-26T12:41:22.612Z"
   },
   {
    "duration": 208,
    "start_time": "2022-07-26T12:42:16.681Z"
   },
   {
    "duration": 6,
    "start_time": "2022-07-26T12:42:38.742Z"
   },
   {
    "duration": 142817,
    "start_time": "2022-07-26T12:43:12.154Z"
   },
   {
    "duration": 1624,
    "start_time": "2022-07-27T06:40:11.088Z"
   },
   {
    "duration": 1305,
    "start_time": "2022-07-27T06:40:12.714Z"
   },
   {
    "duration": 149,
    "start_time": "2022-07-27T06:40:14.021Z"
   },
   {
    "duration": 97,
    "start_time": "2022-07-27T06:40:14.175Z"
   },
   {
    "duration": 261,
    "start_time": "2022-07-27T06:40:14.274Z"
   },
   {
    "duration": 134,
    "start_time": "2022-07-27T06:40:14.536Z"
   },
   {
    "duration": 213,
    "start_time": "2022-07-27T06:40:14.672Z"
   },
   {
    "duration": 201,
    "start_time": "2022-07-27T06:40:14.886Z"
   },
   {
    "duration": 91,
    "start_time": "2022-07-27T06:40:15.089Z"
   },
   {
    "duration": 215,
    "start_time": "2022-07-27T06:40:15.183Z"
   },
   {
    "duration": 118,
    "start_time": "2022-07-27T06:40:15.400Z"
   },
   {
    "duration": 449,
    "start_time": "2022-07-27T06:40:15.520Z"
   },
   {
    "duration": 522,
    "start_time": "2022-07-27T06:40:15.971Z"
   },
   {
    "duration": 933,
    "start_time": "2022-07-27T06:40:16.495Z"
   },
   {
    "duration": 56,
    "start_time": "2022-07-27T06:40:17.429Z"
   },
   {
    "duration": 152,
    "start_time": "2022-07-27T06:40:17.487Z"
   },
   {
    "duration": 7,
    "start_time": "2022-07-27T06:40:17.641Z"
   },
   {
    "duration": 128,
    "start_time": "2022-07-27T06:40:17.660Z"
   },
   {
    "duration": 6,
    "start_time": "2022-07-27T06:40:17.789Z"
   },
   {
    "duration": 179,
    "start_time": "2022-07-27T06:40:17.797Z"
   },
   {
    "duration": 1487,
    "start_time": "2022-07-27T06:40:17.978Z"
   },
   {
    "duration": 385,
    "start_time": "2022-07-27T06:40:19.467Z"
   },
   {
    "duration": 24,
    "start_time": "2022-07-27T06:40:19.854Z"
   },
   {
    "duration": 51,
    "start_time": "2022-07-27T06:40:19.879Z"
   },
   {
    "duration": 437,
    "start_time": "2022-07-27T06:40:19.932Z"
   },
   {
    "duration": 146,
    "start_time": "2022-07-27T06:40:20.372Z"
   },
   {
    "duration": 249,
    "start_time": "2022-07-27T06:40:20.519Z"
   },
   {
    "duration": 20,
    "start_time": "2022-07-27T06:40:20.773Z"
   },
   {
    "duration": 11,
    "start_time": "2022-07-27T06:40:20.794Z"
   },
   {
    "duration": 44,
    "start_time": "2022-07-27T06:40:20.807Z"
   },
   {
    "duration": 88,
    "start_time": "2022-07-27T06:40:20.853Z"
   },
   {
    "duration": 292,
    "start_time": "2022-07-27T06:40:20.943Z"
   },
   {
    "duration": 327,
    "start_time": "2022-07-27T06:40:21.237Z"
   },
   {
    "duration": 94,
    "start_time": "2022-07-27T06:40:21.567Z"
   },
   {
    "duration": 18,
    "start_time": "2022-07-27T06:40:21.663Z"
   },
   {
    "duration": 222,
    "start_time": "2022-07-27T06:40:21.683Z"
   },
   {
    "duration": 30,
    "start_time": "2022-07-27T06:40:21.907Z"
   },
   {
    "duration": 104,
    "start_time": "2022-07-27T06:40:21.939Z"
   },
   {
    "duration": 104,
    "start_time": "2022-07-27T06:40:22.045Z"
   },
   {
    "duration": 229,
    "start_time": "2022-07-27T06:40:22.160Z"
   },
   {
    "duration": 14,
    "start_time": "2022-07-27T06:40:22.391Z"
   },
   {
    "duration": 301,
    "start_time": "2022-07-27T06:40:22.406Z"
   },
   {
    "duration": 14,
    "start_time": "2022-07-27T06:40:22.708Z"
   },
   {
    "duration": 409,
    "start_time": "2022-07-27T06:40:22.724Z"
   },
   {
    "duration": 9,
    "start_time": "2022-07-27T06:40:23.135Z"
   },
   {
    "duration": 132,
    "start_time": "2022-07-27T06:40:23.145Z"
   },
   {
    "duration": 20,
    "start_time": "2022-07-27T06:40:29.374Z"
   },
   {
    "duration": 4,
    "start_time": "2022-07-27T06:42:46.811Z"
   },
   {
    "duration": 183,
    "start_time": "2022-07-27T06:42:56.982Z"
   },
   {
    "duration": 64,
    "start_time": "2022-07-27T06:44:31.931Z"
   },
   {
    "duration": 60,
    "start_time": "2022-07-27T06:44:56.621Z"
   },
   {
    "duration": 91,
    "start_time": "2022-07-27T06:45:22.974Z"
   },
   {
    "duration": 4,
    "start_time": "2022-07-27T06:46:40.200Z"
   },
   {
    "duration": 226539,
    "start_time": "2022-07-27T06:46:45.790Z"
   },
   {
    "duration": 4,
    "start_time": "2022-07-27T06:51:40.075Z"
   },
   {
    "duration": 4,
    "start_time": "2022-07-27T06:56:10.500Z"
   },
   {
    "duration": 10,
    "start_time": "2022-07-27T06:58:17.724Z"
   },
   {
    "duration": 10751,
    "start_time": "2022-07-27T06:59:41.682Z"
   },
   {
    "duration": 180,
    "start_time": "2022-07-27T07:02:19.920Z"
   },
   {
    "duration": 11283,
    "start_time": "2022-07-27T07:03:08.145Z"
   },
   {
    "duration": 11036,
    "start_time": "2022-07-27T07:03:44.404Z"
   },
   {
    "duration": 5,
    "start_time": "2022-07-27T07:04:19.391Z"
   },
   {
    "duration": 50,
    "start_time": "2022-07-27T07:04:53.987Z"
   },
   {
    "duration": 183,
    "start_time": "2022-07-27T07:05:14.574Z"
   },
   {
    "duration": 53,
    "start_time": "2022-07-27T07:05:22.825Z"
   },
   {
    "duration": 8,
    "start_time": "2022-07-27T07:06:33.270Z"
   },
   {
    "duration": 945,
    "start_time": "2022-07-27T07:06:33.280Z"
   },
   {
    "duration": 142,
    "start_time": "2022-07-27T07:06:34.227Z"
   },
   {
    "duration": 108,
    "start_time": "2022-07-27T07:06:34.371Z"
   },
   {
    "duration": 271,
    "start_time": "2022-07-27T07:06:34.482Z"
   },
   {
    "duration": 145,
    "start_time": "2022-07-27T07:06:34.755Z"
   },
   {
    "duration": 215,
    "start_time": "2022-07-27T07:06:34.902Z"
   },
   {
    "duration": 141,
    "start_time": "2022-07-27T07:06:35.119Z"
   },
   {
    "duration": 89,
    "start_time": "2022-07-27T07:06:35.263Z"
   },
   {
    "duration": 195,
    "start_time": "2022-07-27T07:06:35.362Z"
   },
   {
    "duration": 142,
    "start_time": "2022-07-27T07:06:35.559Z"
   },
   {
    "duration": 416,
    "start_time": "2022-07-27T07:06:35.703Z"
   },
   {
    "duration": 474,
    "start_time": "2022-07-27T07:06:36.121Z"
   },
   {
    "duration": 818,
    "start_time": "2022-07-27T07:06:36.598Z"
   },
   {
    "duration": 44,
    "start_time": "2022-07-27T07:06:37.418Z"
   },
   {
    "duration": 155,
    "start_time": "2022-07-27T07:06:37.465Z"
   },
   {
    "duration": 6,
    "start_time": "2022-07-27T07:06:37.621Z"
   },
   {
    "duration": 128,
    "start_time": "2022-07-27T07:06:37.629Z"
   },
   {
    "duration": 7,
    "start_time": "2022-07-27T07:06:37.762Z"
   },
   {
    "duration": 159,
    "start_time": "2022-07-27T07:06:37.772Z"
   },
   {
    "duration": 1642,
    "start_time": "2022-07-27T07:06:37.932Z"
   },
   {
    "duration": 506,
    "start_time": "2022-07-27T07:06:39.575Z"
   },
   {
    "duration": 11,
    "start_time": "2022-07-27T07:06:40.083Z"
   },
   {
    "duration": 46,
    "start_time": "2022-07-27T07:06:40.096Z"
   },
   {
    "duration": 480,
    "start_time": "2022-07-27T07:06:40.144Z"
   },
   {
    "duration": 163,
    "start_time": "2022-07-27T07:06:40.626Z"
   },
   {
    "duration": 150,
    "start_time": "2022-07-27T07:06:40.791Z"
   },
   {
    "duration": 34,
    "start_time": "2022-07-27T07:06:40.943Z"
   },
   {
    "duration": 7,
    "start_time": "2022-07-27T07:06:40.979Z"
   },
   {
    "duration": 8,
    "start_time": "2022-07-27T07:06:40.987Z"
   },
   {
    "duration": 87,
    "start_time": "2022-07-27T07:06:40.997Z"
   },
   {
    "duration": 324,
    "start_time": "2022-07-27T07:06:41.085Z"
   },
   {
    "duration": 317,
    "start_time": "2022-07-27T07:06:41.411Z"
   },
   {
    "duration": 97,
    "start_time": "2022-07-27T07:06:41.730Z"
   },
   {
    "duration": 9,
    "start_time": "2022-07-27T07:06:41.829Z"
   },
   {
    "duration": 215,
    "start_time": "2022-07-27T07:06:41.840Z"
   },
   {
    "duration": 40,
    "start_time": "2022-07-27T07:06:42.056Z"
   },
   {
    "duration": 94,
    "start_time": "2022-07-27T07:06:42.098Z"
   },
   {
    "duration": 84,
    "start_time": "2022-07-27T07:06:42.194Z"
   },
   {
    "duration": 233,
    "start_time": "2022-07-27T07:06:42.280Z"
   },
   {
    "duration": 16,
    "start_time": "2022-07-27T07:06:42.516Z"
   },
   {
    "duration": 299,
    "start_time": "2022-07-27T07:06:42.533Z"
   },
   {
    "duration": 12,
    "start_time": "2022-07-27T07:06:42.834Z"
   },
   {
    "duration": 383,
    "start_time": "2022-07-27T07:06:42.862Z"
   },
   {
    "duration": 8,
    "start_time": "2022-07-27T07:06:52.614Z"
   },
   {
    "duration": 108,
    "start_time": "2022-07-27T07:06:54.651Z"
   },
   {
    "duration": 29,
    "start_time": "2022-07-27T07:06:56.476Z"
   },
   {
    "duration": 24,
    "start_time": "2022-07-27T07:07:07.074Z"
   },
   {
    "duration": 5,
    "start_time": "2022-07-27T07:09:43.941Z"
   },
   {
    "duration": 292083,
    "start_time": "2022-07-27T07:09:58.780Z"
   },
   {
    "duration": 3,
    "start_time": "2022-07-27T07:14:59.734Z"
   },
   {
    "duration": 5,
    "start_time": "2022-07-27T07:15:03.901Z"
   },
   {
    "duration": 1038,
    "start_time": "2022-07-27T07:15:25.508Z"
   },
   {
    "duration": 7,
    "start_time": "2022-07-27T07:16:21.773Z"
   },
   {
    "duration": 4,
    "start_time": "2022-07-27T07:17:53.915Z"
   },
   {
    "duration": 32508,
    "start_time": "2022-07-27T07:17:59.048Z"
   },
   {
    "duration": 4,
    "start_time": "2022-07-27T07:22:04.431Z"
   },
   {
    "duration": 2755263,
    "start_time": "2022-07-27T07:22:08.482Z"
   },
   {
    "duration": 4,
    "start_time": "2022-07-27T08:08:06.111Z"
   },
   {
    "duration": 3,
    "start_time": "2022-07-27T08:08:24.999Z"
   },
   {
    "duration": 114446,
    "start_time": "2022-07-27T08:08:26.284Z"
   },
   {
    "duration": 5,
    "start_time": "2022-07-27T08:12:18.688Z"
   },
   {
    "duration": 4,
    "start_time": "2022-07-27T08:12:19.622Z"
   },
   {
    "duration": 4,
    "start_time": "2022-07-27T08:12:41.194Z"
   },
   {
    "duration": 172508,
    "start_time": "2022-07-27T08:12:42.290Z"
   },
   {
    "duration": 4,
    "start_time": "2022-07-27T08:15:41.626Z"
   },
   {
    "duration": 4,
    "start_time": "2022-07-27T08:15:43.956Z"
   },
   {
    "duration": 4,
    "start_time": "2022-07-27T08:16:41.319Z"
   },
   {
    "duration": 242078,
    "start_time": "2022-07-27T08:16:49.741Z"
   },
   {
    "duration": 4,
    "start_time": "2022-07-27T08:20:56.907Z"
   },
   {
    "duration": 4,
    "start_time": "2022-07-27T08:20:59.847Z"
   },
   {
    "duration": 1841,
    "start_time": "2022-07-27T08:21:06.580Z"
   },
   {
    "duration": 6,
    "start_time": "2022-07-27T08:21:10.827Z"
   },
   {
    "duration": 5,
    "start_time": "2022-07-27T08:22:09.299Z"
   },
   {
    "duration": 38534,
    "start_time": "2022-07-27T08:22:11.323Z"
   },
   {
    "duration": 4,
    "start_time": "2022-07-27T08:22:57.576Z"
   },
   {
    "duration": 4,
    "start_time": "2022-07-27T08:22:58.626Z"
   },
   {
    "duration": 340,
    "start_time": "2022-07-27T08:23:05.457Z"
   },
   {
    "duration": 8,
    "start_time": "2022-07-27T08:23:06.493Z"
   },
   {
    "duration": 4,
    "start_time": "2022-07-27T08:24:16.112Z"
   },
   {
    "duration": 81643,
    "start_time": "2022-07-27T08:24:17.713Z"
   },
   {
    "duration": 5,
    "start_time": "2022-07-27T08:25:43.891Z"
   },
   {
    "duration": 4,
    "start_time": "2022-07-27T08:25:47.632Z"
   },
   {
    "duration": 4,
    "start_time": "2022-07-27T08:27:07.243Z"
   },
   {
    "duration": 948891,
    "start_time": "2022-07-27T08:27:08.551Z"
   },
   {
    "duration": 4,
    "start_time": "2022-07-27T08:43:14.958Z"
   },
   {
    "duration": 4,
    "start_time": "2022-07-27T08:43:15.743Z"
   },
   {
    "duration": 3027,
    "start_time": "2022-07-27T08:43:18.497Z"
   },
   {
    "duration": 6,
    "start_time": "2022-07-27T08:43:27.417Z"
   },
   {
    "duration": 4,
    "start_time": "2022-07-27T08:52:37.079Z"
   },
   {
    "duration": 370059,
    "start_time": "2022-07-27T08:53:22.059Z"
   },
   {
    "duration": 4,
    "start_time": "2022-07-27T08:59:38.693Z"
   },
   {
    "duration": 9,
    "start_time": "2022-07-27T08:59:39.461Z"
   },
   {
    "duration": 4566,
    "start_time": "2022-07-27T08:59:45.287Z"
   },
   {
    "duration": 4748,
    "start_time": "2022-07-27T08:59:58.125Z"
   },
   {
    "duration": 19,
    "start_time": "2022-07-27T09:00:08.193Z"
   },
   {
    "duration": 5,
    "start_time": "2022-07-27T09:01:49.975Z"
   },
   {
    "duration": 2,
    "start_time": "2022-07-27T09:01:52.932Z"
   },
   {
    "duration": 213765,
    "start_time": "2022-07-27T09:02:46.686Z"
   },
   {
    "duration": 1375182,
    "start_time": "2022-07-27T09:06:32.292Z"
   },
   {
    "duration": 10,
    "start_time": "2022-07-27T09:30:23.294Z"
   },
   {
    "duration": 8,
    "start_time": "2022-07-27T09:30:46.641Z"
   },
   {
    "duration": 4,
    "start_time": "2022-07-27T09:31:08.290Z"
   },
   {
    "duration": 9,
    "start_time": "2022-07-27T09:33:00.848Z"
   },
   {
    "duration": 191227,
    "start_time": "2022-07-27T09:33:23.003Z"
   },
   {
    "duration": 745,
    "start_time": "2022-07-27T09:37:01.209Z"
   },
   {
    "duration": 7,
    "start_time": "2022-07-27T09:51:12.702Z"
   },
   {
    "duration": 40,
    "start_time": "2022-07-27T09:51:13.828Z"
   },
   {
    "duration": 357437,
    "start_time": "2022-07-27T09:51:16.025Z"
   },
   {
    "duration": 545,
    "start_time": "2022-07-27T10:03:37.294Z"
   },
   {
    "duration": 84,
    "start_time": "2022-07-27T10:57:33.275Z"
   },
   {
    "duration": 72,
    "start_time": "2022-07-27T10:58:12.574Z"
   },
   {
    "duration": 102,
    "start_time": "2022-07-27T10:58:32.135Z"
   },
   {
    "duration": 781,
    "start_time": "2022-07-27T10:59:12.487Z"
   },
   {
    "duration": 722,
    "start_time": "2022-07-27T10:59:21.788Z"
   },
   {
    "duration": 728,
    "start_time": "2022-07-27T10:59:29.291Z"
   },
   {
    "duration": 706,
    "start_time": "2022-07-27T10:59:37.020Z"
   },
   {
    "duration": 7,
    "start_time": "2022-07-27T11:00:07.529Z"
   },
   {
    "duration": 36,
    "start_time": "2022-07-27T11:09:03.326Z"
   },
   {
    "duration": 7,
    "start_time": "2022-07-27T11:09:47.742Z"
   },
   {
    "duration": 3,
    "start_time": "2022-07-27T11:10:08.354Z"
   },
   {
    "duration": 3,
    "start_time": "2022-07-27T11:10:09.114Z"
   },
   {
    "duration": 26,
    "start_time": "2022-07-27T11:10:55.607Z"
   },
   {
    "duration": 6,
    "start_time": "2022-07-27T11:21:12.258Z"
   },
   {
    "duration": 902,
    "start_time": "2022-07-27T11:21:12.266Z"
   },
   {
    "duration": 180,
    "start_time": "2022-07-27T11:21:13.171Z"
   },
   {
    "duration": 88,
    "start_time": "2022-07-27T11:21:13.354Z"
   },
   {
    "duration": 282,
    "start_time": "2022-07-27T11:21:13.444Z"
   },
   {
    "duration": 123,
    "start_time": "2022-07-27T11:21:13.728Z"
   },
   {
    "duration": 216,
    "start_time": "2022-07-27T11:21:13.852Z"
   },
   {
    "duration": 138,
    "start_time": "2022-07-27T11:21:14.070Z"
   },
   {
    "duration": 87,
    "start_time": "2022-07-27T11:21:14.210Z"
   },
   {
    "duration": 207,
    "start_time": "2022-07-27T11:21:14.299Z"
   },
   {
    "duration": 129,
    "start_time": "2022-07-27T11:21:14.508Z"
   },
   {
    "duration": 422,
    "start_time": "2022-07-27T11:21:14.639Z"
   },
   {
    "duration": 446,
    "start_time": "2022-07-27T11:21:15.064Z"
   },
   {
    "duration": 897,
    "start_time": "2022-07-27T11:21:15.511Z"
   },
   {
    "duration": 50,
    "start_time": "2022-07-27T11:21:16.411Z"
   },
   {
    "duration": 180,
    "start_time": "2022-07-27T11:21:16.464Z"
   },
   {
    "duration": 17,
    "start_time": "2022-07-27T11:21:16.646Z"
   },
   {
    "duration": 145,
    "start_time": "2022-07-27T11:21:16.665Z"
   },
   {
    "duration": 6,
    "start_time": "2022-07-27T11:21:16.811Z"
   },
   {
    "duration": 143,
    "start_time": "2022-07-27T11:21:16.819Z"
   },
   {
    "duration": 1687,
    "start_time": "2022-07-27T11:21:16.964Z"
   },
   {
    "duration": 582,
    "start_time": "2022-07-27T11:21:18.653Z"
   },
   {
    "duration": 13,
    "start_time": "2022-07-27T11:21:19.236Z"
   },
   {
    "duration": 55,
    "start_time": "2022-07-27T11:21:19.252Z"
   },
   {
    "duration": 541,
    "start_time": "2022-07-27T11:21:19.309Z"
   },
   {
    "duration": 169,
    "start_time": "2022-07-27T11:21:19.852Z"
   },
   {
    "duration": 150,
    "start_time": "2022-07-27T11:21:20.023Z"
   },
   {
    "duration": 20,
    "start_time": "2022-07-27T11:21:20.176Z"
   },
   {
    "duration": 7,
    "start_time": "2022-07-27T11:21:20.197Z"
   },
   {
    "duration": 13,
    "start_time": "2022-07-27T11:21:20.206Z"
   },
   {
    "duration": 95,
    "start_time": "2022-07-27T11:21:20.220Z"
   },
   {
    "duration": 319,
    "start_time": "2022-07-27T11:21:20.317Z"
   },
   {
    "duration": 315,
    "start_time": "2022-07-27T11:21:20.637Z"
   },
   {
    "duration": 89,
    "start_time": "2022-07-27T11:21:20.961Z"
   },
   {
    "duration": 16,
    "start_time": "2022-07-27T11:21:21.061Z"
   },
   {
    "duration": 169,
    "start_time": "2022-07-27T11:21:21.079Z"
   },
   {
    "duration": 48,
    "start_time": "2022-07-27T11:21:21.250Z"
   },
   {
    "duration": 194,
    "start_time": "2022-07-27T11:21:21.299Z"
   },
   {
    "duration": 227,
    "start_time": "2022-07-27T11:21:21.494Z"
   },
   {
    "duration": 13,
    "start_time": "2022-07-27T11:21:21.723Z"
   },
   {
    "duration": 299,
    "start_time": "2022-07-27T11:21:21.738Z"
   },
   {
    "duration": 12,
    "start_time": "2022-07-27T11:21:22.039Z"
   },
   {
    "duration": 395,
    "start_time": "2022-07-27T11:21:22.060Z"
   },
   {
    "duration": 13,
    "start_time": "2022-07-27T11:21:22.457Z"
   },
   {
    "duration": 112,
    "start_time": "2022-07-27T11:21:22.472Z"
   },
   {
    "duration": 22,
    "start_time": "2022-07-27T11:21:22.586Z"
   },
   {
    "duration": 27,
    "start_time": "2022-07-27T11:21:22.609Z"
   },
   {
    "duration": 3,
    "start_time": "2022-07-27T11:21:56.143Z"
   },
   {
    "duration": 3,
    "start_time": "2022-07-27T11:21:57.764Z"
   },
   {
    "duration": 48,
    "start_time": "2022-07-27T11:22:42.273Z"
   },
   {
    "duration": 1118779,
    "start_time": "2022-07-27T11:22:53.555Z"
   },
   {
    "duration": 4,
    "start_time": "2022-07-27T11:50:49.055Z"
   },
   {
    "duration": 5,
    "start_time": "2022-07-27T11:51:32.682Z"
   },
   {
    "duration": 196706,
    "start_time": "2022-07-27T11:51:36.778Z"
   },
   {
    "duration": 4,
    "start_time": "2022-07-27T11:56:42.233Z"
   },
   {
    "duration": 569,
    "start_time": "2022-07-27T11:57:28.700Z"
   },
   {
    "duration": 5,
    "start_time": "2022-07-27T11:57:41.878Z"
   },
   {
    "duration": 669701,
    "start_time": "2022-07-27T11:57:45.258Z"
   },
   {
    "duration": 5,
    "start_time": "2022-07-27T12:09:26.213Z"
   },
   {
    "duration": 4,
    "start_time": "2022-07-27T12:10:05.475Z"
   },
   {
    "duration": 4207,
    "start_time": "2022-07-27T12:14:11.277Z"
   },
   {
    "duration": 7,
    "start_time": "2022-07-27T12:14:23.555Z"
   },
   {
    "duration": 65,
    "start_time": "2022-07-27T12:16:19.732Z"
   },
   {
    "duration": 4175,
    "start_time": "2022-07-27T12:16:24.476Z"
   },
   {
    "duration": 11,
    "start_time": "2022-07-27T12:16:28.652Z"
   },
   {
    "duration": 5,
    "start_time": "2022-07-27T12:18:19.850Z"
   },
   {
    "duration": 1280,
    "start_time": "2022-07-27T12:18:19.856Z"
   },
   {
    "duration": 132,
    "start_time": "2022-07-27T12:18:21.138Z"
   },
   {
    "duration": 105,
    "start_time": "2022-07-27T12:18:21.272Z"
   },
   {
    "duration": 260,
    "start_time": "2022-07-27T12:18:21.380Z"
   },
   {
    "duration": 133,
    "start_time": "2022-07-27T12:18:21.642Z"
   },
   {
    "duration": 222,
    "start_time": "2022-07-27T12:18:21.778Z"
   },
   {
    "duration": 131,
    "start_time": "2022-07-27T12:18:22.002Z"
   },
   {
    "duration": 81,
    "start_time": "2022-07-27T12:18:22.135Z"
   },
   {
    "duration": 205,
    "start_time": "2022-07-27T12:18:22.218Z"
   },
   {
    "duration": 137,
    "start_time": "2022-07-27T12:18:22.425Z"
   },
   {
    "duration": 439,
    "start_time": "2022-07-27T12:18:22.564Z"
   },
   {
    "duration": 400,
    "start_time": "2022-07-27T12:18:23.006Z"
   },
   {
    "duration": 802,
    "start_time": "2022-07-27T12:18:23.407Z"
   },
   {
    "duration": 35,
    "start_time": "2022-07-27T12:18:24.211Z"
   },
   {
    "duration": 158,
    "start_time": "2022-07-27T12:18:24.248Z"
   },
   {
    "duration": 6,
    "start_time": "2022-07-27T12:18:24.408Z"
   },
   {
    "duration": 136,
    "start_time": "2022-07-27T12:18:24.415Z"
   },
   {
    "duration": 8,
    "start_time": "2022-07-27T12:18:24.552Z"
   },
   {
    "duration": 170,
    "start_time": "2022-07-27T12:18:24.563Z"
   },
   {
    "duration": 1764,
    "start_time": "2022-07-27T12:18:24.735Z"
   },
   {
    "duration": 570,
    "start_time": "2022-07-27T12:18:26.502Z"
   },
   {
    "duration": 16,
    "start_time": "2022-07-27T12:18:27.075Z"
   },
   {
    "duration": 96,
    "start_time": "2022-07-27T12:18:27.093Z"
   },
   {
    "duration": 443,
    "start_time": "2022-07-27T12:18:27.192Z"
   },
   {
    "duration": 153,
    "start_time": "2022-07-27T12:18:27.637Z"
   },
   {
    "duration": 154,
    "start_time": "2022-07-27T12:18:27.792Z"
   },
   {
    "duration": 29,
    "start_time": "2022-07-27T12:18:27.948Z"
   },
   {
    "duration": 9,
    "start_time": "2022-07-27T12:18:27.979Z"
   },
   {
    "duration": 10,
    "start_time": "2022-07-27T12:18:27.990Z"
   },
   {
    "duration": 89,
    "start_time": "2022-07-27T12:18:28.002Z"
   },
   {
    "duration": 313,
    "start_time": "2022-07-27T12:18:28.092Z"
   },
   {
    "duration": 315,
    "start_time": "2022-07-27T12:18:28.406Z"
   },
   {
    "duration": 98,
    "start_time": "2022-07-27T12:18:28.723Z"
   },
   {
    "duration": 10,
    "start_time": "2022-07-27T12:18:28.823Z"
   },
   {
    "duration": 206,
    "start_time": "2022-07-27T12:18:28.835Z"
   },
   {
    "duration": 48,
    "start_time": "2022-07-27T12:18:29.045Z"
   },
   {
    "duration": 201,
    "start_time": "2022-07-27T12:18:29.094Z"
   },
   {
    "duration": 240,
    "start_time": "2022-07-27T12:18:29.296Z"
   },
   {
    "duration": 16,
    "start_time": "2022-07-27T12:18:29.538Z"
   },
   {
    "duration": 338,
    "start_time": "2022-07-27T12:18:29.556Z"
   },
   {
    "duration": 12,
    "start_time": "2022-07-27T12:18:29.896Z"
   },
   {
    "duration": 400,
    "start_time": "2022-07-27T12:18:29.910Z"
   },
   {
    "duration": 9,
    "start_time": "2022-07-27T12:18:30.312Z"
   },
   {
    "duration": 132,
    "start_time": "2022-07-27T12:18:30.323Z"
   },
   {
    "duration": 5,
    "start_time": "2022-07-27T12:18:30.456Z"
   },
   {
    "duration": 30,
    "start_time": "2022-07-27T12:18:30.464Z"
   },
   {
    "duration": 1738,
    "start_time": "2022-07-27T12:24:55.137Z"
   },
   {
    "duration": 4,
    "start_time": "2022-07-27T12:25:49.124Z"
   },
   {
    "duration": 1261,
    "start_time": "2022-07-27T12:25:49.134Z"
   },
   {
    "duration": 128,
    "start_time": "2022-07-27T12:25:50.396Z"
   },
   {
    "duration": 175,
    "start_time": "2022-07-27T12:25:50.526Z"
   },
   {
    "duration": 253,
    "start_time": "2022-07-27T12:25:50.702Z"
   },
   {
    "duration": 122,
    "start_time": "2022-07-27T12:25:50.957Z"
   },
   {
    "duration": 213,
    "start_time": "2022-07-27T12:25:51.081Z"
   },
   {
    "duration": 203,
    "start_time": "2022-07-27T12:25:51.297Z"
   },
   {
    "duration": 97,
    "start_time": "2022-07-27T12:25:51.502Z"
   },
   {
    "duration": 192,
    "start_time": "2022-07-27T12:25:51.601Z"
   },
   {
    "duration": 111,
    "start_time": "2022-07-27T12:25:51.794Z"
   },
   {
    "duration": 414,
    "start_time": "2022-07-27T12:25:51.907Z"
   },
   {
    "duration": 437,
    "start_time": "2022-07-27T12:25:52.322Z"
   },
   {
    "duration": 901,
    "start_time": "2022-07-27T12:25:52.761Z"
   },
   {
    "duration": 45,
    "start_time": "2022-07-27T12:25:53.665Z"
   },
   {
    "duration": 164,
    "start_time": "2022-07-27T12:25:53.712Z"
   },
   {
    "duration": 5,
    "start_time": "2022-07-27T12:25:53.878Z"
   },
   {
    "duration": 153,
    "start_time": "2022-07-27T12:25:53.885Z"
   },
   {
    "duration": 6,
    "start_time": "2022-07-27T12:25:54.040Z"
   },
   {
    "duration": 198,
    "start_time": "2022-07-27T12:25:54.048Z"
   },
   {
    "duration": 1724,
    "start_time": "2022-07-27T12:25:54.249Z"
   },
   {
    "duration": 412,
    "start_time": "2022-07-27T12:25:55.975Z"
   },
   {
    "duration": 21,
    "start_time": "2022-07-27T12:25:56.389Z"
   },
   {
    "duration": 63,
    "start_time": "2022-07-27T12:25:56.412Z"
   },
   {
    "duration": 521,
    "start_time": "2022-07-27T12:25:56.477Z"
   },
   {
    "duration": 197,
    "start_time": "2022-07-27T12:25:57.001Z"
   },
   {
    "duration": 307,
    "start_time": "2022-07-27T12:25:57.200Z"
   },
   {
    "duration": 27,
    "start_time": "2022-07-27T12:25:57.509Z"
   },
   {
    "duration": 8,
    "start_time": "2022-07-27T12:25:57.539Z"
   },
   {
    "duration": 17,
    "start_time": "2022-07-27T12:25:57.549Z"
   },
   {
    "duration": 108,
    "start_time": "2022-07-27T12:25:57.568Z"
   },
   {
    "duration": 464,
    "start_time": "2022-07-27T12:25:57.678Z"
   },
   {
    "duration": 351,
    "start_time": "2022-07-27T12:25:58.145Z"
   },
   {
    "duration": 111,
    "start_time": "2022-07-27T12:25:58.498Z"
   },
   {
    "duration": 16,
    "start_time": "2022-07-27T12:25:58.612Z"
   },
   {
    "duration": 233,
    "start_time": "2022-07-27T12:25:58.629Z"
   },
   {
    "duration": 45,
    "start_time": "2022-07-27T12:25:58.863Z"
   },
   {
    "duration": 195,
    "start_time": "2022-07-27T12:25:58.910Z"
   },
   {
    "duration": 232,
    "start_time": "2022-07-27T12:25:59.106Z"
   },
   {
    "duration": 13,
    "start_time": "2022-07-27T12:25:59.341Z"
   },
   {
    "duration": 301,
    "start_time": "2022-07-27T12:25:59.356Z"
   },
   {
    "duration": 12,
    "start_time": "2022-07-27T12:25:59.661Z"
   },
   {
    "duration": 535,
    "start_time": "2022-07-27T12:25:59.675Z"
   },
   {
    "duration": 9,
    "start_time": "2022-07-27T12:26:00.212Z"
   },
   {
    "duration": 82,
    "start_time": "2022-07-27T12:26:00.223Z"
   },
   {
    "duration": 12,
    "start_time": "2022-07-27T12:26:00.307Z"
   },
   {
    "duration": 80,
    "start_time": "2022-07-27T12:26:00.321Z"
   },
   {
    "duration": 1151025,
    "start_time": "2022-07-27T12:26:00.403Z"
   },
   {
    "duration": 5,
    "start_time": "2022-07-27T12:45:11.430Z"
   },
   {
    "duration": 15,
    "start_time": "2022-07-27T12:45:11.437Z"
   },
   {
    "duration": 185806,
    "start_time": "2022-07-27T12:45:11.454Z"
   },
   {
    "duration": 830,
    "start_time": "2022-07-27T12:48:17.262Z"
   },
   {
    "duration": 4,
    "start_time": "2022-07-27T12:48:18.094Z"
   },
   {
    "duration": 90221,
    "start_time": "2022-07-27T12:48:18.100Z"
   },
   {
    "duration": 9,
    "start_time": "2022-07-27T12:49:48.323Z"
   },
   {
    "duration": 0,
    "start_time": "2022-07-27T12:49:48.334Z"
   },
   {
    "duration": 1,
    "start_time": "2022-07-27T12:49:48.335Z"
   },
   {
    "duration": 0,
    "start_time": "2022-07-27T12:49:48.337Z"
   },
   {
    "duration": 600,
    "start_time": "2022-07-27T12:49:58.874Z"
   },
   {
    "duration": 4,
    "start_time": "2022-07-27T12:50:37.668Z"
   },
   {
    "duration": 634836,
    "start_time": "2022-07-27T12:50:41.319Z"
   },
   {
    "duration": 4,
    "start_time": "2022-07-27T13:01:30.801Z"
   },
   {
    "duration": 4501,
    "start_time": "2022-07-27T13:01:36.782Z"
   },
   {
    "duration": 7,
    "start_time": "2022-07-27T13:02:06.461Z"
   },
   {
    "duration": 760876,
    "start_time": "2022-07-27T13:03:11.754Z"
   },
   {
    "duration": 7,
    "start_time": "2022-07-27T13:16:03.219Z"
   },
   {
    "duration": 193749,
    "start_time": "2022-07-27T13:24:25.355Z"
   },
   {
    "duration": 52785,
    "start_time": "2022-07-27T13:29:42.421Z"
   },
   {
    "duration": 585,
    "start_time": "2022-07-27T13:31:52.996Z"
   },
   {
    "duration": 2,
    "start_time": "2022-07-27T13:42:10.228Z"
   },
   {
    "duration": 3,
    "start_time": "2022-07-27T13:42:11.515Z"
   },
   {
    "duration": 3,
    "start_time": "2022-07-27T13:42:13.057Z"
   },
   {
    "duration": 8,
    "start_time": "2022-07-27T13:42:14.352Z"
   },
   {
    "duration": 8,
    "start_time": "2022-07-27T13:42:48.002Z"
   },
   {
    "duration": 3,
    "start_time": "2022-07-27T13:42:53.091Z"
   },
   {
    "duration": 1571,
    "start_time": "2022-07-27T13:42:56.637Z"
   },
   {
    "duration": 3,
    "start_time": "2022-07-27T13:43:25.385Z"
   },
   {
    "duration": 3,
    "start_time": "2022-07-27T13:43:48.925Z"
   },
   {
    "duration": 3,
    "start_time": "2022-07-27T13:43:50.153Z"
   },
   {
    "duration": 2,
    "start_time": "2022-07-27T13:43:50.714Z"
   },
   {
    "duration": 3,
    "start_time": "2022-07-27T13:43:51.772Z"
   },
   {
    "duration": 1223,
    "start_time": "2022-07-27T13:43:52.977Z"
   },
   {
    "duration": 3,
    "start_time": "2022-07-27T13:43:56.394Z"
   },
   {
    "duration": 636,
    "start_time": "2022-07-27T13:44:07.371Z"
   },
   {
    "duration": 3,
    "start_time": "2022-07-27T13:44:09.480Z"
   },
   {
    "duration": 4,
    "start_time": "2022-07-27T13:53:13.752Z"
   },
   {
    "duration": 3,
    "start_time": "2022-07-27T13:53:15.350Z"
   },
   {
    "duration": 0,
    "start_time": "2022-07-27T13:54:34.624Z"
   },
   {
    "duration": 0,
    "start_time": "2022-07-27T13:55:10.011Z"
   },
   {
    "duration": 101728,
    "start_time": "2022-07-27T13:55:37.879Z"
   },
   {
    "duration": 44766,
    "start_time": "2022-07-27T13:58:41.947Z"
   },
   {
    "duration": 3,
    "start_time": "2022-07-27T14:12:05.057Z"
   },
   {
    "duration": 3,
    "start_time": "2022-07-27T14:12:06.010Z"
   },
   {
    "duration": 25701,
    "start_time": "2022-07-27T14:12:07.914Z"
   },
   {
    "duration": 227444,
    "start_time": "2022-07-27T14:12:35.975Z"
   },
   {
    "duration": 0,
    "start_time": "2022-07-27T14:16:23.420Z"
   },
   {
    "duration": 35,
    "start_time": "2022-07-27T14:16:36.376Z"
   },
   {
    "duration": 119323,
    "start_time": "2022-07-27T14:16:53.302Z"
   },
   {
    "duration": 96674,
    "start_time": "2022-07-27T14:19:30.307Z"
   },
   {
    "duration": 176914,
    "start_time": "2022-07-27T14:21:08.903Z"
   },
   {
    "duration": 88356,
    "start_time": "2022-07-27T14:24:10.347Z"
   },
   {
    "duration": 291200,
    "start_time": "2022-07-27T14:25:42.956Z"
   },
   {
    "duration": 6,
    "start_time": "2022-07-27T14:30:34.198Z"
   },
   {
    "duration": 5,
    "start_time": "2022-07-27T14:30:35.558Z"
   },
   {
    "duration": 90,
    "start_time": "2022-07-27T14:32:25.680Z"
   },
   {
    "duration": 9,
    "start_time": "2022-07-27T14:46:50.141Z"
   },
   {
    "duration": 10,
    "start_time": "2022-07-27T14:47:16.168Z"
   },
   {
    "duration": 6,
    "start_time": "2022-07-27T14:47:44.165Z"
   },
   {
    "duration": 1522,
    "start_time": "2022-07-27T14:47:57.000Z"
   },
   {
    "duration": 990,
    "start_time": "2022-07-27T14:48:00.117Z"
   },
   {
    "duration": 168,
    "start_time": "2022-07-27T14:48:02.562Z"
   },
   {
    "duration": 108,
    "start_time": "2022-07-27T14:48:03.098Z"
   },
   {
    "duration": 257,
    "start_time": "2022-07-27T14:48:03.834Z"
   },
   {
    "duration": 127,
    "start_time": "2022-07-27T14:48:04.097Z"
   },
   {
    "duration": 234,
    "start_time": "2022-07-27T14:48:04.352Z"
   },
   {
    "duration": 210,
    "start_time": "2022-07-27T14:48:04.610Z"
   },
   {
    "duration": 85,
    "start_time": "2022-07-27T14:48:04.876Z"
   },
   {
    "duration": 201,
    "start_time": "2022-07-27T14:48:06.266Z"
   },
   {
    "duration": 118,
    "start_time": "2022-07-27T14:48:06.498Z"
   },
   {
    "duration": 446,
    "start_time": "2022-07-27T14:48:06.724Z"
   },
   {
    "duration": 467,
    "start_time": "2022-07-27T14:48:07.172Z"
   },
   {
    "duration": 942,
    "start_time": "2022-07-27T14:48:07.832Z"
   },
   {
    "duration": 51,
    "start_time": "2022-07-27T14:48:08.776Z"
   },
   {
    "duration": 154,
    "start_time": "2022-07-27T14:48:08.903Z"
   },
   {
    "duration": 6,
    "start_time": "2022-07-27T14:48:10.062Z"
   },
   {
    "duration": 154,
    "start_time": "2022-07-27T14:48:10.303Z"
   },
   {
    "duration": 7,
    "start_time": "2022-07-27T14:48:10.513Z"
   },
   {
    "duration": 145,
    "start_time": "2022-07-27T14:48:10.959Z"
   },
   {
    "duration": 1688,
    "start_time": "2022-07-27T14:48:11.163Z"
   },
   {
    "duration": 395,
    "start_time": "2022-07-27T14:48:12.853Z"
   },
   {
    "duration": 12,
    "start_time": "2022-07-27T14:48:13.249Z"
   },
   {
    "duration": 66,
    "start_time": "2022-07-27T14:48:13.263Z"
   },
   {
    "duration": 476,
    "start_time": "2022-07-27T14:48:13.556Z"
   },
   {
    "duration": 150,
    "start_time": "2022-07-27T14:48:14.034Z"
   },
   {
    "duration": 245,
    "start_time": "2022-07-27T14:48:14.185Z"
   },
   {
    "duration": 27,
    "start_time": "2022-07-27T14:48:14.432Z"
   },
   {
    "duration": 10,
    "start_time": "2022-07-27T14:48:14.463Z"
   },
   {
    "duration": 50,
    "start_time": "2022-07-27T14:48:14.476Z"
   },
   {
    "duration": 107,
    "start_time": "2022-07-27T14:48:14.529Z"
   },
   {
    "duration": 340,
    "start_time": "2022-07-27T14:48:14.638Z"
   },
   {
    "duration": 298,
    "start_time": "2022-07-27T14:48:14.980Z"
   },
   {
    "duration": 84,
    "start_time": "2022-07-27T14:48:15.280Z"
   },
   {
    "duration": 13,
    "start_time": "2022-07-27T14:48:15.365Z"
   },
   {
    "duration": 225,
    "start_time": "2022-07-27T14:48:15.379Z"
   },
   {
    "duration": 40,
    "start_time": "2022-07-27T14:48:15.606Z"
   },
   {
    "duration": 201,
    "start_time": "2022-07-27T14:48:15.649Z"
   },
   {
    "duration": 222,
    "start_time": "2022-07-27T14:48:15.852Z"
   },
   {
    "duration": 24,
    "start_time": "2022-07-27T14:48:16.076Z"
   },
   {
    "duration": 313,
    "start_time": "2022-07-27T14:48:16.101Z"
   },
   {
    "duration": 12,
    "start_time": "2022-07-27T14:48:16.415Z"
   },
   {
    "duration": 464,
    "start_time": "2022-07-27T14:48:16.429Z"
   },
   {
    "duration": 8,
    "start_time": "2022-07-27T14:48:16.895Z"
   },
   {
    "duration": 68,
    "start_time": "2022-07-27T14:48:16.905Z"
   },
   {
    "duration": 2,
    "start_time": "2022-07-27T14:48:16.975Z"
   },
   {
    "duration": 28,
    "start_time": "2022-07-27T14:48:16.979Z"
   },
   {
    "duration": 4,
    "start_time": "2022-07-27T14:48:36.063Z"
   },
   {
    "duration": 2,
    "start_time": "2022-07-27T14:48:38.368Z"
   },
   {
    "duration": 125,
    "start_time": "2022-07-27T14:48:40.912Z"
   },
   {
    "duration": 10,
    "start_time": "2022-07-27T14:48:48.193Z"
   },
   {
    "duration": 0,
    "start_time": "2022-07-27T15:04:07.612Z"
   },
   {
    "duration": 561655,
    "start_time": "2022-07-27T15:04:14.254Z"
   },
   {
    "duration": 592,
    "start_time": "2022-07-27T15:14:28.210Z"
   },
   {
    "duration": 5,
    "start_time": "2022-07-27T15:24:47.657Z"
   },
   {
    "duration": 1019,
    "start_time": "2022-07-27T15:24:47.664Z"
   },
   {
    "duration": 128,
    "start_time": "2022-07-27T15:24:48.685Z"
   },
   {
    "duration": 121,
    "start_time": "2022-07-27T15:24:48.815Z"
   },
   {
    "duration": 261,
    "start_time": "2022-07-27T15:24:48.938Z"
   },
   {
    "duration": 126,
    "start_time": "2022-07-27T15:24:49.201Z"
   },
   {
    "duration": 220,
    "start_time": "2022-07-27T15:24:49.329Z"
   },
   {
    "duration": 131,
    "start_time": "2022-07-27T15:24:49.551Z"
   },
   {
    "duration": 89,
    "start_time": "2022-07-27T15:24:49.685Z"
   },
   {
    "duration": 201,
    "start_time": "2022-07-27T15:24:49.775Z"
   },
   {
    "duration": 130,
    "start_time": "2022-07-27T15:24:49.978Z"
   },
   {
    "duration": 416,
    "start_time": "2022-07-27T15:24:50.111Z"
   },
   {
    "duration": 444,
    "start_time": "2022-07-27T15:24:50.529Z"
   },
   {
    "duration": 948,
    "start_time": "2022-07-27T15:24:50.976Z"
   },
   {
    "duration": 44,
    "start_time": "2022-07-27T15:24:51.926Z"
   },
   {
    "duration": 162,
    "start_time": "2022-07-27T15:24:51.972Z"
   },
   {
    "duration": 8,
    "start_time": "2022-07-27T15:24:52.137Z"
   },
   {
    "duration": 262,
    "start_time": "2022-07-27T15:24:52.147Z"
   },
   {
    "duration": 8,
    "start_time": "2022-07-27T15:24:52.412Z"
   },
   {
    "duration": 231,
    "start_time": "2022-07-27T15:24:52.422Z"
   },
   {
    "duration": 2119,
    "start_time": "2022-07-27T15:24:52.655Z"
   },
   {
    "duration": 505,
    "start_time": "2022-07-27T15:24:54.776Z"
   },
   {
    "duration": 19,
    "start_time": "2022-07-27T15:24:55.283Z"
   },
   {
    "duration": 46,
    "start_time": "2022-07-27T15:24:55.306Z"
   },
   {
    "duration": 475,
    "start_time": "2022-07-27T15:24:55.354Z"
   },
   {
    "duration": 156,
    "start_time": "2022-07-27T15:24:55.831Z"
   },
   {
    "duration": 229,
    "start_time": "2022-07-27T15:24:55.989Z"
   },
   {
    "duration": 29,
    "start_time": "2022-07-27T15:24:56.220Z"
   },
   {
    "duration": 8,
    "start_time": "2022-07-27T15:24:56.252Z"
   },
   {
    "duration": 36,
    "start_time": "2022-07-27T15:24:56.262Z"
   },
   {
    "duration": 81,
    "start_time": "2022-07-27T15:24:56.301Z"
   },
   {
    "duration": 340,
    "start_time": "2022-07-27T15:24:56.398Z"
   },
   {
    "duration": 320,
    "start_time": "2022-07-27T15:24:56.740Z"
   },
   {
    "duration": 153,
    "start_time": "2022-07-27T15:24:57.061Z"
   },
   {
    "duration": 13,
    "start_time": "2022-07-27T15:24:57.216Z"
   },
   {
    "duration": 207,
    "start_time": "2022-07-27T15:24:57.230Z"
   },
   {
    "duration": 38,
    "start_time": "2022-07-27T15:24:57.439Z"
   },
   {
    "duration": 154,
    "start_time": "2022-07-27T15:24:57.480Z"
   },
   {
    "duration": 279,
    "start_time": "2022-07-27T15:24:57.636Z"
   },
   {
    "duration": 15,
    "start_time": "2022-07-27T15:24:57.917Z"
   },
   {
    "duration": 544,
    "start_time": "2022-07-27T15:24:57.934Z"
   },
   {
    "duration": 26,
    "start_time": "2022-07-27T15:24:58.480Z"
   },
   {
    "duration": 401,
    "start_time": "2022-07-27T15:24:58.508Z"
   },
   {
    "duration": 9,
    "start_time": "2022-07-27T15:24:58.911Z"
   },
   {
    "duration": 83,
    "start_time": "2022-07-27T15:24:58.923Z"
   },
   {
    "duration": 4,
    "start_time": "2022-07-27T15:24:59.008Z"
   },
   {
    "duration": 5,
    "start_time": "2022-07-27T15:24:59.014Z"
   },
   {
    "duration": 191384,
    "start_time": "2022-07-27T15:24:59.021Z"
   },
   {
    "duration": 14,
    "start_time": "2022-07-27T15:28:10.407Z"
   },
   {
    "duration": 0,
    "start_time": "2022-07-27T15:28:10.423Z"
   },
   {
    "duration": 1,
    "start_time": "2022-07-27T15:28:10.424Z"
   },
   {
    "duration": 0,
    "start_time": "2022-07-27T15:28:10.426Z"
   },
   {
    "duration": 0,
    "start_time": "2022-07-27T15:28:10.427Z"
   },
   {
    "duration": 0,
    "start_time": "2022-07-27T15:28:10.429Z"
   },
   {
    "duration": 0,
    "start_time": "2022-07-27T15:28:10.436Z"
   },
   {
    "duration": 0,
    "start_time": "2022-07-27T15:28:10.438Z"
   },
   {
    "duration": 0,
    "start_time": "2022-07-27T15:28:10.439Z"
   },
   {
    "duration": 0,
    "start_time": "2022-07-27T15:28:10.440Z"
   },
   {
    "duration": 0,
    "start_time": "2022-07-27T15:28:10.442Z"
   },
   {
    "duration": 0,
    "start_time": "2022-07-27T15:28:10.443Z"
   },
   {
    "duration": 0,
    "start_time": "2022-07-27T15:28:10.452Z"
   },
   {
    "duration": 5,
    "start_time": "2022-07-27T15:29:30.904Z"
   },
   {
    "duration": 988,
    "start_time": "2022-07-27T15:29:30.912Z"
   },
   {
    "duration": 121,
    "start_time": "2022-07-27T15:29:31.901Z"
   },
   {
    "duration": 118,
    "start_time": "2022-07-27T15:29:32.025Z"
   },
   {
    "duration": 274,
    "start_time": "2022-07-27T15:29:32.144Z"
   },
   {
    "duration": 147,
    "start_time": "2022-07-27T15:29:32.420Z"
   },
   {
    "duration": 214,
    "start_time": "2022-07-27T15:29:32.569Z"
   },
   {
    "duration": 195,
    "start_time": "2022-07-27T15:29:32.791Z"
   },
   {
    "duration": 94,
    "start_time": "2022-07-27T15:29:32.988Z"
   },
   {
    "duration": 203,
    "start_time": "2022-07-27T15:29:33.084Z"
   },
   {
    "duration": 117,
    "start_time": "2022-07-27T15:29:33.289Z"
   },
   {
    "duration": 413,
    "start_time": "2022-07-27T15:29:33.408Z"
   },
   {
    "duration": 465,
    "start_time": "2022-07-27T15:29:33.823Z"
   },
   {
    "duration": 921,
    "start_time": "2022-07-27T15:29:34.290Z"
   },
   {
    "duration": 45,
    "start_time": "2022-07-27T15:29:35.213Z"
   },
   {
    "duration": 155,
    "start_time": "2022-07-27T15:29:35.261Z"
   },
   {
    "duration": 6,
    "start_time": "2022-07-27T15:29:35.418Z"
   },
   {
    "duration": 122,
    "start_time": "2022-07-27T15:29:35.426Z"
   },
   {
    "duration": 6,
    "start_time": "2022-07-27T15:29:35.550Z"
   },
   {
    "duration": 165,
    "start_time": "2022-07-27T15:29:35.557Z"
   },
   {
    "duration": 1731,
    "start_time": "2022-07-27T15:29:35.724Z"
   },
   {
    "duration": 389,
    "start_time": "2022-07-27T15:29:37.457Z"
   },
   {
    "duration": 14,
    "start_time": "2022-07-27T15:29:37.848Z"
   },
   {
    "duration": 81,
    "start_time": "2022-07-27T15:29:37.868Z"
   },
   {
    "duration": 460,
    "start_time": "2022-07-27T15:29:37.951Z"
   },
   {
    "duration": 169,
    "start_time": "2022-07-27T15:29:38.414Z"
   },
   {
    "duration": 150,
    "start_time": "2022-07-27T15:29:38.585Z"
   },
   {
    "duration": 22,
    "start_time": "2022-07-27T15:29:38.737Z"
   },
   {
    "duration": 9,
    "start_time": "2022-07-27T15:29:38.762Z"
   },
   {
    "duration": 37,
    "start_time": "2022-07-27T15:29:38.773Z"
   },
   {
    "duration": 93,
    "start_time": "2022-07-27T15:29:38.813Z"
   },
   {
    "duration": 356,
    "start_time": "2022-07-27T15:29:38.908Z"
   },
   {
    "duration": 331,
    "start_time": "2022-07-27T15:29:39.266Z"
   },
   {
    "duration": 79,
    "start_time": "2022-07-27T15:29:39.599Z"
   },
   {
    "duration": 26,
    "start_time": "2022-07-27T15:29:39.680Z"
   },
   {
    "duration": 197,
    "start_time": "2022-07-27T15:29:39.708Z"
   },
   {
    "duration": 38,
    "start_time": "2022-07-27T15:29:39.907Z"
   },
   {
    "duration": 155,
    "start_time": "2022-07-27T15:29:39.947Z"
   },
   {
    "duration": 276,
    "start_time": "2022-07-27T15:29:40.104Z"
   },
   {
    "duration": 24,
    "start_time": "2022-07-27T15:29:40.381Z"
   },
   {
    "duration": 313,
    "start_time": "2022-07-27T15:29:40.408Z"
   },
   {
    "duration": 18,
    "start_time": "2022-07-27T15:29:40.723Z"
   },
   {
    "duration": 373,
    "start_time": "2022-07-27T15:29:40.743Z"
   },
   {
    "duration": 9,
    "start_time": "2022-07-27T15:29:41.117Z"
   },
   {
    "duration": 85,
    "start_time": "2022-07-27T15:29:41.128Z"
   },
   {
    "duration": 3,
    "start_time": "2022-07-27T15:29:41.215Z"
   },
   {
    "duration": 11,
    "start_time": "2022-07-27T15:29:41.220Z"
   },
   {
    "duration": 1000598,
    "start_time": "2022-07-27T15:29:41.233Z"
   },
   {
    "duration": 5,
    "start_time": "2022-07-27T15:46:21.833Z"
   },
   {
    "duration": 14,
    "start_time": "2022-07-27T15:46:21.840Z"
   },
   {
    "duration": 214498,
    "start_time": "2022-07-27T15:46:21.856Z"
   },
   {
    "duration": 683,
    "start_time": "2022-07-27T15:49:56.355Z"
   },
   {
    "duration": 5,
    "start_time": "2022-07-27T15:49:57.040Z"
   },
   {
    "duration": 708148,
    "start_time": "2022-07-27T15:49:57.047Z"
   },
   {
    "duration": 3,
    "start_time": "2022-07-27T16:01:45.198Z"
   },
   {
    "duration": 4629,
    "start_time": "2022-07-27T16:01:45.203Z"
   },
   {
    "duration": 7,
    "start_time": "2022-07-27T16:01:49.834Z"
   },
   {
    "duration": 14,
    "start_time": "2022-07-27T16:01:49.843Z"
   },
   {
    "duration": 12,
    "start_time": "2022-07-27T16:01:49.859Z"
   },
   {
    "duration": 108,
    "start_time": "2022-07-27T16:01:49.873Z"
   },
   {
    "duration": 558,
    "start_time": "2022-07-27T16:01:49.982Z"
   },
   {
    "duration": 79,
    "start_time": "2022-07-27T17:08:34.251Z"
   },
   {
    "duration": 3,
    "start_time": "2022-07-27T17:09:19.283Z"
   },
   {
    "duration": 3,
    "start_time": "2022-07-27T17:09:20.099Z"
   },
   {
    "duration": 82,
    "start_time": "2022-07-27T17:09:20.916Z"
   },
   {
    "duration": 66,
    "start_time": "2022-07-27T17:10:27.546Z"
   },
   {
    "duration": 4,
    "start_time": "2022-07-27T17:11:09.579Z"
   },
   {
    "duration": 2,
    "start_time": "2022-07-27T17:11:11.176Z"
   },
   {
    "duration": 26,
    "start_time": "2022-07-27T17:11:27.190Z"
   },
   {
    "duration": 24,
    "start_time": "2022-07-27T17:11:33.414Z"
   },
   {
    "duration": 14786,
    "start_time": "2022-07-27T17:11:39.917Z"
   },
   {
    "duration": 98,
    "start_time": "2022-07-27T17:12:45.143Z"
   },
   {
    "duration": 362,
    "start_time": "2022-07-27T17:13:03.144Z"
   },
   {
    "duration": 6,
    "start_time": "2022-07-27T17:13:23.891Z"
   },
   {
    "duration": 4,
    "start_time": "2022-07-27T17:13:38.209Z"
   },
   {
    "duration": 3,
    "start_time": "2022-07-27T17:13:38.797Z"
   },
   {
    "duration": 212766,
    "start_time": "2022-07-27T17:13:39.437Z"
   },
   {
    "duration": 665,
    "start_time": "2022-07-27T17:18:07.032Z"
   },
   {
    "duration": 7,
    "start_time": "2022-07-27T17:18:20.467Z"
   },
   {
    "duration": 47,
    "start_time": "2022-07-27T17:22:53.500Z"
   },
   {
    "duration": 46,
    "start_time": "2022-07-27T17:23:03.389Z"
   },
   {
    "duration": 4,
    "start_time": "2022-07-27T17:23:19.784Z"
   },
   {
    "duration": 8,
    "start_time": "2022-07-27T17:23:30.129Z"
   },
   {
    "duration": 4,
    "start_time": "2022-07-27T17:26:12.326Z"
   },
   {
    "duration": 9,
    "start_time": "2022-07-27T17:26:12.709Z"
   },
   {
    "duration": 11,
    "start_time": "2022-07-27T17:29:08.680Z"
   },
   {
    "duration": 59,
    "start_time": "2022-07-27T17:29:46.672Z"
   },
   {
    "duration": 7,
    "start_time": "2022-07-27T17:29:54.622Z"
   },
   {
    "duration": 16,
    "start_time": "2022-07-27T17:30:00.778Z"
   },
   {
    "duration": 4,
    "start_time": "2022-07-27T17:31:51.112Z"
   },
   {
    "duration": 4,
    "start_time": "2022-07-27T17:32:18.300Z"
   },
   {
    "duration": 4,
    "start_time": "2022-07-27T17:32:30.265Z"
   },
   {
    "duration": 4,
    "start_time": "2022-07-27T17:32:40.345Z"
   },
   {
    "duration": 55,
    "start_time": "2022-07-27T17:37:37.673Z"
   },
   {
    "duration": 5,
    "start_time": "2022-07-27T17:38:05.868Z"
   },
   {
    "duration": 7,
    "start_time": "2022-07-27T17:38:34.749Z"
   },
   {
    "duration": 53,
    "start_time": "2022-07-27T17:40:50.474Z"
   },
   {
    "duration": 87,
    "start_time": "2022-07-27T17:41:17.159Z"
   },
   {
    "duration": 49,
    "start_time": "2022-07-27T17:41:26.337Z"
   },
   {
    "duration": 52,
    "start_time": "2022-07-27T17:42:11.493Z"
   },
   {
    "duration": 4,
    "start_time": "2022-07-27T17:42:18.462Z"
   },
   {
    "duration": 8,
    "start_time": "2022-07-27T17:42:20.864Z"
   },
   {
    "duration": 5,
    "start_time": "2022-07-27T17:43:04.819Z"
   },
   {
    "duration": 22,
    "start_time": "2022-07-27T17:43:05.594Z"
   },
   {
    "duration": 51,
    "start_time": "2022-07-27T17:43:25.630Z"
   },
   {
    "duration": 5,
    "start_time": "2022-07-27T17:44:40.978Z"
   },
   {
    "duration": 10,
    "start_time": "2022-07-27T17:44:41.873Z"
   },
   {
    "duration": 21,
    "start_time": "2022-07-27T17:45:16.290Z"
   },
   {
    "duration": 10,
    "start_time": "2022-07-27T17:46:03.178Z"
   },
   {
    "duration": 16,
    "start_time": "2022-07-27T17:46:44.227Z"
   },
   {
    "duration": 11,
    "start_time": "2022-07-27T17:46:54.812Z"
   },
   {
    "duration": 1912,
    "start_time": "2022-07-27T18:29:53.372Z"
   },
   {
    "duration": 3208,
    "start_time": "2022-07-27T18:29:55.286Z"
   },
   {
    "duration": 115,
    "start_time": "2022-07-27T18:29:58.497Z"
   },
   {
    "duration": 99,
    "start_time": "2022-07-27T18:29:59.156Z"
   },
   {
    "duration": 320,
    "start_time": "2022-07-27T18:30:45.184Z"
   },
   {
    "duration": 190,
    "start_time": "2022-07-27T18:30:46.587Z"
   },
   {
    "duration": 210,
    "start_time": "2022-07-27T18:30:48.158Z"
   },
   {
    "duration": 81,
    "start_time": "2022-07-27T18:35:28.852Z"
   },
   {
    "duration": 180,
    "start_time": "2022-07-27T18:40:59.150Z"
   },
   {
    "duration": 107,
    "start_time": "2022-07-27T18:41:14.448Z"
   },
   {
    "duration": 492,
    "start_time": "2022-07-27T18:41:18.320Z"
   },
   {
    "duration": 985,
    "start_time": "2022-07-27T18:41:25.488Z"
   },
   {
    "duration": 43,
    "start_time": "2022-07-27T18:41:44.519Z"
   },
   {
    "duration": 220,
    "start_time": "2022-07-27T18:43:19.057Z"
   },
   {
    "duration": 122,
    "start_time": "2022-07-27T18:43:44.020Z"
   },
   {
    "duration": 7,
    "start_time": "2022-07-27T18:44:41.978Z"
   },
   {
    "duration": 165,
    "start_time": "2022-07-27T18:44:53.989Z"
   },
   {
    "duration": 1652,
    "start_time": "2022-07-27T18:44:57.048Z"
   },
   {
    "duration": 63,
    "start_time": "2022-07-27T18:45:18.728Z"
   },
   {
    "duration": 10,
    "start_time": "2022-07-27T18:46:56.878Z"
   },
   {
    "duration": 76,
    "start_time": "2022-07-27T18:48:55.119Z"
   },
   {
    "duration": 317,
    "start_time": "2022-07-27T18:49:00.561Z"
   },
   {
    "duration": 303,
    "start_time": "2022-07-27T18:49:13.831Z"
   },
   {
    "duration": 12,
    "start_time": "2022-07-27T18:50:45.645Z"
   },
   {
    "duration": 199,
    "start_time": "2022-07-27T18:50:52.822Z"
   },
   {
    "duration": 38,
    "start_time": "2022-07-27T18:51:05.324Z"
   },
   {
    "duration": 223,
    "start_time": "2022-07-27T18:52:04.801Z"
   },
   {
    "duration": 286,
    "start_time": "2022-07-27T18:52:16.429Z"
   },
   {
    "duration": 1619,
    "start_time": "2022-07-28T02:21:40.419Z"
   },
   {
    "duration": 1109,
    "start_time": "2022-07-28T02:21:42.040Z"
   },
   {
    "duration": 92,
    "start_time": "2022-07-28T02:21:43.151Z"
   },
   {
    "duration": 94,
    "start_time": "2022-07-28T02:21:43.245Z"
   },
   {
    "duration": 223,
    "start_time": "2022-07-28T02:21:43.341Z"
   },
   {
    "duration": 108,
    "start_time": "2022-07-28T02:21:43.565Z"
   },
   {
    "duration": 160,
    "start_time": "2022-07-28T02:21:43.675Z"
   },
   {
    "duration": 175,
    "start_time": "2022-07-28T02:21:43.837Z"
   },
   {
    "duration": 78,
    "start_time": "2022-07-28T02:21:44.014Z"
   },
   {
    "duration": 151,
    "start_time": "2022-07-28T02:21:44.094Z"
   },
   {
    "duration": 95,
    "start_time": "2022-07-28T02:21:44.246Z"
   },
   {
    "duration": 400,
    "start_time": "2022-07-28T02:21:44.343Z"
   },
   {
    "duration": 429,
    "start_time": "2022-07-28T02:21:44.744Z"
   },
   {
    "duration": 878,
    "start_time": "2022-07-28T02:21:45.175Z"
   },
   {
    "duration": 53,
    "start_time": "2022-07-28T02:21:46.055Z"
   },
   {
    "duration": 122,
    "start_time": "2022-07-28T02:21:46.109Z"
   },
   {
    "duration": 5,
    "start_time": "2022-07-28T02:21:46.233Z"
   },
   {
    "duration": 104,
    "start_time": "2022-07-28T02:21:46.240Z"
   },
   {
    "duration": 6,
    "start_time": "2022-07-28T02:21:46.346Z"
   },
   {
    "duration": 129,
    "start_time": "2022-07-28T02:21:46.353Z"
   },
   {
    "duration": 1320,
    "start_time": "2022-07-28T02:21:46.483Z"
   },
   {
    "duration": 345,
    "start_time": "2022-07-28T02:21:47.804Z"
   },
   {
    "duration": 13,
    "start_time": "2022-07-28T02:21:48.150Z"
   },
   {
    "duration": 56,
    "start_time": "2022-07-28T02:21:48.164Z"
   },
   {
    "duration": 358,
    "start_time": "2022-07-28T02:21:48.221Z"
   },
   {
    "duration": 131,
    "start_time": "2022-07-28T02:21:48.580Z"
   },
   {
    "duration": 215,
    "start_time": "2022-07-28T02:21:48.713Z"
   },
   {
    "duration": 19,
    "start_time": "2022-07-28T02:21:48.931Z"
   },
   {
    "duration": 26,
    "start_time": "2022-07-28T02:21:48.951Z"
   },
   {
    "duration": 8,
    "start_time": "2022-07-28T02:21:48.978Z"
   },
   {
    "duration": 74,
    "start_time": "2022-07-28T02:21:48.987Z"
   },
   {
    "duration": 239,
    "start_time": "2022-07-28T02:21:49.062Z"
   },
   {
    "duration": 237,
    "start_time": "2022-07-28T02:21:49.303Z"
   },
   {
    "duration": 67,
    "start_time": "2022-07-28T02:21:49.542Z"
   },
   {
    "duration": 12,
    "start_time": "2022-07-28T02:21:49.610Z"
   },
   {
    "duration": 179,
    "start_time": "2022-07-28T02:21:49.623Z"
   },
   {
    "duration": 34,
    "start_time": "2022-07-28T02:21:49.804Z"
   },
   {
    "duration": 173,
    "start_time": "2022-07-28T02:21:49.839Z"
   },
   {
    "duration": 219,
    "start_time": "2022-07-28T02:21:50.013Z"
   },
   {
    "duration": 13,
    "start_time": "2022-07-28T02:21:50.234Z"
   },
   {
    "duration": 257,
    "start_time": "2022-07-28T02:21:50.249Z"
   },
   {
    "duration": 19,
    "start_time": "2022-07-28T02:22:10.002Z"
   },
   {
    "duration": 177,
    "start_time": "2022-07-28T02:22:19.933Z"
   },
   {
    "duration": 20,
    "start_time": "2022-07-28T02:22:22.915Z"
   },
   {
    "duration": 5,
    "start_time": "2022-07-28T02:28:52.379Z"
   },
   {
    "duration": 864,
    "start_time": "2022-07-28T02:28:52.386Z"
   },
   {
    "duration": 101,
    "start_time": "2022-07-28T02:28:53.252Z"
   },
   {
    "duration": 86,
    "start_time": "2022-07-28T02:28:53.355Z"
   },
   {
    "duration": 215,
    "start_time": "2022-07-28T02:28:53.443Z"
   },
   {
    "duration": 103,
    "start_time": "2022-07-28T02:28:53.660Z"
   },
   {
    "duration": 170,
    "start_time": "2022-07-28T02:28:53.764Z"
   },
   {
    "duration": 107,
    "start_time": "2022-07-28T02:28:53.936Z"
   },
   {
    "duration": 73,
    "start_time": "2022-07-28T02:28:54.044Z"
   },
   {
    "duration": 146,
    "start_time": "2022-07-28T02:28:54.119Z"
   },
   {
    "duration": 94,
    "start_time": "2022-07-28T02:28:54.266Z"
   },
   {
    "duration": 380,
    "start_time": "2022-07-28T02:28:54.361Z"
   },
   {
    "duration": 370,
    "start_time": "2022-07-28T02:28:54.743Z"
   },
   {
    "duration": 805,
    "start_time": "2022-07-28T02:28:55.116Z"
   },
   {
    "duration": 40,
    "start_time": "2022-07-28T02:28:55.922Z"
   },
   {
    "duration": 124,
    "start_time": "2022-07-28T02:28:55.974Z"
   },
   {
    "duration": 5,
    "start_time": "2022-07-28T02:28:56.100Z"
   },
   {
    "duration": 126,
    "start_time": "2022-07-28T02:28:56.107Z"
   },
   {
    "duration": 7,
    "start_time": "2022-07-28T02:28:56.234Z"
   },
   {
    "duration": 143,
    "start_time": "2022-07-28T02:28:56.242Z"
   },
   {
    "duration": 1331,
    "start_time": "2022-07-28T02:28:56.387Z"
   },
   {
    "duration": 386,
    "start_time": "2022-07-28T02:28:57.720Z"
   },
   {
    "duration": 13,
    "start_time": "2022-07-28T02:28:58.108Z"
   },
   {
    "duration": 61,
    "start_time": "2022-07-28T02:28:58.123Z"
   },
   {
    "duration": 463,
    "start_time": "2022-07-28T02:28:58.186Z"
   },
   {
    "duration": 135,
    "start_time": "2022-07-28T02:28:58.650Z"
   },
   {
    "duration": 129,
    "start_time": "2022-07-28T02:28:58.787Z"
   },
   {
    "duration": 19,
    "start_time": "2022-07-28T02:28:58.918Z"
   },
   {
    "duration": 8,
    "start_time": "2022-07-28T02:28:58.939Z"
   },
   {
    "duration": 29,
    "start_time": "2022-07-28T02:28:58.948Z"
   },
   {
    "duration": 73,
    "start_time": "2022-07-28T02:28:58.979Z"
   },
   {
    "duration": 238,
    "start_time": "2022-07-28T02:28:59.054Z"
   },
   {
    "duration": 236,
    "start_time": "2022-07-28T02:28:59.294Z"
   },
   {
    "duration": 78,
    "start_time": "2022-07-28T02:28:59.532Z"
   },
   {
    "duration": 9,
    "start_time": "2022-07-28T02:28:59.612Z"
   },
   {
    "duration": 159,
    "start_time": "2022-07-28T02:28:59.622Z"
   },
   {
    "duration": 35,
    "start_time": "2022-07-28T02:28:59.782Z"
   },
   {
    "duration": 159,
    "start_time": "2022-07-28T02:28:59.819Z"
   },
   {
    "duration": 206,
    "start_time": "2022-07-28T02:28:59.979Z"
   },
   {
    "duration": 18,
    "start_time": "2022-07-28T02:29:00.186Z"
   },
   {
    "duration": 261,
    "start_time": "2022-07-28T02:29:00.209Z"
   },
   {
    "duration": 4,
    "start_time": "2022-07-28T02:29:33.984Z"
   },
   {
    "duration": 314,
    "start_time": "2022-07-28T02:30:13.367Z"
   },
   {
    "duration": 27,
    "start_time": "2022-07-28T02:30:45.606Z"
   },
   {
    "duration": 12,
    "start_time": "2022-07-28T02:31:04.759Z"
   },
   {
    "duration": 98,
    "start_time": "2022-07-28T02:31:20.280Z"
   },
   {
    "duration": 5,
    "start_time": "2022-07-28T02:44:30.789Z"
   },
   {
    "duration": 872,
    "start_time": "2022-07-28T02:44:30.797Z"
   },
   {
    "duration": 103,
    "start_time": "2022-07-28T02:44:31.673Z"
   },
   {
    "duration": 99,
    "start_time": "2022-07-28T02:44:31.778Z"
   },
   {
    "duration": 222,
    "start_time": "2022-07-28T02:44:31.879Z"
   },
   {
    "duration": 107,
    "start_time": "2022-07-28T02:44:32.103Z"
   },
   {
    "duration": 174,
    "start_time": "2022-07-28T02:44:32.212Z"
   },
   {
    "duration": 111,
    "start_time": "2022-07-28T02:44:32.388Z"
   },
   {
    "duration": 81,
    "start_time": "2022-07-28T02:44:32.502Z"
   },
   {
    "duration": 149,
    "start_time": "2022-07-28T02:44:32.585Z"
   },
   {
    "duration": 92,
    "start_time": "2022-07-28T02:44:32.736Z"
   },
   {
    "duration": 381,
    "start_time": "2022-07-28T02:44:32.830Z"
   },
   {
    "duration": 376,
    "start_time": "2022-07-28T02:44:33.213Z"
   },
   {
    "duration": 757,
    "start_time": "2022-07-28T02:44:33.590Z"
   },
   {
    "duration": 43,
    "start_time": "2022-07-28T02:44:34.349Z"
   },
   {
    "duration": 131,
    "start_time": "2022-07-28T02:44:41.951Z"
   },
   {
    "duration": 1583,
    "start_time": "2022-07-28T06:15:59.790Z"
   },
   {
    "duration": 1092,
    "start_time": "2022-07-28T06:16:04.328Z"
   },
   {
    "duration": 96,
    "start_time": "2022-07-28T06:16:05.942Z"
   },
   {
    "duration": 83,
    "start_time": "2022-07-28T06:16:07.441Z"
   },
   {
    "duration": 216,
    "start_time": "2022-07-28T06:16:10.080Z"
   },
   {
    "duration": 96,
    "start_time": "2022-07-28T06:16:10.402Z"
   },
   {
    "duration": 168,
    "start_time": "2022-07-28T06:16:11.099Z"
   },
   {
    "duration": 208,
    "start_time": "2022-07-28T06:16:11.391Z"
   },
   {
    "duration": 74,
    "start_time": "2022-07-28T06:16:12.392Z"
   },
   {
    "duration": 150,
    "start_time": "2022-07-28T06:16:13.500Z"
   },
   {
    "duration": 94,
    "start_time": "2022-07-28T06:16:14.616Z"
   },
   {
    "duration": 378,
    "start_time": "2022-07-28T06:16:15.022Z"
   },
   {
    "duration": 404,
    "start_time": "2022-07-28T06:16:15.608Z"
   },
   {
    "duration": 817,
    "start_time": "2022-07-28T06:16:19.676Z"
   },
   {
    "duration": 40,
    "start_time": "2022-07-28T06:16:22.719Z"
   },
   {
    "duration": 116,
    "start_time": "2022-07-28T06:16:27.578Z"
   },
   {
    "duration": 6,
    "start_time": "2022-07-28T06:16:28.701Z"
   },
   {
    "duration": 96,
    "start_time": "2022-07-28T06:16:35.588Z"
   },
   {
    "duration": 91,
    "start_time": "2022-07-28T06:18:33.554Z"
   },
   {
    "duration": 6,
    "start_time": "2022-07-28T06:18:37.147Z"
   },
   {
    "duration": 132,
    "start_time": "2022-07-28T06:18:50.019Z"
   },
   {
    "duration": 1381,
    "start_time": "2022-07-28T06:18:51.357Z"
   },
   {
    "duration": 335,
    "start_time": "2022-07-28T06:18:52.739Z"
   },
   {
    "duration": 12,
    "start_time": "2022-07-28T06:18:56.800Z"
   },
   {
    "duration": 49,
    "start_time": "2022-07-28T06:18:57.773Z"
   },
   {
    "duration": 347,
    "start_time": "2022-07-28T06:18:59.860Z"
   },
   {
    "duration": 116,
    "start_time": "2022-07-28T06:19:00.547Z"
   },
   {
    "duration": 209,
    "start_time": "2022-07-28T06:19:03.025Z"
   },
   {
    "duration": 19,
    "start_time": "2022-07-28T06:19:07.437Z"
   },
   {
    "duration": 7,
    "start_time": "2022-07-28T06:19:08.782Z"
   },
   {
    "duration": 8,
    "start_time": "2022-07-28T06:19:16.463Z"
   },
   {
    "duration": 59,
    "start_time": "2022-07-28T06:19:39.184Z"
   },
   {
    "duration": 228,
    "start_time": "2022-07-28T06:19:40.816Z"
   },
   {
    "duration": 234,
    "start_time": "2022-07-28T06:19:43.754Z"
   },
   {
    "duration": 61,
    "start_time": "2022-07-28T06:19:46.698Z"
   },
   {
    "duration": 105,
    "start_time": "2022-07-28T06:48:44.173Z"
   },
   {
    "duration": 62,
    "start_time": "2022-07-28T06:49:04.089Z"
   },
   {
    "duration": 10,
    "start_time": "2022-07-28T06:49:07.506Z"
   },
   {
    "duration": 169,
    "start_time": "2022-07-28T06:49:10.286Z"
   },
   {
    "duration": 32,
    "start_time": "2022-07-28T06:49:13.410Z"
   },
   {
    "duration": 133,
    "start_time": "2022-07-28T06:49:15.251Z"
   },
   {
    "duration": 167,
    "start_time": "2022-07-28T06:52:21.342Z"
   },
   {
    "duration": 171,
    "start_time": "2022-07-28T06:54:42.596Z"
   },
   {
    "duration": 26,
    "start_time": "2022-07-28T06:55:31.579Z"
   },
   {
    "duration": 25,
    "start_time": "2022-07-28T06:56:58.291Z"
   },
   {
    "duration": 29,
    "start_time": "2022-07-28T06:57:18.012Z"
   },
   {
    "duration": 157,
    "start_time": "2022-07-28T06:57:30.506Z"
   },
   {
    "duration": 99,
    "start_time": "2022-07-28T06:58:36.053Z"
   },
   {
    "duration": 169,
    "start_time": "2022-07-28T06:59:01.106Z"
   },
   {
    "duration": 16,
    "start_time": "2022-07-28T07:00:46.447Z"
   },
   {
    "duration": 79,
    "start_time": "2022-07-28T07:02:37.602Z"
   },
   {
    "duration": 150,
    "start_time": "2022-07-28T07:03:14.389Z"
   },
   {
    "duration": 147,
    "start_time": "2022-07-28T07:04:19.298Z"
   },
   {
    "duration": 156,
    "start_time": "2022-07-28T07:05:18.861Z"
   },
   {
    "duration": 162,
    "start_time": "2022-07-28T07:05:27.766Z"
   },
   {
    "duration": 182,
    "start_time": "2022-07-28T07:06:05.163Z"
   },
   {
    "duration": 175,
    "start_time": "2022-07-28T07:08:27.646Z"
   },
   {
    "duration": 175,
    "start_time": "2022-07-28T07:09:09.216Z"
   },
   {
    "duration": 11,
    "start_time": "2022-07-28T07:09:46.143Z"
   },
   {
    "duration": 10,
    "start_time": "2022-07-28T07:09:53.896Z"
   },
   {
    "duration": 11,
    "start_time": "2022-07-28T07:10:00.023Z"
   },
   {
    "duration": 11,
    "start_time": "2022-07-28T07:10:08.812Z"
   },
   {
    "duration": 264,
    "start_time": "2022-07-28T07:10:46.128Z"
   },
   {
    "duration": 202,
    "start_time": "2022-07-28T07:11:38.949Z"
   },
   {
    "duration": 159,
    "start_time": "2022-07-28T07:12:05.069Z"
   },
   {
    "duration": 167,
    "start_time": "2022-07-28T07:12:14.173Z"
   },
   {
    "duration": 12,
    "start_time": "2022-07-28T07:12:59.430Z"
   },
   {
    "duration": 11,
    "start_time": "2022-07-28T07:13:52.921Z"
   },
   {
    "duration": 11,
    "start_time": "2022-07-28T07:13:59.833Z"
   },
   {
    "duration": 188,
    "start_time": "2022-07-28T07:20:49.842Z"
   },
   {
    "duration": 10,
    "start_time": "2022-07-28T07:20:56.938Z"
   },
   {
    "duration": 11,
    "start_time": "2022-07-28T07:21:00.053Z"
   },
   {
    "duration": 12,
    "start_time": "2022-07-28T07:21:02.832Z"
   },
   {
    "duration": 139,
    "start_time": "2022-07-28T07:22:09.786Z"
   },
   {
    "duration": 158,
    "start_time": "2022-07-28T07:22:20.505Z"
   },
   {
    "duration": 4,
    "start_time": "2022-07-28T07:22:39.921Z"
   },
   {
    "duration": 773,
    "start_time": "2022-07-28T07:22:39.927Z"
   },
   {
    "duration": 97,
    "start_time": "2022-07-28T07:22:40.701Z"
   },
   {
    "duration": 89,
    "start_time": "2022-07-28T07:22:40.800Z"
   },
   {
    "duration": 215,
    "start_time": "2022-07-28T07:22:40.891Z"
   },
   {
    "duration": 104,
    "start_time": "2022-07-28T07:22:41.108Z"
   },
   {
    "duration": 162,
    "start_time": "2022-07-28T07:22:41.213Z"
   },
   {
    "duration": 127,
    "start_time": "2022-07-28T07:22:41.377Z"
   },
   {
    "duration": 87,
    "start_time": "2022-07-28T07:22:41.506Z"
   },
   {
    "duration": 144,
    "start_time": "2022-07-28T07:22:41.596Z"
   },
   {
    "duration": 97,
    "start_time": "2022-07-28T07:22:41.742Z"
   },
   {
    "duration": 353,
    "start_time": "2022-07-28T07:22:41.840Z"
   },
   {
    "duration": 350,
    "start_time": "2022-07-28T07:22:42.195Z"
   },
   {
    "duration": 750,
    "start_time": "2022-07-28T07:22:42.547Z"
   },
   {
    "duration": 40,
    "start_time": "2022-07-28T07:22:43.299Z"
   },
   {
    "duration": 136,
    "start_time": "2022-07-28T07:22:43.340Z"
   },
   {
    "duration": 6,
    "start_time": "2022-07-28T07:22:43.477Z"
   },
   {
    "duration": 106,
    "start_time": "2022-07-28T07:22:43.484Z"
   },
   {
    "duration": 6,
    "start_time": "2022-07-28T07:22:43.592Z"
   },
   {
    "duration": 134,
    "start_time": "2022-07-28T07:22:43.599Z"
   },
   {
    "duration": 1359,
    "start_time": "2022-07-28T07:22:43.734Z"
   },
   {
    "duration": 318,
    "start_time": "2022-07-28T07:22:45.095Z"
   },
   {
    "duration": 11,
    "start_time": "2022-07-28T07:22:45.415Z"
   },
   {
    "duration": 50,
    "start_time": "2022-07-28T07:22:45.427Z"
   },
   {
    "duration": 450,
    "start_time": "2022-07-28T07:22:45.479Z"
   },
   {
    "duration": 123,
    "start_time": "2022-07-28T07:22:45.931Z"
   },
   {
    "duration": 134,
    "start_time": "2022-07-28T07:22:46.056Z"
   },
   {
    "duration": 18,
    "start_time": "2022-07-28T07:22:46.194Z"
   },
   {
    "duration": 7,
    "start_time": "2022-07-28T07:22:46.214Z"
   },
   {
    "duration": 8,
    "start_time": "2022-07-28T07:22:46.223Z"
   },
   {
    "duration": 86,
    "start_time": "2022-07-28T07:22:46.232Z"
   },
   {
    "duration": 241,
    "start_time": "2022-07-28T07:22:46.320Z"
   },
   {
    "duration": 253,
    "start_time": "2022-07-28T07:22:46.573Z"
   },
   {
    "duration": 69,
    "start_time": "2022-07-28T07:22:46.827Z"
   },
   {
    "duration": 11,
    "start_time": "2022-07-28T07:22:46.897Z"
   },
   {
    "duration": 159,
    "start_time": "2022-07-28T07:22:46.910Z"
   },
   {
    "duration": 34,
    "start_time": "2022-07-28T07:22:47.072Z"
   },
   {
    "duration": 115,
    "start_time": "2022-07-28T07:22:47.107Z"
   },
   {
    "duration": 111,
    "start_time": "2022-07-28T07:22:47.223Z"
   },
   {
    "duration": 177,
    "start_time": "2022-07-28T07:22:47.336Z"
   },
   {
    "duration": 12,
    "start_time": "2022-07-28T07:22:47.515Z"
   },
   {
    "duration": 203,
    "start_time": "2022-07-28T07:23:04.421Z"
   },
   {
    "duration": 157,
    "start_time": "2022-07-28T07:23:34.634Z"
   },
   {
    "duration": 193,
    "start_time": "2022-07-28T07:24:01.739Z"
   },
   {
    "duration": 165,
    "start_time": "2022-07-28T07:25:12.603Z"
   },
   {
    "duration": 14,
    "start_time": "2022-07-28T07:25:16.161Z"
   },
   {
    "duration": 11,
    "start_time": "2022-07-28T07:25:16.837Z"
   },
   {
    "duration": 11,
    "start_time": "2022-07-28T07:25:17.477Z"
   },
   {
    "duration": 281,
    "start_time": "2022-07-28T07:26:13.822Z"
   },
   {
    "duration": 9,
    "start_time": "2022-07-28T07:26:36.350Z"
   },
   {
    "duration": 83,
    "start_time": "2022-07-28T07:27:16.146Z"
   },
   {
    "duration": 3,
    "start_time": "2022-07-28T07:28:04.922Z"
   },
   {
    "duration": 3,
    "start_time": "2022-07-28T07:28:06.476Z"
   },
   {
    "duration": 571868,
    "start_time": "2022-07-28T07:28:10.101Z"
   },
   {
    "duration": 3,
    "start_time": "2022-07-28T07:41:32.700Z"
   },
   {
    "duration": 5,
    "start_time": "2022-07-28T07:41:35.220Z"
   },
   {
    "duration": 122855,
    "start_time": "2022-07-28T07:41:45.996Z"
   },
   {
    "duration": 450,
    "start_time": "2022-07-28T07:43:48.852Z"
   },
   {
    "duration": 4,
    "start_time": "2022-07-28T07:43:49.304Z"
   },
   {
    "duration": 90713,
    "start_time": "2022-07-28T07:43:49.310Z"
   },
   {
    "duration": 9,
    "start_time": "2022-07-28T07:45:20.025Z"
   },
   {
    "duration": 0,
    "start_time": "2022-07-28T07:45:20.036Z"
   },
   {
    "duration": 0,
    "start_time": "2022-07-28T07:45:20.037Z"
   },
   {
    "duration": 4,
    "start_time": "2022-07-28T07:45:24.619Z"
   },
   {
    "duration": 802,
    "start_time": "2022-07-28T07:45:24.626Z"
   },
   {
    "duration": 98,
    "start_time": "2022-07-28T07:45:25.430Z"
   },
   {
    "duration": 88,
    "start_time": "2022-07-28T07:45:25.530Z"
   },
   {
    "duration": 215,
    "start_time": "2022-07-28T07:45:25.620Z"
   },
   {
    "duration": 103,
    "start_time": "2022-07-28T07:45:25.837Z"
   },
   {
    "duration": 177,
    "start_time": "2022-07-28T07:45:25.942Z"
   },
   {
    "duration": 110,
    "start_time": "2022-07-28T07:45:26.120Z"
   },
   {
    "duration": 73,
    "start_time": "2022-07-28T07:45:26.232Z"
   },
   {
    "duration": 144,
    "start_time": "2022-07-28T07:45:26.307Z"
   },
   {
    "duration": 93,
    "start_time": "2022-07-28T07:45:26.453Z"
   },
   {
    "duration": 372,
    "start_time": "2022-07-28T07:45:26.547Z"
   },
   {
    "duration": 380,
    "start_time": "2022-07-28T07:45:26.921Z"
   },
   {
    "duration": 756,
    "start_time": "2022-07-28T07:45:27.303Z"
   },
   {
    "duration": 42,
    "start_time": "2022-07-28T07:45:28.061Z"
   },
   {
    "duration": 137,
    "start_time": "2022-07-28T07:45:28.105Z"
   },
   {
    "duration": 6,
    "start_time": "2022-07-28T07:45:28.244Z"
   },
   {
    "duration": 102,
    "start_time": "2022-07-28T07:45:28.251Z"
   },
   {
    "duration": 6,
    "start_time": "2022-07-28T07:45:28.355Z"
   },
   {
    "duration": 137,
    "start_time": "2022-07-28T07:45:28.362Z"
   },
   {
    "duration": 1345,
    "start_time": "2022-07-28T07:45:28.500Z"
   },
   {
    "duration": 438,
    "start_time": "2022-07-28T07:45:29.846Z"
   },
   {
    "duration": 11,
    "start_time": "2022-07-28T07:45:30.286Z"
   },
   {
    "duration": 42,
    "start_time": "2022-07-28T07:45:30.300Z"
   },
   {
    "duration": 409,
    "start_time": "2022-07-28T07:45:30.343Z"
   },
   {
    "duration": 186,
    "start_time": "2022-07-28T07:45:30.753Z"
   },
   {
    "duration": 181,
    "start_time": "2022-07-28T07:45:30.941Z"
   },
   {
    "duration": 18,
    "start_time": "2022-07-28T07:45:31.123Z"
   },
   {
    "duration": 22,
    "start_time": "2022-07-28T07:45:31.142Z"
   },
   {
    "duration": 18,
    "start_time": "2022-07-28T07:45:31.165Z"
   },
   {
    "duration": 64,
    "start_time": "2022-07-28T07:45:31.185Z"
   },
   {
    "duration": 241,
    "start_time": "2022-07-28T07:45:31.251Z"
   },
   {
    "duration": 296,
    "start_time": "2022-07-28T07:45:31.494Z"
   },
   {
    "duration": 82,
    "start_time": "2022-07-28T07:45:31.791Z"
   },
   {
    "duration": 13,
    "start_time": "2022-07-28T07:45:31.875Z"
   },
   {
    "duration": 152,
    "start_time": "2022-07-28T07:45:31.890Z"
   },
   {
    "duration": 39,
    "start_time": "2022-07-28T07:45:32.044Z"
   },
   {
    "duration": 119,
    "start_time": "2022-07-28T07:45:32.085Z"
   },
   {
    "duration": 129,
    "start_time": "2022-07-28T07:45:32.206Z"
   },
   {
    "duration": 194,
    "start_time": "2022-07-28T07:45:32.336Z"
   },
   {
    "duration": 13,
    "start_time": "2022-07-28T07:45:32.532Z"
   },
   {
    "duration": 250,
    "start_time": "2022-07-28T07:45:32.547Z"
   },
   {
    "duration": 12,
    "start_time": "2022-07-28T07:45:32.799Z"
   },
   {
    "duration": 24,
    "start_time": "2022-07-28T07:45:32.812Z"
   },
   {
    "duration": 14,
    "start_time": "2022-07-28T07:45:32.837Z"
   },
   {
    "duration": 286,
    "start_time": "2022-07-28T07:45:32.852Z"
   },
   {
    "duration": 8,
    "start_time": "2022-07-28T07:45:33.140Z"
   },
   {
    "duration": 74,
    "start_time": "2022-07-28T07:45:33.150Z"
   },
   {
    "duration": 5,
    "start_time": "2022-07-28T07:45:33.226Z"
   },
   {
    "duration": 8,
    "start_time": "2022-07-28T07:45:33.233Z"
   },
   {
    "duration": 578980,
    "start_time": "2022-07-28T07:45:33.243Z"
   },
   {
    "duration": 4,
    "start_time": "2022-07-28T07:55:12.224Z"
   },
   {
    "duration": 7,
    "start_time": "2022-07-28T07:55:12.229Z"
   },
   {
    "duration": 115965,
    "start_time": "2022-07-28T07:55:12.237Z"
   },
   {
    "duration": 436,
    "start_time": "2022-07-28T07:57:08.204Z"
   },
   {
    "duration": 4,
    "start_time": "2022-07-28T07:57:08.642Z"
   },
   {
    "duration": 419165,
    "start_time": "2022-07-28T07:57:08.647Z"
   },
   {
    "duration": 3,
    "start_time": "2022-07-28T08:04:07.814Z"
   },
   {
    "duration": 3832,
    "start_time": "2022-07-28T08:04:07.819Z"
   },
   {
    "duration": 6,
    "start_time": "2022-07-28T08:04:11.653Z"
   },
   {
    "duration": 16,
    "start_time": "2022-07-28T08:04:11.661Z"
   },
   {
    "duration": 5,
    "start_time": "2022-07-28T08:04:11.679Z"
   },
   {
    "duration": 162615,
    "start_time": "2022-07-28T08:04:11.685Z"
   },
   {
    "duration": 429,
    "start_time": "2022-07-28T08:06:54.375Z"
   },
   {
    "duration": 54,
    "start_time": "2022-07-28T08:06:54.806Z"
   },
   {
    "duration": 17,
    "start_time": "2022-07-28T08:06:54.862Z"
   },
   {
    "duration": 5,
    "start_time": "2022-07-28T09:54:12.673Z"
   },
   {
    "duration": 11,
    "start_time": "2022-07-28T09:58:39.446Z"
   },
   {
    "duration": 31,
    "start_time": "2022-07-28T09:59:20.362Z"
   },
   {
    "duration": 40,
    "start_time": "2022-07-28T09:59:40.293Z"
   },
   {
    "duration": 51,
    "start_time": "2022-07-28T09:59:58.965Z"
   },
   {
    "duration": 50,
    "start_time": "2022-07-28T10:02:53.627Z"
   },
   {
    "duration": 59,
    "start_time": "2022-07-28T10:04:16.645Z"
   },
   {
    "duration": 155608,
    "start_time": "2022-07-28T10:04:33.275Z"
   },
   {
    "duration": 438,
    "start_time": "2022-07-28T10:07:21.106Z"
   },
   {
    "duration": 128,
    "start_time": "2022-07-28T10:12:29.827Z"
   },
   {
    "duration": 50,
    "start_time": "2022-07-28T10:14:46.576Z"
   },
   {
    "duration": 11,
    "start_time": "2022-07-28T10:16:24.993Z"
   },
   {
    "duration": 3,
    "start_time": "2022-07-28T10:16:44.005Z"
   },
   {
    "duration": 90,
    "start_time": "2022-07-28T10:17:10.179Z"
   },
   {
    "duration": 3,
    "start_time": "2022-07-28T10:19:26.731Z"
   },
   {
    "duration": 128097,
    "start_time": "2022-07-28T10:19:27.678Z"
   },
   {
    "duration": 3402,
    "start_time": "2022-07-28T10:32:08.104Z"
   },
   {
    "duration": 30,
    "start_time": "2022-07-28T10:33:00.364Z"
   },
   {
    "duration": 5,
    "start_time": "2022-07-28T10:34:47.832Z"
   },
   {
    "duration": 3,
    "start_time": "2022-07-28T10:34:56.635Z"
   },
   {
    "duration": 3175,
    "start_time": "2022-07-28T10:35:46.631Z"
   },
   {
    "duration": 1847,
    "start_time": "2022-08-01T06:59:45.168Z"
   },
   {
    "duration": 3162,
    "start_time": "2022-08-01T06:59:47.018Z"
   },
   {
    "duration": 146,
    "start_time": "2022-08-01T06:59:50.182Z"
   },
   {
    "duration": 115,
    "start_time": "2022-08-01T06:59:50.330Z"
   },
   {
    "duration": 287,
    "start_time": "2022-08-01T06:59:50.447Z"
   },
   {
    "duration": 142,
    "start_time": "2022-08-01T06:59:50.736Z"
   },
   {
    "duration": 226,
    "start_time": "2022-08-01T06:59:50.880Z"
   },
   {
    "duration": 210,
    "start_time": "2022-08-01T06:59:51.107Z"
   },
   {
    "duration": 92,
    "start_time": "2022-08-01T06:59:51.319Z"
   },
   {
    "duration": 208,
    "start_time": "2022-08-01T06:59:51.414Z"
   },
   {
    "duration": 142,
    "start_time": "2022-08-01T06:59:51.624Z"
   },
   {
    "duration": 544,
    "start_time": "2022-08-01T06:59:51.768Z"
   },
   {
    "duration": 551,
    "start_time": "2022-08-01T06:59:52.314Z"
   },
   {
    "duration": 1046,
    "start_time": "2022-08-01T06:59:52.867Z"
   },
   {
    "duration": 41,
    "start_time": "2022-08-01T06:59:53.915Z"
   },
   {
    "duration": 190,
    "start_time": "2022-08-01T06:59:53.958Z"
   },
   {
    "duration": 6,
    "start_time": "2022-08-01T06:59:54.150Z"
   },
   {
    "duration": 144,
    "start_time": "2022-08-01T06:59:54.158Z"
   },
   {
    "duration": 9,
    "start_time": "2022-08-01T06:59:54.304Z"
   },
   {
    "duration": 179,
    "start_time": "2022-08-01T06:59:54.315Z"
   },
   {
    "duration": 1818,
    "start_time": "2022-08-01T06:59:54.496Z"
   },
   {
    "duration": 437,
    "start_time": "2022-08-01T06:59:56.316Z"
   },
   {
    "duration": 14,
    "start_time": "2022-08-01T06:59:56.754Z"
   },
   {
    "duration": 72,
    "start_time": "2022-08-01T06:59:56.770Z"
   },
   {
    "duration": 468,
    "start_time": "2022-08-01T06:59:56.844Z"
   },
   {
    "duration": 153,
    "start_time": "2022-08-01T06:59:57.314Z"
   },
   {
    "duration": 243,
    "start_time": "2022-08-01T06:59:57.469Z"
   },
   {
    "duration": 23,
    "start_time": "2022-08-01T06:59:57.716Z"
   },
   {
    "duration": 9,
    "start_time": "2022-08-01T06:59:57.740Z"
   },
   {
    "duration": 11,
    "start_time": "2022-08-01T06:59:57.751Z"
   },
   {
    "duration": 114,
    "start_time": "2022-08-01T06:59:57.764Z"
   },
   {
    "duration": 336,
    "start_time": "2022-08-01T06:59:57.880Z"
   },
   {
    "duration": 337,
    "start_time": "2022-08-01T06:59:58.218Z"
   },
   {
    "duration": 109,
    "start_time": "2022-08-01T06:59:58.558Z"
   },
   {
    "duration": 12,
    "start_time": "2022-08-01T06:59:58.669Z"
   },
   {
    "duration": 209,
    "start_time": "2022-08-01T06:59:58.683Z"
   },
   {
    "duration": 38,
    "start_time": "2022-08-01T06:59:58.894Z"
   },
   {
    "duration": 179,
    "start_time": "2022-08-01T06:59:58.934Z"
   },
   {
    "duration": 142,
    "start_time": "2022-08-01T06:59:59.114Z"
   },
   {
    "duration": 237,
    "start_time": "2022-08-01T06:59:59.258Z"
   },
   {
    "duration": 21,
    "start_time": "2022-08-01T06:59:59.497Z"
   },
   {
    "duration": 311,
    "start_time": "2022-08-01T06:59:59.520Z"
   },
   {
    "duration": 13,
    "start_time": "2022-08-01T06:59:59.833Z"
   },
   {
    "duration": 18,
    "start_time": "2022-08-01T06:59:59.848Z"
   },
   {
    "duration": 17,
    "start_time": "2022-08-01T06:59:59.867Z"
   },
   {
    "duration": 414,
    "start_time": "2022-08-01T06:59:59.886Z"
   },
   {
    "duration": 16,
    "start_time": "2022-08-01T07:00:00.302Z"
   },
   {
    "duration": 112,
    "start_time": "2022-08-01T07:00:00.320Z"
   },
   {
    "duration": 4,
    "start_time": "2022-08-01T07:00:00.434Z"
   },
   {
    "duration": 12,
    "start_time": "2022-08-01T07:00:00.440Z"
   },
   {
    "duration": 753725,
    "start_time": "2022-08-01T07:00:00.454Z"
   },
   {
    "duration": 5,
    "start_time": "2022-08-01T07:12:34.181Z"
   },
   {
    "duration": 16,
    "start_time": "2022-08-01T07:12:34.188Z"
   },
   {
    "duration": 146027,
    "start_time": "2022-08-01T07:12:34.206Z"
   },
   {
    "duration": 529,
    "start_time": "2022-08-01T07:15:00.234Z"
   },
   {
    "duration": 5,
    "start_time": "2022-08-01T07:15:00.765Z"
   },
   {
    "duration": 544329,
    "start_time": "2022-08-01T07:15:00.772Z"
   },
   {
    "duration": 9,
    "start_time": "2022-08-01T07:24:05.102Z"
   },
   {
    "duration": 4304,
    "start_time": "2022-08-01T07:24:05.113Z"
   },
   {
    "duration": 6,
    "start_time": "2022-08-01T07:24:09.419Z"
   },
   {
    "duration": 9,
    "start_time": "2022-08-01T07:24:09.427Z"
   },
   {
    "duration": 4,
    "start_time": "2022-08-01T07:24:09.438Z"
   },
   {
    "duration": 288567,
    "start_time": "2022-08-01T07:24:09.444Z"
   },
   {
    "duration": 498,
    "start_time": "2022-08-01T07:28:58.013Z"
   },
   {
    "duration": 6,
    "start_time": "2022-08-01T07:28:58.513Z"
   },
   {
    "duration": 26,
    "start_time": "2022-08-01T07:28:58.520Z"
   },
   {
    "duration": 81,
    "start_time": "2022-08-01T07:28:58.548Z"
   },
   {
    "duration": 192977,
    "start_time": "2022-08-01T07:28:58.631Z"
   },
   {
    "duration": 580,
    "start_time": "2022-08-01T07:32:11.610Z"
   },
   {
    "duration": 3,
    "start_time": "2022-08-01T07:32:12.193Z"
   },
   {
    "duration": 165235,
    "start_time": "2022-08-01T07:32:12.197Z"
   },
   {
    "duration": 4406,
    "start_time": "2022-08-01T07:34:57.433Z"
   },
   {
    "duration": 4,
    "start_time": "2022-08-01T07:35:01.842Z"
   },
   {
    "duration": 25,
    "start_time": "2022-08-01T07:35:01.848Z"
   },
   {
    "duration": 289648,
    "start_time": "2022-08-01T07:35:01.876Z"
   },
   {
    "duration": 600,
    "start_time": "2022-08-01T07:39:51.526Z"
   },
   {
    "duration": 7,
    "start_time": "2022-08-01T07:39:52.128Z"
   },
   {
    "duration": 11,
    "start_time": "2022-08-01T08:18:21.552Z"
   },
   {
    "duration": 16,
    "start_time": "2022-08-01T08:19:24.455Z"
   },
   {
    "duration": 1494,
    "start_time": "2022-08-02T09:13:40.554Z"
   },
   {
    "duration": 2908,
    "start_time": "2022-08-02T09:13:42.050Z"
   },
   {
    "duration": 103,
    "start_time": "2022-08-02T09:13:44.959Z"
   },
   {
    "duration": 140,
    "start_time": "2022-08-02T09:13:45.064Z"
   },
   {
    "duration": 237,
    "start_time": "2022-08-02T09:13:45.206Z"
   },
   {
    "duration": 111,
    "start_time": "2022-08-02T09:13:45.444Z"
   },
   {
    "duration": 171,
    "start_time": "2022-08-02T09:13:45.557Z"
   },
   {
    "duration": 169,
    "start_time": "2022-08-02T09:13:45.730Z"
   },
   {
    "duration": 84,
    "start_time": "2022-08-02T09:13:45.900Z"
   },
   {
    "duration": 147,
    "start_time": "2022-08-02T09:13:45.986Z"
   },
   {
    "duration": 96,
    "start_time": "2022-08-02T09:13:46.135Z"
   },
   {
    "duration": 394,
    "start_time": "2022-08-02T09:13:46.233Z"
   },
   {
    "duration": 385,
    "start_time": "2022-08-02T09:13:46.630Z"
   },
   {
    "duration": 936,
    "start_time": "2022-08-02T09:13:47.017Z"
   },
   {
    "duration": 44,
    "start_time": "2022-08-02T09:13:47.955Z"
   },
   {
    "duration": 133,
    "start_time": "2022-08-02T09:13:48.000Z"
   },
   {
    "duration": 5,
    "start_time": "2022-08-02T09:13:48.135Z"
   },
   {
    "duration": 105,
    "start_time": "2022-08-02T09:13:48.141Z"
   },
   {
    "duration": 6,
    "start_time": "2022-08-02T09:13:48.248Z"
   },
   {
    "duration": 142,
    "start_time": "2022-08-02T09:13:48.255Z"
   },
   {
    "duration": 1451,
    "start_time": "2022-08-02T09:13:48.399Z"
   },
   {
    "duration": 351,
    "start_time": "2022-08-02T09:13:49.851Z"
   },
   {
    "duration": 12,
    "start_time": "2022-08-02T09:13:50.203Z"
   },
   {
    "duration": 62,
    "start_time": "2022-08-02T09:13:50.216Z"
   },
   {
    "duration": 379,
    "start_time": "2022-08-02T09:13:50.279Z"
   },
   {
    "duration": 126,
    "start_time": "2022-08-02T09:13:50.660Z"
   },
   {
    "duration": 207,
    "start_time": "2022-08-02T09:13:50.787Z"
   },
   {
    "duration": 20,
    "start_time": "2022-08-02T09:13:50.998Z"
   },
   {
    "duration": 15,
    "start_time": "2022-08-02T09:13:51.020Z"
   },
   {
    "duration": 7,
    "start_time": "2022-08-02T09:13:51.037Z"
   },
   {
    "duration": 58,
    "start_time": "2022-08-02T09:13:51.046Z"
   },
   {
    "duration": 255,
    "start_time": "2022-08-02T09:13:51.106Z"
   },
   {
    "duration": 270,
    "start_time": "2022-08-02T09:13:51.363Z"
   },
   {
    "duration": 65,
    "start_time": "2022-08-02T09:13:51.634Z"
   },
   {
    "duration": 11,
    "start_time": "2022-08-02T09:13:51.700Z"
   },
   {
    "duration": 210,
    "start_time": "2022-08-02T09:13:51.712Z"
   },
   {
    "duration": 36,
    "start_time": "2022-08-02T09:13:51.924Z"
   },
   {
    "duration": 129,
    "start_time": "2022-08-02T09:13:51.961Z"
   },
   {
    "duration": 128,
    "start_time": "2022-08-02T09:13:52.092Z"
   },
   {
    "duration": 201,
    "start_time": "2022-08-02T09:13:52.221Z"
   },
   {
    "duration": 17,
    "start_time": "2022-08-02T09:13:52.423Z"
   },
   {
    "duration": 267,
    "start_time": "2022-08-02T09:13:52.441Z"
   },
   {
    "duration": 12,
    "start_time": "2022-08-02T09:13:52.709Z"
   },
   {
    "duration": 15,
    "start_time": "2022-08-02T09:13:52.722Z"
   },
   {
    "duration": 16,
    "start_time": "2022-08-02T09:13:52.738Z"
   },
   {
    "duration": 312,
    "start_time": "2022-08-02T09:13:52.756Z"
   },
   {
    "duration": 11,
    "start_time": "2022-08-02T09:13:53.070Z"
   },
   {
    "duration": 88,
    "start_time": "2022-08-02T09:13:53.082Z"
   },
   {
    "duration": 3,
    "start_time": "2022-08-02T09:13:53.172Z"
   },
   {
    "duration": 11,
    "start_time": "2022-08-02T09:13:53.176Z"
   },
   {
    "duration": 585306,
    "start_time": "2022-08-02T09:13:53.188Z"
   },
   {
    "duration": 4,
    "start_time": "2022-08-02T09:23:38.496Z"
   },
   {
    "duration": 31,
    "start_time": "2022-08-02T09:23:38.502Z"
   },
   {
    "duration": 117319,
    "start_time": "2022-08-02T09:23:38.535Z"
   },
   {
    "duration": 413,
    "start_time": "2022-08-02T09:25:35.856Z"
   },
   {
    "duration": 3,
    "start_time": "2022-08-02T09:25:36.271Z"
   },
   {
    "duration": 414496,
    "start_time": "2022-08-02T09:25:36.275Z"
   },
   {
    "duration": 3,
    "start_time": "2022-08-02T09:32:30.773Z"
   },
   {
    "duration": 3355,
    "start_time": "2022-08-02T09:32:30.777Z"
   },
   {
    "duration": 5,
    "start_time": "2022-08-02T09:32:34.133Z"
   },
   {
    "duration": 6,
    "start_time": "2022-08-02T09:32:34.139Z"
   },
   {
    "duration": 6,
    "start_time": "2022-08-02T09:32:34.146Z"
   },
   {
    "duration": 6584,
    "start_time": "2022-08-02T09:32:34.153Z"
   },
   {
    "duration": 404,
    "start_time": "2022-08-02T09:32:40.739Z"
   },
   {
    "duration": 4,
    "start_time": "2022-08-02T09:32:41.145Z"
   },
   {
    "duration": 10,
    "start_time": "2022-08-02T11:00:54.298Z"
   },
   {
    "duration": 186,
    "start_time": "2022-08-02T11:01:26.769Z"
   },
   {
    "duration": 26,
    "start_time": "2022-08-02T11:04:27.442Z"
   },
   {
    "duration": 163901,
    "start_time": "2022-08-02T11:04:32.542Z"
   },
   {
    "duration": 476,
    "start_time": "2022-08-02T11:07:51.671Z"
   }
  ],
  "kernelspec": {
   "display_name": "Python 3 (ipykernel)",
   "language": "python",
   "name": "python3"
  },
  "language_info": {
   "codemirror_mode": {
    "name": "ipython",
    "version": 3
   },
   "file_extension": ".py",
   "mimetype": "text/x-python",
   "name": "python",
   "nbconvert_exporter": "python",
   "pygments_lexer": "ipython3",
   "version": "3.9.7"
  },
  "toc": {
   "base_numbering": 1,
   "nav_menu": {},
   "number_sections": true,
   "sideBar": true,
   "skip_h1_title": true,
   "title_cell": "Table of Contents",
   "title_sidebar": "Contents",
   "toc_cell": false,
   "toc_position": {
    "height": "calc(100% - 180px)",
    "left": "10px",
    "top": "150px",
    "width": "331.449px"
   },
   "toc_section_display": true,
   "toc_window_display": true
  }
 },
 "nbformat": 4,
 "nbformat_minor": 2
}
